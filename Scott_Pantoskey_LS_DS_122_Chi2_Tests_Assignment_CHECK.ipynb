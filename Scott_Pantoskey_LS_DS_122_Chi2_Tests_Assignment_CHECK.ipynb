{
  "nbformat": 4,
  "nbformat_minor": 0,
  "metadata": {
    "colab": {
      "name": "Scott_Pantoskey_LS_DS_122_Chi2_Tests_Assignment_CHECK.ipynb",
      "provenance": [],
      "collapsed_sections": [],
      "include_colab_link": true
    },
    "kernelspec": {
      "name": "python3",
      "display_name": "Python 3"
    }
  },
  "cells": [
    {
      "cell_type": "markdown",
      "metadata": {
        "id": "view-in-github",
        "colab_type": "text"
      },
      "source": [
        "<a href=\"https://colab.research.google.com/github/spantoskey/DS-Unit-1-Sprint-1-Data-Wrangling-and-Storytelling/blob/master/Scott_Pantoskey_LS_DS_122_Chi2_Tests_Assignment_CHECK.ipynb\" target=\"_parent\"><img src=\"https://colab.research.google.com/assets/colab-badge.svg\" alt=\"Open In Colab\"/></a>"
      ]
    },
    {
      "cell_type": "markdown",
      "metadata": {
        "id": "11OzdxWTM7UR"
      },
      "source": [
        "# Lambda School Data Science - Unit 1 Sprint 2 Module 2\n",
        "\n",
        "---\n",
        "\n",
        "## Assignment: Hypothesis Testing (chi-square tests)\n"
      ]
    },
    {
      "cell_type": "markdown",
      "metadata": {
        "id": "ceuawtROodfW"
      },
      "source": [
        "# Objectives\n",
        "\n",
        "* Objective 01 - explain the purpose of a chi-square test and identify applications\n",
        "* Objective 02 - set up a chi-square test for independence on two categorical variables\n",
        "* Objective 03 - use a chi-square test p-value to draw the correct conclusion about the null and alternative hypothesis\n",
        "* Objective 04 - explain how to compare the null hypothesis and sample and how randomness in the sampling process affect the result\n",
        "\n"
      ]
    },
    {
      "cell_type": "markdown",
      "metadata": {
        "id": "Q6x9gnZ4mY84"
      },
      "source": [
        "\n",
        "\n",
        "### Dataset description:\n",
        "\n",
        "Slasher movies thrill audiences by portraying a lone antagonist (typically male) who attacks innocent victims with extreme violence and without apparent motive. However, this exciting (if gory) subgenre of horror film is criticized by those who view the violence as being used to “punish” female characters who engage in sexual activity during the film. \n",
        "\n",
        "To test this claim, study authors randomly sampled 50 North American slasher films released from 1960 to 2009 and coded the 485 characters appearing in them as being male or female, involved in sexual activity or not, and if they survived the film or not. \n",
        "\n",
        "The data appears in the Slasher.csv dataset. In this project, we are going to answer a slightly simpler question: Are female characters in slasher films more likely to be \"murdered\" than male characters?\n",
        "\n",
        "Source: A. Welsh (2010). \"On the Perils of Living Dangerously in the Slasher Horror Film: Gender Differences in the Association Between Sexual Activity and Survival,\" Sex Roles, Vol. 62 pp. 762-773\n",
        "\n",
        "You can find the Slasher.csv file here:\n",
        "\n",
        "<https://raw.githubusercontent.com/Chelsea-Myers/Lambda-Intro/master/Slasher.csv>\n",
        "\n"
      ]
    },
    {
      "cell_type": "markdown",
      "metadata": {
        "id": "QnqpG9fOaUy-"
      },
      "source": [
        "### 1) Load the Slasher.csv dataset in a new dataframe. \n",
        "\n",
        "* Call your DataFrame `slasher_df`\n",
        "* set `skipinitialspace=True`\n",
        "* set `header=0`\n"
      ]
    },
    {
      "cell_type": "code",
      "metadata": {
        "id": "UQwvrhn7m3Mn",
        "outputId": "a19f3f2b-b2b6-4cc9-b778-71a0b92940d0",
        "colab": {
          "base_uri": "https://localhost:8080/"
        }
      },
      "source": [
        "# Imports (we won't provide these for every assignment!)\n",
        "import pandas as pd\n",
        "import numpy as np\n",
        "\n",
        "# Load the dataset\n",
        "\n",
        "### your code here ###\n",
        "slasher_df = pd.read_csv('https://raw.githubusercontent.com/Chelsea-Myers/Lambda-Intro/master/Slasher.csv',skipinitialspace=0, header=0)\n",
        "\n",
        "print(slasher_df.head())"
      ],
      "execution_count": null,
      "outputs": [
        {
          "output_type": "stream",
          "text": [
            "   ID  Gender  Activity  Survival\n",
            "0   1       1         1         1\n",
            "1   2       1         1         1\n",
            "2   3       1         1         1\n",
            "3   4       1         1         1\n",
            "4   5       1         1         1\n"
          ],
          "name": "stdout"
        }
      ]
    },
    {
      "cell_type": "markdown",
      "metadata": {
        "id": "OoCPEb_uKjHU"
      },
      "source": [
        "### Answer checks\n",
        "\n",
        "We're going to continue using the assert statements we used in the Module 1 Project (assignment) to check our work. The cells with the `assert` statements can be skipped or deleted but you should try to leave them in. Remember - it's a way to check your work as you go through this Module Project and also get some feedback if you have an error."
      ]
    },
    {
      "cell_type": "markdown",
      "metadata": {
        "id": "llP1_XV0ak8C"
      },
      "source": [
        "###2) Display the top 5 rows of the dataframe to take a look at the variable names and values."
      ]
    },
    {
      "cell_type": "code",
      "metadata": {
        "id": "Ws10E-kqayJZ",
        "outputId": "81340365-e8f1-4d7a-e1b7-ef065f586e67",
        "colab": {
          "base_uri": "https://localhost:8080/"
        }
      },
      "source": [
        "### your code here ###\n",
        "print(slasher_df.head())"
      ],
      "execution_count": null,
      "outputs": [
        {
          "output_type": "stream",
          "text": [
            "   ID  Gender  Activity  Survival\n",
            "0   1       1         1         1\n",
            "1   2       1         1         1\n",
            "2   3       1         1         1\n",
            "3   4       1         1         1\n",
            "4   5       1         1         1\n"
          ],
          "name": "stdout"
        }
      ]
    },
    {
      "cell_type": "code",
      "metadata": {
        "id": "hOcou0czLF6l",
        "outputId": "56d7c2e7-46d6-47f3-a0a2-1a855fc8f07d",
        "colab": {
          "base_uri": "https://localhost:8080/"
        }
      },
      "source": [
        "# This is an ANSWER CHECK cell.\n",
        "# Don't alter this cell if you want accurate feedback\n",
        "#------------------------------------------------------------------------------#\n",
        "\n",
        "# check if the DataFrame was created\n",
        "assert not slasher_df.empty, 'Make sure the df name is accurate and you loaded the correct URL.'\n",
        "# check the shape of the DataFrame\n",
        "assert slasher_df.shape == (485, 4), 'Is your data loaded with the correct argument?'\n",
        "print('Correct! Continue to the next question')"
      ],
      "execution_count": null,
      "outputs": [
        {
          "output_type": "stream",
          "text": [
            "Correct! Continue to the next question\n"
          ],
          "name": "stdout"
        }
      ]
    },
    {
      "cell_type": "markdown",
      "metadata": {
        "id": "PAHPjE4Ea52w"
      },
      "source": [
        "In this dataset, the variable codes are:\n",
        "\n",
        "* ID = Character ID\n",
        "* Gender = Character gender.  0 = female, 1 = male\n",
        "* Activity = Character was portrayed as engaged in sexual activity.  0 = no, 1 = yes\n",
        "* Survival = Character survival in the film. 0 = did not survive, 1 = survived"
      ]
    },
    {
      "cell_type": "markdown",
      "metadata": {
        "id": "pabzhfvLbdFZ"
      },
      "source": [
        "###3) Calculate the frequency and relative frequency of male and female characters in this set of slasher films.  Describe your results in a sentence or two and use your results to answer the question below."
      ]
    },
    {
      "cell_type": "code",
      "metadata": {
        "id": "9gIQaRsQbt77",
        "outputId": "4785ea7d-208e-401f-cf1b-7ed5ff4ba372",
        "colab": {
          "base_uri": "https://localhost:8080/"
        }
      },
      "source": [
        "### your code here ###\n",
        "\n",
        "gender_frequency = pd.crosstab(index=slasher_df['Gender'],columns = 'count')\n",
        "relative_frequency = gender_frequency/gender_frequency.sum()*100\n",
        "print(relative_frequency)"
      ],
      "execution_count": null,
      "outputs": [
        {
          "output_type": "stream",
          "text": [
            "col_0       count\n",
            "Gender           \n",
            "0       54.226804\n",
            "1       45.773196\n"
          ],
          "name": "stdout"
        }
      ]
    },
    {
      "cell_type": "markdown",
      "metadata": {
        "id": "ozFYFgE8JgXn"
      },
      "source": [
        "QUIZ: What percentage of the characters are **female** (gender = 0)? Run the cell below, and enter your percentage (*rounded to the nearest whole number*). Then run the QUIZ CHECK cell.\n",
        "\n",
        "---\n",
        "\n"
      ]
    },
    {
      "cell_type": "code",
      "metadata": {
        "id": "quYGdZz5J-s7",
        "outputId": "067bb27a-7d6e-4d6c-c080-776058d9ec13",
        "colab": {
          "base_uri": "https://localhost:8080/"
        }
      },
      "source": [
        "# This is an QUIZ cell. Run the cell, enter your answer.\n",
        "# Don't alter this cell if you want accurate feedback\n",
        "#------------------------------------------------------------------------------#\n",
        "female_percent = input()"
      ],
      "execution_count": null,
      "outputs": [
        {
          "output_type": "stream",
          "text": [
            "54\n"
          ],
          "name": "stdout"
        }
      ]
    },
    {
      "cell_type": "code",
      "metadata": {
        "id": "EKbpo1IJexVw",
        "outputId": "e169053e-f6be-4ddb-8459-a394738b8098",
        "colab": {
          "base_uri": "https://localhost:8080/"
        }
      },
      "source": [
        "# QUIZ CHECK cell\n",
        "#------------------------------------------------------------------------------#\n",
        "assert female_percent == str(54), 'Double check your percentages.'\n",
        "print('Correct! Continue to the next question.')"
      ],
      "execution_count": null,
      "outputs": [
        {
          "output_type": "stream",
          "text": [
            "Correct! Continue to the next question.\n"
          ],
          "name": "stdout"
        }
      ]
    },
    {
      "cell_type": "markdown",
      "metadata": {
        "id": "Q79IYzM7bz4j"
      },
      "source": [
        "The disribution is relatively split between male and female genders, with males comprising 54% of the population versus 46% for females"
      ]
    },
    {
      "cell_type": "markdown",
      "metadata": {
        "id": "jnfrbmCvnMM_"
      },
      "source": [
        "###4) Calculate the frequency and relative frequency of character survival in this set of slasher films.  Describe your results in a sentence or two."
      ]
    },
    {
      "cell_type": "code",
      "metadata": {
        "id": "eATj3sKHnU_c",
        "outputId": "02ec6b7f-9a3f-4bbb-ed37-f684e695d0be",
        "colab": {
          "base_uri": "https://localhost:8080/"
        }
      },
      "source": [
        "### your code here ###\n",
        "survival_frequency = pd.crosstab(index=slasher_df['Survival'],columns = 'count')\n",
        "relative_survival_frequency = survival_frequency/survival_frequency.sum()*100\n",
        "print(relative_survival_frequency)"
      ],
      "execution_count": null,
      "outputs": [
        {
          "output_type": "stream",
          "text": [
            "col_0         count\n",
            "Survival           \n",
            "0         82.474227\n",
            "1         17.525773\n"
          ],
          "name": "stdout"
        }
      ]
    },
    {
      "cell_type": "markdown",
      "metadata": {
        "id": "VYiobiSMnXAT"
      },
      "source": [
        "Most of the characters did not survive in the film, evident in the sub-18% survival rate among characters.\n"
      ]
    },
    {
      "cell_type": "markdown",
      "metadata": {
        "id": "YzjkSGa7gyWH"
      },
      "source": [
        "QUIZ: What percentage of female characters *survived*? Run the cell below, enter your percentage (*rounded to the nearest whole number*)."
      ]
    },
    {
      "cell_type": "code",
      "metadata": {
        "id": "yG2m8vHFJG1B",
        "outputId": "73e34074-077b-4ac6-e233-0b09858cc999",
        "colab": {
          "base_uri": "https://localhost:8080/"
        }
      },
      "source": [
        "joint = pd.crosstab(index=slasher_df['Gender'],columns=slasher_df['Survival'], normalize='index')*100\n",
        "\n",
        "print(joint)"
      ],
      "execution_count": 43,
      "outputs": [
        {
          "output_type": "stream",
          "text": [
            "Survival          0          1\n",
            "Gender                        \n",
            "0         86.692015  13.307985\n",
            "1         77.477477  22.522523\n"
          ],
          "name": "stdout"
        }
      ]
    },
    {
      "cell_type": "code",
      "metadata": {
        "id": "zI9rL96ngFSb",
        "outputId": "b0554e62-3c0c-4de2-8cfe-739ecbb65bd8",
        "colab": {
          "base_uri": "https://localhost:8080/"
        }
      },
      "source": [
        "# This is an QUIZ cell. Run the cell, enter your answer.\n",
        "# Don't alter this cell if you want accurate feedback\n",
        "#------------------------------------------------------------------------------#\n",
        "female_percent_survival = input()"
      ],
      "execution_count": 33,
      "outputs": [
        {
          "output_type": "stream",
          "text": [
            "13\n"
          ],
          "name": "stdout"
        }
      ]
    },
    {
      "cell_type": "code",
      "metadata": {
        "id": "oyhLDzDAgIxK",
        "outputId": "58aee631-41a7-4ada-d231-e1cfebf3f7a1",
        "colab": {
          "base_uri": "https://localhost:8080/",
          "height": 212
        }
      },
      "source": [
        "# QUIZ CHECK cell\n",
        "#------------------------------------------------------------------------------#\n",
        "assert female_percent_survival == str(82), 'Double check your percentages.'\n",
        "print('Correct! Continue to the next question.')"
      ],
      "execution_count": 34,
      "outputs": [
        {
          "output_type": "error",
          "ename": "AssertionError",
          "evalue": "ignored",
          "traceback": [
            "\u001b[0;31m---------------------------------------------------------------------------\u001b[0m",
            "\u001b[0;31mAssertionError\u001b[0m                            Traceback (most recent call last)",
            "\u001b[0;32m<ipython-input-34-290377c8d666>\u001b[0m in \u001b[0;36m<module>\u001b[0;34m()\u001b[0m\n\u001b[1;32m      1\u001b[0m \u001b[0;31m# QUIZ CHECK cell\u001b[0m\u001b[0;34m\u001b[0m\u001b[0;34m\u001b[0m\u001b[0;34m\u001b[0m\u001b[0m\n\u001b[1;32m      2\u001b[0m \u001b[0;31m#------------------------------------------------------------------------------#\u001b[0m\u001b[0;34m\u001b[0m\u001b[0;34m\u001b[0m\u001b[0;34m\u001b[0m\u001b[0m\n\u001b[0;32m----> 3\u001b[0;31m \u001b[0;32massert\u001b[0m \u001b[0mfemale_percent_survival\u001b[0m \u001b[0;34m==\u001b[0m \u001b[0mstr\u001b[0m\u001b[0;34m(\u001b[0m\u001b[0;36m82\u001b[0m\u001b[0;34m)\u001b[0m\u001b[0;34m,\u001b[0m \u001b[0;34m'Double check your percentages.'\u001b[0m\u001b[0;34m\u001b[0m\u001b[0;34m\u001b[0m\u001b[0m\n\u001b[0m\u001b[1;32m      4\u001b[0m \u001b[0mprint\u001b[0m\u001b[0;34m(\u001b[0m\u001b[0;34m'Correct! Continue to the next question.'\u001b[0m\u001b[0;34m)\u001b[0m\u001b[0;34m\u001b[0m\u001b[0;34m\u001b[0m\u001b[0m\n",
            "\u001b[0;31mAssertionError\u001b[0m: Double check your percentages."
          ]
        }
      ]
    },
    {
      "cell_type": "markdown",
      "metadata": {
        "id": "0K1kuj8yb5BD"
      },
      "source": [
        "### 5) Calculate the joint distribution of character sex and movie survival. \n",
        "\n",
        "Hint: If you are working from the in-class examples, it will be helpful to include character sex as the index variable. \n",
        "\n",
        "Describe your results in a sentence or two."
      ]
    },
    {
      "cell_type": "code",
      "metadata": {
        "id": "lBqo9mPJcApw",
        "outputId": "a1cd6ea3-92ea-42e4-df51-a4ddeed82a52",
        "colab": {
          "base_uri": "https://localhost:8080/"
        }
      },
      "source": [
        "# Calculate the joint distribution\n",
        "\n",
        "### your code here ###\n",
        "joint = pd.crosstab(index=slasher_df['Gender'], columns=slasher_df['Survival'])\n",
        "print(joint)"
      ],
      "execution_count": 40,
      "outputs": [
        {
          "output_type": "stream",
          "text": [
            "Survival    0   1\n",
            "Gender           \n",
            "0         228  35\n",
            "1         172  50\n"
          ],
          "name": "stdout"
        }
      ]
    },
    {
      "cell_type": "markdown",
      "metadata": {
        "id": "IRU0Hd1-wCpW"
      },
      "source": [
        "### 5b) Do the same as 5a) but **add the table margins**.  Assign this to a variable called `joint_dist_margins`."
      ]
    },
    {
      "cell_type": "code",
      "metadata": {
        "id": "PAe3sdeqoLnh",
        "outputId": "57b9bfcd-f9d1-437f-d35d-6878f28c05cb",
        "colab": {
          "base_uri": "https://localhost:8080/"
        }
      },
      "source": [
        "# Add the table margins to the joint distribution\n",
        "\n",
        "### your code here ###\n",
        "joint_dist_margins = pd.crosstab(index=slasher_df['Gender'], columns=slasher_df['Survival'],margins=True)\n",
        "print(joint_dist_margins)"
      ],
      "execution_count": 41,
      "outputs": [
        {
          "output_type": "stream",
          "text": [
            "Survival    0   1  All\n",
            "Gender                \n",
            "0         228  35  263\n",
            "1         172  50  222\n",
            "All       400  85  485\n"
          ],
          "name": "stdout"
        }
      ]
    },
    {
      "cell_type": "code",
      "metadata": {
        "id": "iLvgeckeeL9g",
        "outputId": "f8e78e16-56f5-4d6c-8b62-587b18fe859e",
        "colab": {
          "base_uri": "https://localhost:8080/",
          "height": 212
        }
      },
      "source": [
        "# This is an ANSWER CHECK cell.\n",
        "# Don't alter this cell if you want accurate feedback\n",
        "#------------------------------------------------------------------------------#\n",
        "\n",
        "# check if the DataFrame was created\n",
        "assert not joint_dist_margins.empty, 'Did you create your DataFrame with the joint distribution?'\n",
        "# check the shape of the DataFrame\n",
        "assert slasher_df.shape == (3, 3), 'Did you include the margins?'\n",
        "print('Correct! Continue to the next question.')"
      ],
      "execution_count": 42,
      "outputs": [
        {
          "output_type": "error",
          "ename": "AssertionError",
          "evalue": "ignored",
          "traceback": [
            "\u001b[0;31m---------------------------------------------------------------------------\u001b[0m",
            "\u001b[0;31mAssertionError\u001b[0m                            Traceback (most recent call last)",
            "\u001b[0;32m<ipython-input-42-bc3339ad580b>\u001b[0m in \u001b[0;36m<module>\u001b[0;34m()\u001b[0m\n\u001b[1;32m      6\u001b[0m \u001b[0;32massert\u001b[0m \u001b[0;32mnot\u001b[0m \u001b[0mjoint_dist_margins\u001b[0m\u001b[0;34m.\u001b[0m\u001b[0mempty\u001b[0m\u001b[0;34m,\u001b[0m \u001b[0;34m'Did you create your DataFrame with the joint distribution?'\u001b[0m\u001b[0;34m\u001b[0m\u001b[0;34m\u001b[0m\u001b[0m\n\u001b[1;32m      7\u001b[0m \u001b[0;31m# check the shape of the DataFrame\u001b[0m\u001b[0;34m\u001b[0m\u001b[0;34m\u001b[0m\u001b[0;34m\u001b[0m\u001b[0m\n\u001b[0;32m----> 8\u001b[0;31m \u001b[0;32massert\u001b[0m \u001b[0mslasher_df\u001b[0m\u001b[0;34m.\u001b[0m\u001b[0mshape\u001b[0m \u001b[0;34m==\u001b[0m \u001b[0;34m(\u001b[0m\u001b[0;36m3\u001b[0m\u001b[0;34m,\u001b[0m \u001b[0;36m3\u001b[0m\u001b[0;34m)\u001b[0m\u001b[0;34m,\u001b[0m \u001b[0;34m'Did you include the margins?'\u001b[0m\u001b[0;34m\u001b[0m\u001b[0;34m\u001b[0m\u001b[0m\n\u001b[0m\u001b[1;32m      9\u001b[0m \u001b[0mprint\u001b[0m\u001b[0;34m(\u001b[0m\u001b[0;34m'Correct! Continue to the next question.'\u001b[0m\u001b[0;34m)\u001b[0m\u001b[0;34m\u001b[0m\u001b[0;34m\u001b[0m\u001b[0m\n",
            "\u001b[0;31mAssertionError\u001b[0m: Did you include the margins?"
          ]
        }
      ]
    },
    {
      "cell_type": "markdown",
      "metadata": {
        "id": "63H4QMgKcDEp"
      },
      "source": [
        "The vast majority of characters did not survive, and this is true across both the female and male genders. "
      ]
    },
    {
      "cell_type": "markdown",
      "metadata": {
        "id": "Pf9boTsRpe9J"
      },
      "source": [
        "###6) Calculate the distribution of survival conditional on character sex.\n",
        "* assign the crosstab DataFrame to the variable `slasher_survival`\n",
        "* make sure to normalize on the \"index\"\n",
        "* multiply the resulting DataFrame by 100 to return answers as percents\n",
        "\n",
        "Hint: If you are working from the in-class examples, it will be helpful to include character sex as the index variable. \n",
        "\n",
        "Describe your results in a sentence or two in the cell below."
      ]
    },
    {
      "cell_type": "code",
      "metadata": {
        "id": "ByWE_M1RpqSy",
        "outputId": "b0fd1538-5e71-499f-c6f6-3db9a60c5c9a",
        "colab": {
          "base_uri": "https://localhost:8080/"
        }
      },
      "source": [
        "# Create your slasher_survival DataFrame here\n",
        "\n",
        "### your code here ###\n",
        "slasher_survival = pd.crosstab(index=slasher_df['Gender'], columns=slasher_df['Survival'],normalize='index')*100\n",
        "print(slasher_survival.head())\n"
      ],
      "execution_count": 48,
      "outputs": [
        {
          "output_type": "stream",
          "text": [
            "Survival          0          1\n",
            "Gender                        \n",
            "0         86.692015  13.307985\n",
            "1         77.477477  22.522523\n"
          ],
          "name": "stdout"
        }
      ]
    },
    {
      "cell_type": "code",
      "metadata": {
        "id": "t-MfaLjCnt6i",
        "outputId": "1fc78b2a-3fc3-48ba-84f8-07512cdde3cf",
        "colab": {
          "base_uri": "https://localhost:8080/"
        }
      },
      "source": [
        "# This is an ANSWER CHECK cell.\n",
        "# Don't alter this cell if you want accurate feedback\n",
        "#------------------------------------------------------------------------------#\n",
        "\n",
        "# check if the DataFrame was created\n",
        "assert not slasher_survival.empty, 'Did you calculate the distribution?'\n",
        "# check the shape of the DataFrame\n",
        "assert round(slasher_survival[0][0]) == 87.0, 'Is your DataFrame normalized and converted to a percent?'\n",
        "print('Correct! Continue to the next question.')"
      ],
      "execution_count": 47,
      "outputs": [
        {
          "output_type": "stream",
          "text": [
            "Correct! Continue to the next question.\n"
          ],
          "name": "stdout"
        }
      ]
    },
    {
      "cell_type": "markdown",
      "metadata": {
        "id": "tdtRWqwcpquG"
      },
      "source": [
        "The majority of both genders did not survive, although, the proportion of females surviving was slightly lower than that of the males. "
      ]
    },
    {
      "cell_type": "markdown",
      "metadata": {
        "id": "ODJU68cMKJ57"
      },
      "source": [
        "###7) Identify the appropriate null and alternative hypotheses to test for a statistically significant relationship between character sex and survival. \n",
        "\n",
        "**Ho:** There is no relationship between character sex and movie survival.\n",
        "\n",
        "**Ha:**. There is a relationship between character sex and movie survival."
      ]
    },
    {
      "cell_type": "markdown",
      "metadata": {
        "id": "RXPZZuAi3ccI"
      },
      "source": [
        "### 8) Perform the chi-square test above using `stats.chi2_contingency()`. The docs for this function are found [here](https://docs.scipy.org/doc/scipy/reference/generated/scipy.stats.chi2_contingency.html).\n",
        "\n",
        "* assign the p-value to the variable `p_val`\n",
        "* assign the other variables to whatever names you prefer\n"
      ]
    },
    {
      "cell_type": "code",
      "metadata": {
        "id": "Ckcr4A4FM7cs",
        "outputId": "107039f4-aa86-4f58-e048-c5099539fbe4",
        "colab": {
          "base_uri": "https://localhost:8080/"
        }
      },
      "source": [
        "# Perform the chi-square test\n",
        "\n",
        "### your code here ###\n",
        "from scipy.stats import chi2_contingency\n",
        "\n",
        "g, p, dof, expctd = chi2_contingency(pd.crosstab(slasher_df['Gender'],slasher_df['Survival']))\n",
        "\n",
        "print(p)\n"
      ],
      "execution_count": 50,
      "outputs": [
        {
          "output_type": "stream",
          "text": [
            "0.011104692591139975\n"
          ],
          "name": "stdout"
        }
      ]
    },
    {
      "cell_type": "code",
      "metadata": {
        "id": "rxfmQ5dhd-uU",
        "outputId": "b8840609-43e4-4280-a71b-41436b2c85b5",
        "colab": {
          "base_uri": "https://localhost:8080/",
          "height": 212
        }
      },
      "source": [
        "# This is an ANSWER CHECK cell.\n",
        "# Don't alter this cell if you want accurate feedback\n",
        "#------------------------------------------------------------------------------#\n",
        "\n",
        "# check the p_val\n",
        "assert round(p_val, 2) == 0.01, 'Double-check the variables you returned; p_val should be the second in the list'\n",
        "print('Correct! Continue to the next question.')"
      ],
      "execution_count": 51,
      "outputs": [
        {
          "output_type": "error",
          "ename": "NameError",
          "evalue": "ignored",
          "traceback": [
            "\u001b[0;31m---------------------------------------------------------------------------\u001b[0m",
            "\u001b[0;31mNameError\u001b[0m                                 Traceback (most recent call last)",
            "\u001b[0;32m<ipython-input-51-3928b4c9f543>\u001b[0m in \u001b[0;36m<module>\u001b[0;34m()\u001b[0m\n\u001b[1;32m      4\u001b[0m \u001b[0;34m\u001b[0m\u001b[0m\n\u001b[1;32m      5\u001b[0m \u001b[0;31m# check the p_val\u001b[0m\u001b[0;34m\u001b[0m\u001b[0;34m\u001b[0m\u001b[0;34m\u001b[0m\u001b[0m\n\u001b[0;32m----> 6\u001b[0;31m \u001b[0;32massert\u001b[0m \u001b[0mround\u001b[0m\u001b[0;34m(\u001b[0m\u001b[0mp_val\u001b[0m\u001b[0;34m,\u001b[0m \u001b[0;36m2\u001b[0m\u001b[0;34m)\u001b[0m \u001b[0;34m==\u001b[0m \u001b[0;36m0.01\u001b[0m\u001b[0;34m,\u001b[0m \u001b[0;34m'Double-check the variables you returned; p_val should be the second in the list'\u001b[0m\u001b[0;34m\u001b[0m\u001b[0;34m\u001b[0m\u001b[0m\n\u001b[0m\u001b[1;32m      7\u001b[0m \u001b[0mprint\u001b[0m\u001b[0;34m(\u001b[0m\u001b[0;34m'Correct! Continue to the next question.'\u001b[0m\u001b[0;34m)\u001b[0m\u001b[0;34m\u001b[0m\u001b[0;34m\u001b[0m\u001b[0m\n",
            "\u001b[0;31mNameError\u001b[0m: name 'p_val' is not defined"
          ]
        }
      ]
    },
    {
      "cell_type": "markdown",
      "metadata": {
        "id": "Tf7XPpBP6YqX"
      },
      "source": [
        "### 9) Interpret your p-value in 8) using the alpha = 0.05 significance level, and summarize your results in a sentence or two."
      ]
    },
    {
      "cell_type": "markdown",
      "metadata": {
        "id": "N5v6Sca8LDmy"
      },
      "source": [
        "Since the p-value is statistically significant (below .05), we can reject the null hypothesis which states that there is no relationship between character sex and movie survival.Therefore, we accept the alternative hypothesis which states that there is a relationship between character sex and movie survival"
      ]
    },
    {
      "cell_type": "markdown",
      "metadata": {
        "id": "6fuCbToDLTO0"
      },
      "source": [
        "### 10) Create a side-by-side bar plot to illustrate the relationship between character sex and survival in slasher movies.  Sum up your overall results in a sentence or two."
      ]
    },
    {
      "cell_type": "code",
      "metadata": {
        "id": "Et5DtusY6maX",
        "outputId": "08f3c490-39d4-40b7-b789-f3e8bd474de4",
        "colab": {
          "base_uri": "https://localhost:8080/",
          "height": 364
        }
      },
      "source": [
        "# Plot time!\n",
        "import matplotlib.pyplot as plt\n",
        "\n",
        "## your code here ##\n",
        "N = 2\n",
        "\n",
        "slasher_survival = pd.crosstab(index=slasher_df['Gender'], columns=slasher_df['Survival'],normalize='index')*100\n",
        "print(slasher_survival.head())\n",
        "\n",
        "\n",
        "Died = (87,77) # Percent that died\n",
        "Survived = (13,23) #Percent that survived\n",
        "\n",
        "#This is more graphical stuff\n",
        "ind = np.arange(N)  # the x locations for the groups\n",
        "width = 0.35       # the width of the bars\n",
        "\n",
        "#Create the plot\n",
        "fig, ax = plt.subplots()\n",
        "rects1 = ax.bar(ind, Died, width, color='g') #bars for died\n",
        "rects2 = ax.bar(ind + width, Survived, width, color='b') #bars for survived\n",
        "\n",
        "# add some text for labels, title and axes ticks\n",
        "ax.set_ylabel('Percent')\n",
        "ax.set_title('Percent of Characters Who Surivived and Did Not Survive in Slasher Movies')\n",
        "ax.set_xticks(ind + width / 2)\n",
        "ax.set_xticklabels(('Female', 'Male'))\n",
        "\n",
        "ax.legend((rects1[0], rects2[0]), ('Did not Survive','Survived'))\n"
      ],
      "execution_count": 53,
      "outputs": [
        {
          "output_type": "stream",
          "text": [
            "Survival          0          1\n",
            "Gender                        \n",
            "0         86.692015  13.307985\n",
            "1         77.477477  22.522523\n"
          ],
          "name": "stdout"
        },
        {
          "output_type": "execute_result",
          "data": {
            "text/plain": [
              "<matplotlib.legend.Legend at 0x7fbf737bee10>"
            ]
          },
          "metadata": {
            "tags": []
          },
          "execution_count": 53
        },
        {
          "output_type": "display_data",
          "data": {
            "image/png": "[encoded data removed]",
            "text/plain": [
              "<Figure size 432x288 with 1 Axes>"
            ]
          },
          "metadata": {
            "tags": [],
            "needs_background": "light"
          }
        }
      ]
    },
    {
      "cell_type": "markdown",
      "metadata": {
        "id": "Juj8P8RgLoiZ"
      },
      "source": [
        "Female characters are more likely to survive a slasher film than male characters, but both (unsuprisingly) don't have a good survival rate."
      ]
    }
  ]
}