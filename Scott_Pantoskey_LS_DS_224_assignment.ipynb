{
  "nbformat": 4,
  "nbformat_minor": 0,
  "metadata": {
    "kernelspec": {
      "display_name": "Python 3",
      "language": "python",
      "name": "python3"
    },
    "language_info": {
      "codemirror_mode": {
        "name": "ipython",
        "version": 3
      },
      "file_extension": ".py",
      "mimetype": "text/x-python",
      "name": "python",
      "nbconvert_exporter": "python",
      "pygments_lexer": "ipython3",
      "version": "3.7.3"
    },
    "colab": {
      "name": "Scott_Pantoskey_LS_DS_224_assignment.ipynb",
      "provenance": [],
      "toc_visible": true,
      "include_colab_link": true
    }
  },
  "cells": [
    {
      "cell_type": "markdown",
      "metadata": {
        "id": "view-in-github",
        "colab_type": "text"
      },
      "source": [
        "<a href=\"https://colab.research.google.com/github/spantoskey/DS-Unit-1-Sprint-1-Data-Wrangling-and-Storytelling/blob/master/Scott_Pantoskey_LS_DS_224_assignment.ipynb\" target=\"_parent\"><img src=\"https://colab.research.google.com/assets/colab-badge.svg\" alt=\"Open In Colab\"/></a>"
      ]
    },
    {
      "cell_type": "markdown",
      "metadata": {
        "id": "bOk7KVPqKa61"
      },
      "source": [
        "Lambda School Data Science\n",
        "\n",
        "*Unit 2, Sprint 2, Module 4*\n",
        "\n",
        "---"
      ]
    },
    {
      "cell_type": "markdown",
      "metadata": {
        "id": "nCc3XZEyG3XV"
      },
      "source": [
        "# Classification Metrics\n",
        "\n",
        "## Assignment\n",
        "- [ ] If you haven't yet, [review requirements for your portfolio project](https://lambdaschool.github.io/ds/unit2), then submit your dataset.\n",
        "- [ ] Plot a confusion matrix for your Tanzania Waterpumps model.\n",
        "- [ ] Continue to participate in our Kaggle challenge. Every student should have made at least one submission that scores at least 70% accuracy (well above the majority class baseline).\n",
        "- [ ] Submit your final predictions to our Kaggle competition. Optionally, go to **My Submissions**, and _\"you may select up to 1 submission to be used to count towards your final leaderboard score.\"_\n",
        "- [ ] Commit your notebook to your fork of the GitHub repo.\n",
        "- [ ] Read [Maximizing Scarce Maintenance Resources with Data: Applying predictive modeling, precision at k, and clustering to optimize impact](http://archive.is/DelgE), by Lambda DS3 student Michael Brady. His blog post extends the Tanzania Waterpumps scenario, far beyond what's in the lecture notebook.\n",
        "\n",
        "\n",
        "## Stretch Goals\n",
        "\n",
        "### Reading\n",
        "\n",
        "- [Attacking discrimination with smarter machine learning](https://research.google.com/bigpicture/attacking-discrimination-in-ml/), by Google Research, with  interactive visualizations. _\"A threshold classifier essentially makes a yes/no decision, putting things in one category or another. We look at how these classifiers work, ways they can potentially be unfair, and how you might turn an unfair classifier into a fairer one. As an illustrative example, we focus on loan granting scenarios where a bank may grant or deny a loan based on a single, automatically computed number such as a credit score.\"_\n",
        "- [Notebook about how to calculate expected value from a confusion matrix by treating it as a cost-benefit matrix](https://github.com/podopie/DAT18NYC/blob/master/classes/13-expected_value_cost_benefit_analysis.ipynb)\n",
        "- [Visualizing Machine Learning Thresholds to Make Better Business Decisions](https://blog.insightdatascience.com/visualizing-machine-learning-thresholds-to-make-better-business-decisions-4ab07f823415)\n",
        "\n",
        "\n",
        "### Doing\n",
        "- [ ] Share visualizations in our Slack channel!\n",
        "- [ ] RandomizedSearchCV / GridSearchCV, for model selection. (See module 3 assignment notebook)\n",
        "- [ ] Stacking Ensemble. (See module 3 assignment notebook)\n",
        "- [ ] More Categorical Encoding. (See module 2 assignment notebook)"
      ]
    },
    {
      "cell_type": "code",
      "metadata": {
        "id": "lsbRiKBoB5RE"
      },
      "source": [
        "%%capture\n",
        "import sys\n",
        "\n",
        "# If you're on Colab:\n",
        "if 'google.colab' in sys.modules:\n",
        "    DATA_PATH = 'https://raw.githubusercontent.com/LambdaSchool/DS-Unit-2-Kaggle-Challenge/master/data/'\n",
        "    !pip install category_encoders==2.*\n",
        "\n",
        "# If you're working locally:\n",
        "else:\n",
        "    DATA_PATH = '../data/'"
      ],
      "execution_count": 1,
      "outputs": []
    },
    {
      "cell_type": "code",
      "metadata": {
        "colab": {
          "base_uri": "https://localhost:8080/"
        },
        "id": "MH9x-p4cMILL",
        "outputId": "77340e0f-76bd-4f15-de9b-835608edf0b0"
      },
      "source": [
        "# import necessary data packs\r\n",
        "from category_encoders import OneHotEncoder, OrdinalEncoder\r\n",
        "from sklearn.ensemble import RandomForestClassifier\r\n",
        "from sklearn.impute import SimpleImputer\r\n",
        "from sklearn.linear_model import LogisticRegression\r\n",
        "from sklearn.metrics import accuracy_score, plot_confusion_matrix, classification_report\r\n",
        "from sklearn.model_selection import train_test_split\r\n",
        "from sklearn.pipeline import make_pipeline\r\n",
        "from sklearn.preprocessing import StandardScaler\r\n",
        "import numpy as np\r\n",
        "import pandas as pd"
      ],
      "execution_count": 3,
      "outputs": [
        {
          "output_type": "stream",
          "text": [
            "/usr/local/lib/python3.6/dist-packages/statsmodels/tools/_testing.py:19: FutureWarning: pandas.util.testing is deprecated. Use the functions in the public API at pandas.testing instead.\n",
            "  import pandas.util.testing as tm\n"
          ],
          "name": "stderr"
        }
      ]
    },
    {
      "cell_type": "markdown",
      "metadata": {
        "id": "oQ7dJsscMNDx"
      },
      "source": [
        "# **I. Wrangle Data**"
      ]
    },
    {
      "cell_type": "code",
      "metadata": {
        "id": "8xlJ1KoKMM1Y"
      },
      "source": [
        "# WRANGLE FUNCTION\r\n",
        "\r\n",
        "def wrangle(df):\r\n",
        "  # Make a copy\r\n",
        "  df = df.copy()\r\n",
        "\r\n",
        "  # Drop repeat rows (observations)\r\n",
        "  df.drop_duplicates(inplace=True)\r\n",
        "\r\n",
        "  # Drop repeat columns (features)\r\n",
        "  df.drop(columns=['quantity_group', 'extraction_type_group'], inplace=True)\r\n",
        "\r\n",
        "  # Drop constant features\r\n",
        "  df.drop(columns=['recorded_by'], inplace=True)\r\n",
        "\r\n",
        "  # feature engineering\r\n",
        "  df['pump_age'] = df['date_recorded'].dt.year - df['construction_year']\r\n",
        "  df['date_recorded'] = df['date_recorded'].dt.year\r\n",
        "\r\n",
        "  # drop datetime column\r\n",
        "  df.drop(columns='date_recorded', inplace=True)\r\n",
        "\r\n",
        "  # high-cardinality\r\n",
        "  drop_cols = [col for col in df.select_dtypes('object').columns\r\n",
        "               if df[col].nunique() > 100]\r\n",
        "  df.drop(columns=drop_cols, inplace=True)\r\n",
        "\r\n",
        "  # Drop features with lots of NaN values\r\n",
        "  df.dropna(axis=1, thresh=len(df)*0.8, inplace=True)\r\n",
        "\r\n",
        "  # Create new target with binary classification\r\n",
        "  if 'status_group' in df:\r\n",
        "    df['needs_repair'] = np.where(df['status_group']=='functional', 0, 1)\r\n",
        "    df.drop(columns='status_group', inplace=True)\r\n",
        "\r\n",
        "  return df\r\n"
      ],
      "execution_count": 5,
      "outputs": []
    },
    {
      "cell_type": "code",
      "metadata": {
        "id": "BVA1lph8CcNX"
      },
      "source": [
        "# Merge train_features.csv & train_labels.csv\n",
        "train = pd.merge(pd.read_csv(DATA_PATH+'waterpumps/train_features.csv',\n",
        "                             parse_dates=['date_recorded'],\n",
        "                             na_values=[0, -2.000000e-08]), \n",
        "                 pd.read_csv(DATA_PATH+'waterpumps/train_labels.csv')).set_index('id')\n",
        "\n",
        "# Read test_features.csv & sample_submission.csv\n",
        "test = pd.read_csv(DATA_PATH+'waterpumps/test_features.csv',\n",
        "                   parse_dates=['date_recorded'],\n",
        "                   na_values=[0, -2.000000e-08],\n",
        "                   index_col='id')\n",
        "sample_submission = pd.read_csv(DATA_PATH+'waterpumps/sample_submission.csv')\n",
        "\n",
        "\n",
        "# apply wrangle functions to test and train datasets\n",
        "\n",
        "train = wrangle(train)\n",
        "test = wrangle(test)\n"
      ],
      "execution_count": 18,
      "outputs": []
    },
    {
      "cell_type": "markdown",
      "metadata": {
        "id": "tlgyRzkaNMnu"
      },
      "source": [
        "# **II. Split Data**"
      ]
    },
    {
      "cell_type": "code",
      "metadata": {
        "id": "2eGBoQ8oKa67"
      },
      "source": [
        "# split the target vector from the feature matrix\r\n",
        "target = 'needs_repair'\r\n",
        "y = train[target]\r\n",
        "X = train.drop(columns=target)\r\n",
        "\r\n",
        "# split the training set into validation and training sets\r\n",
        "X_train, X_val, y_train, y_val = train_test_split(X, y, test_size = 0.2, random_state=42)\r\n"
      ],
      "execution_count": 20,
      "outputs": []
    },
    {
      "cell_type": "markdown",
      "metadata": {
        "id": "3fXPEBnCN0yJ"
      },
      "source": [
        "# **III. Establish Baseline**"
      ]
    },
    {
      "cell_type": "code",
      "metadata": {
        "colab": {
          "base_uri": "https://localhost:8080/"
        },
        "id": "mJd3J9SuN0Yr",
        "outputId": "1be6ef0d-7842-47eb-9390-74dc47c14bd6"
      },
      "source": [
        "# identify the marjority class for y_train since it's a bianry classification\r\n",
        "print('Baseline Accuracy:', y_train.value_counts(normalize=True).max())"
      ],
      "execution_count": 21,
      "outputs": [
        {
          "output_type": "stream",
          "text": [
            "Baseline Accuracy: 0.5441566645609602\n"
          ],
          "name": "stdout"
        }
      ]
    },
    {
      "cell_type": "markdown",
      "metadata": {
        "id": "JhimJBmKOGQX"
      },
      "source": [
        "# **IV. Build Model**"
      ]
    },
    {
      "cell_type": "code",
      "metadata": {
        "id": "JEQHjToYOFeQ"
      },
      "source": [
        "# instantiate and fit the model \r\n",
        "model = make_pipeline(\r\n",
        "    OrdinalEncoder(),\r\n",
        "    SimpleImputer(),\r\n",
        "    RandomForestClassifier(n_jobs=-1,\r\n",
        "                           random_state=42)\r\n",
        ").fit(X_train, y_train)\r\n",
        "\r\n"
      ],
      "execution_count": 25,
      "outputs": []
    },
    {
      "cell_type": "markdown",
      "metadata": {
        "id": "8nl8CfRmOuFt"
      },
      "source": [
        "# **V. Check Metrics**"
      ]
    },
    {
      "cell_type": "code",
      "metadata": {
        "colab": {
          "base_uri": "https://localhost:8080/"
        },
        "id": "LXY_Rl0ZOwjX",
        "outputId": "3b82790f-80fd-4a39-8a2c-8e2e4af0fb61"
      },
      "source": [
        "# Accuracy scores\r\n",
        "print('Training Accuracy:', model.score(X_train, y_train))\r\n",
        "print('Validation Accuracy:', model.score(X_val, y_val))"
      ],
      "execution_count": 26,
      "outputs": [
        {
          "output_type": "stream",
          "text": [
            "Training Accuracy: 0.9957675300063171\n",
            "Validation Accuracy: 0.8093994778067886\n"
          ],
          "name": "stdout"
        }
      ]
    },
    {
      "cell_type": "code",
      "metadata": {
        "colab": {
          "base_uri": "https://localhost:8080/",
          "height": 297
        },
        "id": "dZOuLL7UPD4d",
        "outputId": "59f30d44-ec2e-4071-faa2-4fc8b7823489"
      },
      "source": [
        "# Build a confusion matrix\r\n",
        "plot_confusion_matrix(\r\n",
        "    model, \r\n",
        "    X_val, \r\n",
        "    y_val,\r\n",
        "    values_format='.0f',\r\n",
        "    display_labels=['no repair needed', 'needs repair']\r\n",
        ")"
      ],
      "execution_count": 28,
      "outputs": [
        {
          "output_type": "execute_result",
          "data": {
            "text/plain": [
              "<sklearn.metrics._plot.confusion_matrix.ConfusionMatrixDisplay at 0x7f8a3585ee10>"
            ]
          },
          "metadata": {
            "tags": []
          },
          "execution_count": 28
        },
        {
          "output_type": "display_data",
          "data": {
            "image/png": "[encoded data removed]",
            "text/plain": [
              "<Figure size 432x288 with 2 Axes>"
            ]
          },
          "metadata": {
            "tags": [],
            "needs_background": "light"
          }
        }
      ]
    },
    {
      "cell_type": "code",
      "metadata": {
        "colab": {
          "base_uri": "https://localhost:8080/"
        },
        "id": "uPp6gBAVPdxd",
        "outputId": "46ca5cc3-ac39-4198-8005-f288185aceab"
      },
      "source": [
        "# print classification report\r\n",
        "y_pred = model.predict(X_val)\r\n",
        "\r\n",
        "print(classification_report(y_val,\r\n",
        "                            y_pred,\r\n",
        "                            target_names=['no repair needed', 'needs repair']))"
      ],
      "execution_count": 33,
      "outputs": [
        {
          "output_type": "stream",
          "text": [
            "                  precision    recall  f1-score   support\n",
            "\n",
            "no repair needed       0.81      0.85      0.83      6395\n",
            "    needs repair       0.81      0.76      0.79      5478\n",
            "\n",
            "        accuracy                           0.81     11873\n",
            "       macro avg       0.81      0.81      0.81     11873\n",
            "    weighted avg       0.81      0.81      0.81     11873\n",
            "\n"
          ],
          "name": "stdout"
        }
      ]
    },
    {
      "cell_type": "markdown",
      "metadata": {
        "id": "tnpsuskyQJpJ"
      },
      "source": [
        "# Make Submission"
      ]
    },
    {
      "cell_type": "code",
      "metadata": {
        "colab": {
          "base_uri": "https://localhost:8080/",
          "height": 202
        },
        "id": "KdDgxgk-QmZf",
        "outputId": "032d5136-78b1-4085-8f2e-de6af7e0242b"
      },
      "source": [
        "# predict results based on test set\r\n",
        "y_pred = model.predict(test)\r\n",
        "\r\n",
        "# build a series with two columns: ID and 'needs repair' status\r\n",
        "data = {'id':test.index,\r\n",
        "        'needs_repair':y_pred}\r\n",
        "\r\n",
        "# convert to dataframe\r\n",
        "submission = pd.DataFrame(data)\r\n",
        "\r\n",
        "# submission.head()"
      ],
      "execution_count": 36,
      "outputs": [
        {
          "output_type": "execute_result",
          "data": {
            "text/html": [
              "<div>\n",
              "<style scoped>\n",
              "    .dataframe tbody tr th:only-of-type {\n",
              "        vertical-align: middle;\n",
              "    }\n",
              "\n",
              "    .dataframe tbody tr th {\n",
              "        vertical-align: top;\n",
              "    }\n",
              "\n",
              "    .dataframe thead th {\n",
              "        text-align: right;\n",
              "    }\n",
              "</style>\n",
              "<table border=\"1\" class=\"dataframe\">\n",
              "  <thead>\n",
              "    <tr style=\"text-align: right;\">\n",
              "      <th></th>\n",
              "      <th>id</th>\n",
              "      <th>needs_repair</th>\n",
              "    </tr>\n",
              "  </thead>\n",
              "  <tbody>\n",
              "    <tr>\n",
              "      <th>0</th>\n",
              "      <td>50785</td>\n",
              "      <td>1</td>\n",
              "    </tr>\n",
              "    <tr>\n",
              "      <th>1</th>\n",
              "      <td>51630</td>\n",
              "      <td>1</td>\n",
              "    </tr>\n",
              "    <tr>\n",
              "      <th>2</th>\n",
              "      <td>17168</td>\n",
              "      <td>0</td>\n",
              "    </tr>\n",
              "    <tr>\n",
              "      <th>3</th>\n",
              "      <td>45559</td>\n",
              "      <td>1</td>\n",
              "    </tr>\n",
              "    <tr>\n",
              "      <th>4</th>\n",
              "      <td>49871</td>\n",
              "      <td>0</td>\n",
              "    </tr>\n",
              "  </tbody>\n",
              "</table>\n",
              "</div>"
            ],
            "text/plain": [
              "      id  needs_repair\n",
              "0  50785             1\n",
              "1  51630             1\n",
              "2  17168             0\n",
              "3  45559             1\n",
              "4  49871             0"
            ]
          },
          "metadata": {
            "tags": []
          },
          "execution_count": 36
        }
      ]
    },
    {
      "cell_type": "code",
      "metadata": {
        "id": "zo_vmoOvRHmX"
      },
      "source": [
        "# convert to csv\r\n",
        "submission.to_csv('scott-pantoskey-kaggle-submission-v6.csv', index=False)"
      ],
      "execution_count": 37,
      "outputs": []
    }
  ]
}