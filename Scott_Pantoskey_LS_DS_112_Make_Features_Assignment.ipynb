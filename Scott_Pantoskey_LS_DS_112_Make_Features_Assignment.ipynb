{
  "nbformat": 4,
  "nbformat_minor": 0,
  "metadata": {
    "colab": {
      "name": "Scott Pantoskey_LS_DS_112_Make_Features_Assignment.ipynb",
      "provenance": [],
      "collapsed_sections": [],
      "include_colab_link": true
    },
    "kernelspec": {
      "display_name": "Python 3",
      "language": "python",
      "name": "python3"
    },
    "language_info": {
      "codemirror_mode": {
        "name": "ipython",
        "version": 3
      },
      "file_extension": ".py",
      "mimetype": "text/x-python",
      "name": "python",
      "nbconvert_exporter": "python",
      "pygments_lexer": "ipython3",
      "version": "3.7.1"
    }
  },
  "cells": [
    {
      "cell_type": "markdown",
      "metadata": {
        "id": "view-in-github",
        "colab_type": "text"
      },
      "source": [
        "<a href=\"https://colab.research.google.com/github/spantoskey/DS-Unit-1-Sprint-1-Data-Wrangling-and-Storytelling/blob/master/Scott_Pantoskey_LS_DS_112_Make_Features_Assignment.ipynb\" target=\"_parent\"><img src=\"https://colab.research.google.com/assets/colab-badge.svg\" alt=\"Open In Colab\"/></a>"
      ]
    },
    {
      "cell_type": "markdown",
      "metadata": {
        "id": "7fknoKxGz_jk"
      },
      "source": [
        "Lambda School Data Science\n",
        "\n",
        "*Unit 1, Sprint 1, Module 2*\n",
        "\n",
        "---"
      ]
    },
    {
      "cell_type": "markdown",
      "metadata": {
        "id": "qacqiXogluN_"
      },
      "source": [
        "# Learning Objectives\n",
        "\n",
        "- Student should be able to understand the purpose of feature engineering\n",
        "- Student should be able to work with strings in pandas\n",
        "- Student should be able to work with dates and times in pandas\n",
        "- Student should be able to modify or create columns of a dataframe using the `.apply()` function\n",
        "\n",
        "\n",
        "Helpful Links:\n",
        "- [Minimally Sufficient Pandas](https://medium.com/dunder-data/minimally-sufficient-pandas-a8e67f2a2428)\n",
        "- [Feature Engineering](https://en.wikipedia.org/wiki/Feature_engineering)\n",
        "- Python Data Science Handbook\n",
        "  - [Chapter 3.10](https://jakevdp.github.io/PythonDataScienceHandbook/03.10-working-with-strings.html), Vectorized String Operations\n",
        "  - [Chapter 3.11](https://jakevdp.github.io/PythonDataScienceHandbook/03.11-working-with-time-series.html), Working with Time Series\n",
        "- [Lambda Learning Method for DS - By Ryan Herr](https://docs.google.com/document/d/1ubOw9B3Hfip27hF2ZFnW3a3z9xAgrUDRReOEo-FHCVs/edit?usp=sharing)"
      ]
    },
    {
      "cell_type": "markdown",
      "metadata": {
        "id": "LZSXUzBm3yvk"
      },
      "source": [
        "# Let's continue to explore feature engineering with the Ames Housing data.  Import the dataset and name it \"house\".\n",
        "\n",
        "###1) Import the Ames Housing Data here: https://raw.githubusercontent.com/ryanleeallred/datasets/master/Ames%20Housing%20Data/train.csv"
      ]
    },
    {
      "cell_type": "code",
      "metadata": {
        "id": "GHK1_AnhVsh8"
      },
      "source": [
        "#Code here\n",
        "import pandas as pd\n",
        "pd.set_option('display.max_rows',150)\n",
        "pd.set_option('display.max_columns',100)\n",
        "house = pd.read_csv('https://raw.githubusercontent.com/ryanleeallred/datasets/master/Ames%20Housing%20Data/train.csv')"
      ],
      "execution_count": 2,
      "outputs": []
    },
    {
      "cell_type": "markdown",
      "metadata": {
        "id": "Skyk7zl3V75m"
      },
      "source": [
        "###2) Print the first five rows of the house dataset."
      ]
    },
    {
      "cell_type": "code",
      "metadata": {
        "id": "dWWxoKPRWLWI",
        "outputId": "b1473ac3-90aa-49d2-98a0-ae330e5f7f2d",
        "colab": {
          "base_uri": "https://localhost:8080/",
          "height": 1000
        }
      },
      "source": [
        "#Code here\n",
        "print(house.head())"
      ],
      "execution_count": 3,
      "outputs": [
        {
          "output_type": "stream",
          "text": [
            "   Id  MSSubClass MSZoning  LotFrontage  LotArea Street Alley LotShape  \\\n",
            "0   1          60       RL         65.0     8450   Pave   NaN      Reg   \n",
            "1   2          20       RL         80.0     9600   Pave   NaN      Reg   \n",
            "2   3          60       RL         68.0    11250   Pave   NaN      IR1   \n",
            "3   4          70       RL         60.0     9550   Pave   NaN      IR1   \n",
            "4   5          60       RL         84.0    14260   Pave   NaN      IR1   \n",
            "\n",
            "  LandContour Utilities LotConfig LandSlope Neighborhood Condition1  \\\n",
            "0         Lvl    AllPub    Inside       Gtl      CollgCr       Norm   \n",
            "1         Lvl    AllPub       FR2       Gtl      Veenker      Feedr   \n",
            "2         Lvl    AllPub    Inside       Gtl      CollgCr       Norm   \n",
            "3         Lvl    AllPub    Corner       Gtl      Crawfor       Norm   \n",
            "4         Lvl    AllPub       FR2       Gtl      NoRidge       Norm   \n",
            "\n",
            "  Condition2 BldgType HouseStyle  OverallQual  OverallCond  YearBuilt  \\\n",
            "0       Norm     1Fam     2Story            7            5       2003   \n",
            "1       Norm     1Fam     1Story            6            8       1976   \n",
            "2       Norm     1Fam     2Story            7            5       2001   \n",
            "3       Norm     1Fam     2Story            7            5       1915   \n",
            "4       Norm     1Fam     2Story            8            5       2000   \n",
            "\n",
            "   YearRemodAdd RoofStyle RoofMatl Exterior1st Exterior2nd MasVnrType  \\\n",
            "0          2003     Gable  CompShg     VinylSd     VinylSd    BrkFace   \n",
            "1          1976     Gable  CompShg     MetalSd     MetalSd       None   \n",
            "2          2002     Gable  CompShg     VinylSd     VinylSd    BrkFace   \n",
            "3          1970     Gable  CompShg     Wd Sdng     Wd Shng       None   \n",
            "4          2000     Gable  CompShg     VinylSd     VinylSd    BrkFace   \n",
            "\n",
            "   MasVnrArea ExterQual ExterCond Foundation BsmtQual BsmtCond BsmtExposure  \\\n",
            "0       196.0        Gd        TA      PConc       Gd       TA           No   \n",
            "1         0.0        TA        TA     CBlock       Gd       TA           Gd   \n",
            "2       162.0        Gd        TA      PConc       Gd       TA           Mn   \n",
            "3         0.0        TA        TA     BrkTil       TA       Gd           No   \n",
            "4       350.0        Gd        TA      PConc       Gd       TA           Av   \n",
            "\n",
            "  BsmtFinType1  BsmtFinSF1 BsmtFinType2  BsmtFinSF2  BsmtUnfSF  TotalBsmtSF  \\\n",
            "0          GLQ         706          Unf           0        150          856   \n",
            "1          ALQ         978          Unf           0        284         1262   \n",
            "2          GLQ         486          Unf           0        434          920   \n",
            "3          ALQ         216          Unf           0        540          756   \n",
            "4          GLQ         655          Unf           0        490         1145   \n",
            "\n",
            "  Heating HeatingQC CentralAir Electrical  1stFlrSF  2ndFlrSF  LowQualFinSF  \\\n",
            "0    GasA        Ex          Y      SBrkr       856       854             0   \n",
            "1    GasA        Ex          Y      SBrkr      1262         0             0   \n",
            "2    GasA        Ex          Y      SBrkr       920       866             0   \n",
            "3    GasA        Gd          Y      SBrkr       961       756             0   \n",
            "4    GasA        Ex          Y      SBrkr      1145      1053             0   \n",
            "\n",
            "   GrLivArea  BsmtFullBath  BsmtHalfBath  FullBath  HalfBath  BedroomAbvGr  \\\n",
            "0       1710             1             0         2         1             3   \n",
            "1       1262             0             1         2         0             3   \n",
            "2       1786             1             0         2         1             3   \n",
            "3       1717             1             0         1         0             3   \n",
            "4       2198             1             0         2         1             4   \n",
            "\n",
            "   KitchenAbvGr KitchenQual  TotRmsAbvGrd Functional  Fireplaces FireplaceQu  \\\n",
            "0             1          Gd             8        Typ           0         NaN   \n",
            "1             1          TA             6        Typ           1          TA   \n",
            "2             1          Gd             6        Typ           1          TA   \n",
            "3             1          Gd             7        Typ           1          Gd   \n",
            "4             1          Gd             9        Typ           1          TA   \n",
            "\n",
            "  GarageType  GarageYrBlt GarageFinish  GarageCars  GarageArea GarageQual  \\\n",
            "0     Attchd       2003.0          RFn           2         548         TA   \n",
            "1     Attchd       1976.0          RFn           2         460         TA   \n",
            "2     Attchd       2001.0          RFn           2         608         TA   \n",
            "3     Detchd       1998.0          Unf           3         642         TA   \n",
            "4     Attchd       2000.0          RFn           3         836         TA   \n",
            "\n",
            "  GarageCond PavedDrive  WoodDeckSF  OpenPorchSF  EnclosedPorch  3SsnPorch  \\\n",
            "0         TA          Y           0           61              0          0   \n",
            "1         TA          Y         298            0              0          0   \n",
            "2         TA          Y           0           42              0          0   \n",
            "3         TA          Y           0           35            272          0   \n",
            "4         TA          Y         192           84              0          0   \n",
            "\n",
            "   ScreenPorch  PoolArea PoolQC Fence MiscFeature  MiscVal  MoSold  YrSold  \\\n",
            "0            0         0    NaN   NaN         NaN        0       2    2008   \n",
            "1            0         0    NaN   NaN         NaN        0       5    2007   \n",
            "2            0         0    NaN   NaN         NaN        0       9    2008   \n",
            "3            0         0    NaN   NaN         NaN        0       2    2006   \n",
            "4            0         0    NaN   NaN         NaN        0      12    2008   \n",
            "\n",
            "  SaleType SaleCondition  SalePrice  \n",
            "0       WD        Normal     208500  \n",
            "1       WD        Normal     181500  \n",
            "2       WD        Normal     223500  \n",
            "3       WD       Abnorml     140000  \n",
            "4       WD        Normal     250000  \n"
          ],
          "name": "stdout"
        }
      ]
    },
    {
      "cell_type": "markdown",
      "metadata": {
        "id": "s1T9P_I0XJqa"
      },
      "source": [
        "###3) Create a new variable called Large_Lot that takes on the value 1 when LotArea is gerater than or equal to 10,000 and the value 0 when LotArea is less than 10,000."
      ]
    },
    {
      "cell_type": "code",
      "metadata": {
        "id": "ud09Dy0zreRB",
        "outputId": "e5afba98-396d-4871-a37b-00342e5595ee",
        "colab": {
          "base_uri": "https://localhost:8080/",
          "height": 1000
        }
      },
      "source": [
        "#Code here\n",
        "house.loc[house['LotArea'] >= 10000, 'Large_Lot'] = 1\n",
        "house.loc[house['LotArea'] < 10000, 'Large_Lot'] = 0\n",
        "print(house.head())"
      ],
      "execution_count": 5,
      "outputs": [
        {
          "output_type": "stream",
          "text": [
            "   Id  MSSubClass MSZoning  LotFrontage  LotArea Street Alley LotShape  \\\n",
            "0   1          60       RL         65.0     8450   Pave   NaN      Reg   \n",
            "1   2          20       RL         80.0     9600   Pave   NaN      Reg   \n",
            "2   3          60       RL         68.0    11250   Pave   NaN      IR1   \n",
            "3   4          70       RL         60.0     9550   Pave   NaN      IR1   \n",
            "4   5          60       RL         84.0    14260   Pave   NaN      IR1   \n",
            "\n",
            "  LandContour Utilities LotConfig LandSlope Neighborhood Condition1  \\\n",
            "0         Lvl    AllPub    Inside       Gtl      CollgCr       Norm   \n",
            "1         Lvl    AllPub       FR2       Gtl      Veenker      Feedr   \n",
            "2         Lvl    AllPub    Inside       Gtl      CollgCr       Norm   \n",
            "3         Lvl    AllPub    Corner       Gtl      Crawfor       Norm   \n",
            "4         Lvl    AllPub       FR2       Gtl      NoRidge       Norm   \n",
            "\n",
            "  Condition2 BldgType HouseStyle  OverallQual  OverallCond  YearBuilt  \\\n",
            "0       Norm     1Fam     2Story            7            5       2003   \n",
            "1       Norm     1Fam     1Story            6            8       1976   \n",
            "2       Norm     1Fam     2Story            7            5       2001   \n",
            "3       Norm     1Fam     2Story            7            5       1915   \n",
            "4       Norm     1Fam     2Story            8            5       2000   \n",
            "\n",
            "   YearRemodAdd RoofStyle RoofMatl Exterior1st Exterior2nd MasVnrType  \\\n",
            "0          2003     Gable  CompShg     VinylSd     VinylSd    BrkFace   \n",
            "1          1976     Gable  CompShg     MetalSd     MetalSd       None   \n",
            "2          2002     Gable  CompShg     VinylSd     VinylSd    BrkFace   \n",
            "3          1970     Gable  CompShg     Wd Sdng     Wd Shng       None   \n",
            "4          2000     Gable  CompShg     VinylSd     VinylSd    BrkFace   \n",
            "\n",
            "   MasVnrArea ExterQual ExterCond Foundation BsmtQual BsmtCond BsmtExposure  \\\n",
            "0       196.0        Gd        TA      PConc       Gd       TA           No   \n",
            "1         0.0        TA        TA     CBlock       Gd       TA           Gd   \n",
            "2       162.0        Gd        TA      PConc       Gd       TA           Mn   \n",
            "3         0.0        TA        TA     BrkTil       TA       Gd           No   \n",
            "4       350.0        Gd        TA      PConc       Gd       TA           Av   \n",
            "\n",
            "  BsmtFinType1  BsmtFinSF1 BsmtFinType2  BsmtFinSF2  BsmtUnfSF  TotalBsmtSF  \\\n",
            "0          GLQ         706          Unf           0        150          856   \n",
            "1          ALQ         978          Unf           0        284         1262   \n",
            "2          GLQ         486          Unf           0        434          920   \n",
            "3          ALQ         216          Unf           0        540          756   \n",
            "4          GLQ         655          Unf           0        490         1145   \n",
            "\n",
            "  Heating HeatingQC CentralAir Electrical  1stFlrSF  2ndFlrSF  LowQualFinSF  \\\n",
            "0    GasA        Ex          Y      SBrkr       856       854             0   \n",
            "1    GasA        Ex          Y      SBrkr      1262         0             0   \n",
            "2    GasA        Ex          Y      SBrkr       920       866             0   \n",
            "3    GasA        Gd          Y      SBrkr       961       756             0   \n",
            "4    GasA        Ex          Y      SBrkr      1145      1053             0   \n",
            "\n",
            "   GrLivArea  BsmtFullBath  BsmtHalfBath  FullBath  HalfBath  BedroomAbvGr  \\\n",
            "0       1710             1             0         2         1             3   \n",
            "1       1262             0             1         2         0             3   \n",
            "2       1786             1             0         2         1             3   \n",
            "3       1717             1             0         1         0             3   \n",
            "4       2198             1             0         2         1             4   \n",
            "\n",
            "   KitchenAbvGr KitchenQual  TotRmsAbvGrd Functional  Fireplaces FireplaceQu  \\\n",
            "0             1          Gd             8        Typ           0         NaN   \n",
            "1             1          TA             6        Typ           1          TA   \n",
            "2             1          Gd             6        Typ           1          TA   \n",
            "3             1          Gd             7        Typ           1          Gd   \n",
            "4             1          Gd             9        Typ           1          TA   \n",
            "\n",
            "  GarageType  GarageYrBlt GarageFinish  GarageCars  GarageArea GarageQual  \\\n",
            "0     Attchd       2003.0          RFn           2         548         TA   \n",
            "1     Attchd       1976.0          RFn           2         460         TA   \n",
            "2     Attchd       2001.0          RFn           2         608         TA   \n",
            "3     Detchd       1998.0          Unf           3         642         TA   \n",
            "4     Attchd       2000.0          RFn           3         836         TA   \n",
            "\n",
            "  GarageCond PavedDrive  WoodDeckSF  OpenPorchSF  EnclosedPorch  3SsnPorch  \\\n",
            "0         TA          Y           0           61              0          0   \n",
            "1         TA          Y         298            0              0          0   \n",
            "2         TA          Y           0           42              0          0   \n",
            "3         TA          Y           0           35            272          0   \n",
            "4         TA          Y         192           84              0          0   \n",
            "\n",
            "   ScreenPorch  PoolArea PoolQC Fence MiscFeature  MiscVal  MoSold  YrSold  \\\n",
            "0            0         0    NaN   NaN         NaN        0       2    2008   \n",
            "1            0         0    NaN   NaN         NaN        0       5    2007   \n",
            "2            0         0    NaN   NaN         NaN        0       9    2008   \n",
            "3            0         0    NaN   NaN         NaN        0       2    2006   \n",
            "4            0         0    NaN   NaN         NaN        0      12    2008   \n",
            "\n",
            "  SaleType SaleCondition  SalePrice  Large_Lot  \n",
            "0       WD        Normal     208500        0.0  \n",
            "1       WD        Normal     181500        0.0  \n",
            "2       WD        Normal     223500        1.0  \n",
            "3       WD       Abnorml     140000        0.0  \n",
            "4       WD        Normal     250000        1.0  \n"
          ],
          "name": "stdout"
        }
      ]
    },
    {
      "cell_type": "markdown",
      "metadata": {
        "id": "sFduYJa5L-s4"
      },
      "source": [
        "###4) Create a new variable called Total_Bathrooms that contains the total number of full and half bathrooms in the house."
      ]
    },
    {
      "cell_type": "code",
      "metadata": {
        "id": "qzDon2puMCAy",
        "outputId": "b258e7d3-94df-4515-9992-6bb388e21d6f",
        "colab": {
          "base_uri": "https://localhost:8080/",
          "height": 222
        }
      },
      "source": [
        "#Code here\n",
        "house['Total_Bathrooms'] = house['FullBath'] + house['HalfBath'] + house['BsmtFullBath'] + house['BsmtHalfBath']\n",
        "house.head()"
      ],
      "execution_count": 6,
      "outputs": [
        {
          "output_type": "execute_result",
          "data": {
            "text/html": [
              "<div>\n",
              "<style scoped>\n",
              "    .dataframe tbody tr th:only-of-type {\n",
              "        vertical-align: middle;\n",
              "    }\n",
              "\n",
              "    .dataframe tbody tr th {\n",
              "        vertical-align: top;\n",
              "    }\n",
              "\n",
              "    .dataframe thead th {\n",
              "        text-align: right;\n",
              "    }\n",
              "</style>\n",
              "<table border=\"1\" class=\"dataframe\">\n",
              "  <thead>\n",
              "    <tr style=\"text-align: right;\">\n",
              "      <th></th>\n",
              "      <th>Id</th>\n",
              "      <th>MSSubClass</th>\n",
              "      <th>MSZoning</th>\n",
              "      <th>LotFrontage</th>\n",
              "      <th>LotArea</th>\n",
              "      <th>Street</th>\n",
              "      <th>Alley</th>\n",
              "      <th>LotShape</th>\n",
              "      <th>LandContour</th>\n",
              "      <th>Utilities</th>\n",
              "      <th>LotConfig</th>\n",
              "      <th>LandSlope</th>\n",
              "      <th>Neighborhood</th>\n",
              "      <th>Condition1</th>\n",
              "      <th>Condition2</th>\n",
              "      <th>BldgType</th>\n",
              "      <th>HouseStyle</th>\n",
              "      <th>OverallQual</th>\n",
              "      <th>OverallCond</th>\n",
              "      <th>YearBuilt</th>\n",
              "      <th>YearRemodAdd</th>\n",
              "      <th>RoofStyle</th>\n",
              "      <th>RoofMatl</th>\n",
              "      <th>Exterior1st</th>\n",
              "      <th>Exterior2nd</th>\n",
              "      <th>MasVnrType</th>\n",
              "      <th>MasVnrArea</th>\n",
              "      <th>ExterQual</th>\n",
              "      <th>ExterCond</th>\n",
              "      <th>Foundation</th>\n",
              "      <th>BsmtQual</th>\n",
              "      <th>BsmtCond</th>\n",
              "      <th>BsmtExposure</th>\n",
              "      <th>BsmtFinType1</th>\n",
              "      <th>BsmtFinSF1</th>\n",
              "      <th>BsmtFinType2</th>\n",
              "      <th>BsmtFinSF2</th>\n",
              "      <th>BsmtUnfSF</th>\n",
              "      <th>TotalBsmtSF</th>\n",
              "      <th>Heating</th>\n",
              "      <th>HeatingQC</th>\n",
              "      <th>CentralAir</th>\n",
              "      <th>Electrical</th>\n",
              "      <th>1stFlrSF</th>\n",
              "      <th>2ndFlrSF</th>\n",
              "      <th>LowQualFinSF</th>\n",
              "      <th>GrLivArea</th>\n",
              "      <th>BsmtFullBath</th>\n",
              "      <th>BsmtHalfBath</th>\n",
              "      <th>FullBath</th>\n",
              "      <th>HalfBath</th>\n",
              "      <th>BedroomAbvGr</th>\n",
              "      <th>KitchenAbvGr</th>\n",
              "      <th>KitchenQual</th>\n",
              "      <th>TotRmsAbvGrd</th>\n",
              "      <th>Functional</th>\n",
              "      <th>Fireplaces</th>\n",
              "      <th>FireplaceQu</th>\n",
              "      <th>GarageType</th>\n",
              "      <th>GarageYrBlt</th>\n",
              "      <th>GarageFinish</th>\n",
              "      <th>GarageCars</th>\n",
              "      <th>GarageArea</th>\n",
              "      <th>GarageQual</th>\n",
              "      <th>GarageCond</th>\n",
              "      <th>PavedDrive</th>\n",
              "      <th>WoodDeckSF</th>\n",
              "      <th>OpenPorchSF</th>\n",
              "      <th>EnclosedPorch</th>\n",
              "      <th>3SsnPorch</th>\n",
              "      <th>ScreenPorch</th>\n",
              "      <th>PoolArea</th>\n",
              "      <th>PoolQC</th>\n",
              "      <th>Fence</th>\n",
              "      <th>MiscFeature</th>\n",
              "      <th>MiscVal</th>\n",
              "      <th>MoSold</th>\n",
              "      <th>YrSold</th>\n",
              "      <th>SaleType</th>\n",
              "      <th>SaleCondition</th>\n",
              "      <th>SalePrice</th>\n",
              "      <th>Large_Lot</th>\n",
              "      <th>Total_Bathrooms</th>\n",
              "    </tr>\n",
              "  </thead>\n",
              "  <tbody>\n",
              "    <tr>\n",
              "      <th>0</th>\n",
              "      <td>1</td>\n",
              "      <td>60</td>\n",
              "      <td>RL</td>\n",
              "      <td>65.0</td>\n",
              "      <td>8450</td>\n",
              "      <td>Pave</td>\n",
              "      <td>NaN</td>\n",
              "      <td>Reg</td>\n",
              "      <td>Lvl</td>\n",
              "      <td>AllPub</td>\n",
              "      <td>Inside</td>\n",
              "      <td>Gtl</td>\n",
              "      <td>CollgCr</td>\n",
              "      <td>Norm</td>\n",
              "      <td>Norm</td>\n",
              "      <td>1Fam</td>\n",
              "      <td>2Story</td>\n",
              "      <td>7</td>\n",
              "      <td>5</td>\n",
              "      <td>2003</td>\n",
              "      <td>2003</td>\n",
              "      <td>Gable</td>\n",
              "      <td>CompShg</td>\n",
              "      <td>VinylSd</td>\n",
              "      <td>VinylSd</td>\n",
              "      <td>BrkFace</td>\n",
              "      <td>196.0</td>\n",
              "      <td>Gd</td>\n",
              "      <td>TA</td>\n",
              "      <td>PConc</td>\n",
              "      <td>Gd</td>\n",
              "      <td>TA</td>\n",
              "      <td>No</td>\n",
              "      <td>GLQ</td>\n",
              "      <td>706</td>\n",
              "      <td>Unf</td>\n",
              "      <td>0</td>\n",
              "      <td>150</td>\n",
              "      <td>856</td>\n",
              "      <td>GasA</td>\n",
              "      <td>Ex</td>\n",
              "      <td>Y</td>\n",
              "      <td>SBrkr</td>\n",
              "      <td>856</td>\n",
              "      <td>854</td>\n",
              "      <td>0</td>\n",
              "      <td>1710</td>\n",
              "      <td>1</td>\n",
              "      <td>0</td>\n",
              "      <td>2</td>\n",
              "      <td>1</td>\n",
              "      <td>3</td>\n",
              "      <td>1</td>\n",
              "      <td>Gd</td>\n",
              "      <td>8</td>\n",
              "      <td>Typ</td>\n",
              "      <td>0</td>\n",
              "      <td>NaN</td>\n",
              "      <td>Attchd</td>\n",
              "      <td>2003.0</td>\n",
              "      <td>RFn</td>\n",
              "      <td>2</td>\n",
              "      <td>548</td>\n",
              "      <td>TA</td>\n",
              "      <td>TA</td>\n",
              "      <td>Y</td>\n",
              "      <td>0</td>\n",
              "      <td>61</td>\n",
              "      <td>0</td>\n",
              "      <td>0</td>\n",
              "      <td>0</td>\n",
              "      <td>0</td>\n",
              "      <td>NaN</td>\n",
              "      <td>NaN</td>\n",
              "      <td>NaN</td>\n",
              "      <td>0</td>\n",
              "      <td>2</td>\n",
              "      <td>2008</td>\n",
              "      <td>WD</td>\n",
              "      <td>Normal</td>\n",
              "      <td>208500</td>\n",
              "      <td>0.0</td>\n",
              "      <td>4</td>\n",
              "    </tr>\n",
              "    <tr>\n",
              "      <th>1</th>\n",
              "      <td>2</td>\n",
              "      <td>20</td>\n",
              "      <td>RL</td>\n",
              "      <td>80.0</td>\n",
              "      <td>9600</td>\n",
              "      <td>Pave</td>\n",
              "      <td>NaN</td>\n",
              "      <td>Reg</td>\n",
              "      <td>Lvl</td>\n",
              "      <td>AllPub</td>\n",
              "      <td>FR2</td>\n",
              "      <td>Gtl</td>\n",
              "      <td>Veenker</td>\n",
              "      <td>Feedr</td>\n",
              "      <td>Norm</td>\n",
              "      <td>1Fam</td>\n",
              "      <td>1Story</td>\n",
              "      <td>6</td>\n",
              "      <td>8</td>\n",
              "      <td>1976</td>\n",
              "      <td>1976</td>\n",
              "      <td>Gable</td>\n",
              "      <td>CompShg</td>\n",
              "      <td>MetalSd</td>\n",
              "      <td>MetalSd</td>\n",
              "      <td>None</td>\n",
              "      <td>0.0</td>\n",
              "      <td>TA</td>\n",
              "      <td>TA</td>\n",
              "      <td>CBlock</td>\n",
              "      <td>Gd</td>\n",
              "      <td>TA</td>\n",
              "      <td>Gd</td>\n",
              "      <td>ALQ</td>\n",
              "      <td>978</td>\n",
              "      <td>Unf</td>\n",
              "      <td>0</td>\n",
              "      <td>284</td>\n",
              "      <td>1262</td>\n",
              "      <td>GasA</td>\n",
              "      <td>Ex</td>\n",
              "      <td>Y</td>\n",
              "      <td>SBrkr</td>\n",
              "      <td>1262</td>\n",
              "      <td>0</td>\n",
              "      <td>0</td>\n",
              "      <td>1262</td>\n",
              "      <td>0</td>\n",
              "      <td>1</td>\n",
              "      <td>2</td>\n",
              "      <td>0</td>\n",
              "      <td>3</td>\n",
              "      <td>1</td>\n",
              "      <td>TA</td>\n",
              "      <td>6</td>\n",
              "      <td>Typ</td>\n",
              "      <td>1</td>\n",
              "      <td>TA</td>\n",
              "      <td>Attchd</td>\n",
              "      <td>1976.0</td>\n",
              "      <td>RFn</td>\n",
              "      <td>2</td>\n",
              "      <td>460</td>\n",
              "      <td>TA</td>\n",
              "      <td>TA</td>\n",
              "      <td>Y</td>\n",
              "      <td>298</td>\n",
              "      <td>0</td>\n",
              "      <td>0</td>\n",
              "      <td>0</td>\n",
              "      <td>0</td>\n",
              "      <td>0</td>\n",
              "      <td>NaN</td>\n",
              "      <td>NaN</td>\n",
              "      <td>NaN</td>\n",
              "      <td>0</td>\n",
              "      <td>5</td>\n",
              "      <td>2007</td>\n",
              "      <td>WD</td>\n",
              "      <td>Normal</td>\n",
              "      <td>181500</td>\n",
              "      <td>0.0</td>\n",
              "      <td>3</td>\n",
              "    </tr>\n",
              "    <tr>\n",
              "      <th>2</th>\n",
              "      <td>3</td>\n",
              "      <td>60</td>\n",
              "      <td>RL</td>\n",
              "      <td>68.0</td>\n",
              "      <td>11250</td>\n",
              "      <td>Pave</td>\n",
              "      <td>NaN</td>\n",
              "      <td>IR1</td>\n",
              "      <td>Lvl</td>\n",
              "      <td>AllPub</td>\n",
              "      <td>Inside</td>\n",
              "      <td>Gtl</td>\n",
              "      <td>CollgCr</td>\n",
              "      <td>Norm</td>\n",
              "      <td>Norm</td>\n",
              "      <td>1Fam</td>\n",
              "      <td>2Story</td>\n",
              "      <td>7</td>\n",
              "      <td>5</td>\n",
              "      <td>2001</td>\n",
              "      <td>2002</td>\n",
              "      <td>Gable</td>\n",
              "      <td>CompShg</td>\n",
              "      <td>VinylSd</td>\n",
              "      <td>VinylSd</td>\n",
              "      <td>BrkFace</td>\n",
              "      <td>162.0</td>\n",
              "      <td>Gd</td>\n",
              "      <td>TA</td>\n",
              "      <td>PConc</td>\n",
              "      <td>Gd</td>\n",
              "      <td>TA</td>\n",
              "      <td>Mn</td>\n",
              "      <td>GLQ</td>\n",
              "      <td>486</td>\n",
              "      <td>Unf</td>\n",
              "      <td>0</td>\n",
              "      <td>434</td>\n",
              "      <td>920</td>\n",
              "      <td>GasA</td>\n",
              "      <td>Ex</td>\n",
              "      <td>Y</td>\n",
              "      <td>SBrkr</td>\n",
              "      <td>920</td>\n",
              "      <td>866</td>\n",
              "      <td>0</td>\n",
              "      <td>1786</td>\n",
              "      <td>1</td>\n",
              "      <td>0</td>\n",
              "      <td>2</td>\n",
              "      <td>1</td>\n",
              "      <td>3</td>\n",
              "      <td>1</td>\n",
              "      <td>Gd</td>\n",
              "      <td>6</td>\n",
              "      <td>Typ</td>\n",
              "      <td>1</td>\n",
              "      <td>TA</td>\n",
              "      <td>Attchd</td>\n",
              "      <td>2001.0</td>\n",
              "      <td>RFn</td>\n",
              "      <td>2</td>\n",
              "      <td>608</td>\n",
              "      <td>TA</td>\n",
              "      <td>TA</td>\n",
              "      <td>Y</td>\n",
              "      <td>0</td>\n",
              "      <td>42</td>\n",
              "      <td>0</td>\n",
              "      <td>0</td>\n",
              "      <td>0</td>\n",
              "      <td>0</td>\n",
              "      <td>NaN</td>\n",
              "      <td>NaN</td>\n",
              "      <td>NaN</td>\n",
              "      <td>0</td>\n",
              "      <td>9</td>\n",
              "      <td>2008</td>\n",
              "      <td>WD</td>\n",
              "      <td>Normal</td>\n",
              "      <td>223500</td>\n",
              "      <td>1.0</td>\n",
              "      <td>4</td>\n",
              "    </tr>\n",
              "    <tr>\n",
              "      <th>3</th>\n",
              "      <td>4</td>\n",
              "      <td>70</td>\n",
              "      <td>RL</td>\n",
              "      <td>60.0</td>\n",
              "      <td>9550</td>\n",
              "      <td>Pave</td>\n",
              "      <td>NaN</td>\n",
              "      <td>IR1</td>\n",
              "      <td>Lvl</td>\n",
              "      <td>AllPub</td>\n",
              "      <td>Corner</td>\n",
              "      <td>Gtl</td>\n",
              "      <td>Crawfor</td>\n",
              "      <td>Norm</td>\n",
              "      <td>Norm</td>\n",
              "      <td>1Fam</td>\n",
              "      <td>2Story</td>\n",
              "      <td>7</td>\n",
              "      <td>5</td>\n",
              "      <td>1915</td>\n",
              "      <td>1970</td>\n",
              "      <td>Gable</td>\n",
              "      <td>CompShg</td>\n",
              "      <td>Wd Sdng</td>\n",
              "      <td>Wd Shng</td>\n",
              "      <td>None</td>\n",
              "      <td>0.0</td>\n",
              "      <td>TA</td>\n",
              "      <td>TA</td>\n",
              "      <td>BrkTil</td>\n",
              "      <td>TA</td>\n",
              "      <td>Gd</td>\n",
              "      <td>No</td>\n",
              "      <td>ALQ</td>\n",
              "      <td>216</td>\n",
              "      <td>Unf</td>\n",
              "      <td>0</td>\n",
              "      <td>540</td>\n",
              "      <td>756</td>\n",
              "      <td>GasA</td>\n",
              "      <td>Gd</td>\n",
              "      <td>Y</td>\n",
              "      <td>SBrkr</td>\n",
              "      <td>961</td>\n",
              "      <td>756</td>\n",
              "      <td>0</td>\n",
              "      <td>1717</td>\n",
              "      <td>1</td>\n",
              "      <td>0</td>\n",
              "      <td>1</td>\n",
              "      <td>0</td>\n",
              "      <td>3</td>\n",
              "      <td>1</td>\n",
              "      <td>Gd</td>\n",
              "      <td>7</td>\n",
              "      <td>Typ</td>\n",
              "      <td>1</td>\n",
              "      <td>Gd</td>\n",
              "      <td>Detchd</td>\n",
              "      <td>1998.0</td>\n",
              "      <td>Unf</td>\n",
              "      <td>3</td>\n",
              "      <td>642</td>\n",
              "      <td>TA</td>\n",
              "      <td>TA</td>\n",
              "      <td>Y</td>\n",
              "      <td>0</td>\n",
              "      <td>35</td>\n",
              "      <td>272</td>\n",
              "      <td>0</td>\n",
              "      <td>0</td>\n",
              "      <td>0</td>\n",
              "      <td>NaN</td>\n",
              "      <td>NaN</td>\n",
              "      <td>NaN</td>\n",
              "      <td>0</td>\n",
              "      <td>2</td>\n",
              "      <td>2006</td>\n",
              "      <td>WD</td>\n",
              "      <td>Abnorml</td>\n",
              "      <td>140000</td>\n",
              "      <td>0.0</td>\n",
              "      <td>2</td>\n",
              "    </tr>\n",
              "    <tr>\n",
              "      <th>4</th>\n",
              "      <td>5</td>\n",
              "      <td>60</td>\n",
              "      <td>RL</td>\n",
              "      <td>84.0</td>\n",
              "      <td>14260</td>\n",
              "      <td>Pave</td>\n",
              "      <td>NaN</td>\n",
              "      <td>IR1</td>\n",
              "      <td>Lvl</td>\n",
              "      <td>AllPub</td>\n",
              "      <td>FR2</td>\n",
              "      <td>Gtl</td>\n",
              "      <td>NoRidge</td>\n",
              "      <td>Norm</td>\n",
              "      <td>Norm</td>\n",
              "      <td>1Fam</td>\n",
              "      <td>2Story</td>\n",
              "      <td>8</td>\n",
              "      <td>5</td>\n",
              "      <td>2000</td>\n",
              "      <td>2000</td>\n",
              "      <td>Gable</td>\n",
              "      <td>CompShg</td>\n",
              "      <td>VinylSd</td>\n",
              "      <td>VinylSd</td>\n",
              "      <td>BrkFace</td>\n",
              "      <td>350.0</td>\n",
              "      <td>Gd</td>\n",
              "      <td>TA</td>\n",
              "      <td>PConc</td>\n",
              "      <td>Gd</td>\n",
              "      <td>TA</td>\n",
              "      <td>Av</td>\n",
              "      <td>GLQ</td>\n",
              "      <td>655</td>\n",
              "      <td>Unf</td>\n",
              "      <td>0</td>\n",
              "      <td>490</td>\n",
              "      <td>1145</td>\n",
              "      <td>GasA</td>\n",
              "      <td>Ex</td>\n",
              "      <td>Y</td>\n",
              "      <td>SBrkr</td>\n",
              "      <td>1145</td>\n",
              "      <td>1053</td>\n",
              "      <td>0</td>\n",
              "      <td>2198</td>\n",
              "      <td>1</td>\n",
              "      <td>0</td>\n",
              "      <td>2</td>\n",
              "      <td>1</td>\n",
              "      <td>4</td>\n",
              "      <td>1</td>\n",
              "      <td>Gd</td>\n",
              "      <td>9</td>\n",
              "      <td>Typ</td>\n",
              "      <td>1</td>\n",
              "      <td>TA</td>\n",
              "      <td>Attchd</td>\n",
              "      <td>2000.0</td>\n",
              "      <td>RFn</td>\n",
              "      <td>3</td>\n",
              "      <td>836</td>\n",
              "      <td>TA</td>\n",
              "      <td>TA</td>\n",
              "      <td>Y</td>\n",
              "      <td>192</td>\n",
              "      <td>84</td>\n",
              "      <td>0</td>\n",
              "      <td>0</td>\n",
              "      <td>0</td>\n",
              "      <td>0</td>\n",
              "      <td>NaN</td>\n",
              "      <td>NaN</td>\n",
              "      <td>NaN</td>\n",
              "      <td>0</td>\n",
              "      <td>12</td>\n",
              "      <td>2008</td>\n",
              "      <td>WD</td>\n",
              "      <td>Normal</td>\n",
              "      <td>250000</td>\n",
              "      <td>1.0</td>\n",
              "      <td>4</td>\n",
              "    </tr>\n",
              "  </tbody>\n",
              "</table>\n",
              "</div>"
            ],
            "text/plain": [
              "   Id  MSSubClass MSZoning  LotFrontage  LotArea Street Alley LotShape  \\\n",
              "0   1          60       RL         65.0     8450   Pave   NaN      Reg   \n",
              "1   2          20       RL         80.0     9600   Pave   NaN      Reg   \n",
              "2   3          60       RL         68.0    11250   Pave   NaN      IR1   \n",
              "3   4          70       RL         60.0     9550   Pave   NaN      IR1   \n",
              "4   5          60       RL         84.0    14260   Pave   NaN      IR1   \n",
              "\n",
              "  LandContour Utilities LotConfig LandSlope Neighborhood Condition1  \\\n",
              "0         Lvl    AllPub    Inside       Gtl      CollgCr       Norm   \n",
              "1         Lvl    AllPub       FR2       Gtl      Veenker      Feedr   \n",
              "2         Lvl    AllPub    Inside       Gtl      CollgCr       Norm   \n",
              "3         Lvl    AllPub    Corner       Gtl      Crawfor       Norm   \n",
              "4         Lvl    AllPub       FR2       Gtl      NoRidge       Norm   \n",
              "\n",
              "  Condition2 BldgType HouseStyle  OverallQual  OverallCond  YearBuilt  \\\n",
              "0       Norm     1Fam     2Story            7            5       2003   \n",
              "1       Norm     1Fam     1Story            6            8       1976   \n",
              "2       Norm     1Fam     2Story            7            5       2001   \n",
              "3       Norm     1Fam     2Story            7            5       1915   \n",
              "4       Norm     1Fam     2Story            8            5       2000   \n",
              "\n",
              "   YearRemodAdd RoofStyle RoofMatl Exterior1st Exterior2nd MasVnrType  \\\n",
              "0          2003     Gable  CompShg     VinylSd     VinylSd    BrkFace   \n",
              "1          1976     Gable  CompShg     MetalSd     MetalSd       None   \n",
              "2          2002     Gable  CompShg     VinylSd     VinylSd    BrkFace   \n",
              "3          1970     Gable  CompShg     Wd Sdng     Wd Shng       None   \n",
              "4          2000     Gable  CompShg     VinylSd     VinylSd    BrkFace   \n",
              "\n",
              "   MasVnrArea ExterQual ExterCond Foundation BsmtQual BsmtCond BsmtExposure  \\\n",
              "0       196.0        Gd        TA      PConc       Gd       TA           No   \n",
              "1         0.0        TA        TA     CBlock       Gd       TA           Gd   \n",
              "2       162.0        Gd        TA      PConc       Gd       TA           Mn   \n",
              "3         0.0        TA        TA     BrkTil       TA       Gd           No   \n",
              "4       350.0        Gd        TA      PConc       Gd       TA           Av   \n",
              "\n",
              "  BsmtFinType1  BsmtFinSF1 BsmtFinType2  BsmtFinSF2  BsmtUnfSF  TotalBsmtSF  \\\n",
              "0          GLQ         706          Unf           0        150          856   \n",
              "1          ALQ         978          Unf           0        284         1262   \n",
              "2          GLQ         486          Unf           0        434          920   \n",
              "3          ALQ         216          Unf           0        540          756   \n",
              "4          GLQ         655          Unf           0        490         1145   \n",
              "\n",
              "  Heating HeatingQC CentralAir Electrical  1stFlrSF  2ndFlrSF  LowQualFinSF  \\\n",
              "0    GasA        Ex          Y      SBrkr       856       854             0   \n",
              "1    GasA        Ex          Y      SBrkr      1262         0             0   \n",
              "2    GasA        Ex          Y      SBrkr       920       866             0   \n",
              "3    GasA        Gd          Y      SBrkr       961       756             0   \n",
              "4    GasA        Ex          Y      SBrkr      1145      1053             0   \n",
              "\n",
              "   GrLivArea  BsmtFullBath  BsmtHalfBath  FullBath  HalfBath  BedroomAbvGr  \\\n",
              "0       1710             1             0         2         1             3   \n",
              "1       1262             0             1         2         0             3   \n",
              "2       1786             1             0         2         1             3   \n",
              "3       1717             1             0         1         0             3   \n",
              "4       2198             1             0         2         1             4   \n",
              "\n",
              "   KitchenAbvGr KitchenQual  TotRmsAbvGrd Functional  Fireplaces FireplaceQu  \\\n",
              "0             1          Gd             8        Typ           0         NaN   \n",
              "1             1          TA             6        Typ           1          TA   \n",
              "2             1          Gd             6        Typ           1          TA   \n",
              "3             1          Gd             7        Typ           1          Gd   \n",
              "4             1          Gd             9        Typ           1          TA   \n",
              "\n",
              "  GarageType  GarageYrBlt GarageFinish  GarageCars  GarageArea GarageQual  \\\n",
              "0     Attchd       2003.0          RFn           2         548         TA   \n",
              "1     Attchd       1976.0          RFn           2         460         TA   \n",
              "2     Attchd       2001.0          RFn           2         608         TA   \n",
              "3     Detchd       1998.0          Unf           3         642         TA   \n",
              "4     Attchd       2000.0          RFn           3         836         TA   \n",
              "\n",
              "  GarageCond PavedDrive  WoodDeckSF  OpenPorchSF  EnclosedPorch  3SsnPorch  \\\n",
              "0         TA          Y           0           61              0          0   \n",
              "1         TA          Y         298            0              0          0   \n",
              "2         TA          Y           0           42              0          0   \n",
              "3         TA          Y           0           35            272          0   \n",
              "4         TA          Y         192           84              0          0   \n",
              "\n",
              "   ScreenPorch  PoolArea PoolQC Fence MiscFeature  MiscVal  MoSold  YrSold  \\\n",
              "0            0         0    NaN   NaN         NaN        0       2    2008   \n",
              "1            0         0    NaN   NaN         NaN        0       5    2007   \n",
              "2            0         0    NaN   NaN         NaN        0       9    2008   \n",
              "3            0         0    NaN   NaN         NaN        0       2    2006   \n",
              "4            0         0    NaN   NaN         NaN        0      12    2008   \n",
              "\n",
              "  SaleType SaleCondition  SalePrice  Large_Lot  Total_Bathrooms  \n",
              "0       WD        Normal     208500        0.0                4  \n",
              "1       WD        Normal     181500        0.0                3  \n",
              "2       WD        Normal     223500        1.0                4  \n",
              "3       WD       Abnorml     140000        0.0                2  \n",
              "4       WD        Normal     250000        1.0                4  "
            ]
          },
          "metadata": {
            "tags": []
          },
          "execution_count": 6
        }
      ]
    },
    {
      "cell_type": "markdown",
      "metadata": {
        "id": "bnh-uoqYN29Q"
      },
      "source": [
        "###5) Create a new variable called Summer_Sale that equals 1 if the sale month was in June, July or August ( MoSold = 6, 7 or 8) and 0 if the sale month was in September - May."
      ]
    },
    {
      "cell_type": "code",
      "metadata": {
        "id": "4k0Qd30MP4OS",
        "outputId": "39931864-27c2-4af0-899b-b6846fc52451",
        "colab": {
          "base_uri": "https://localhost:8080/",
          "height": 1000
        }
      },
      "source": [
        "#code here\n",
        "ideal_mths = [6,7,8]\n",
        "not_ideal_mths = [1,2,3,4,5,9,10,11,12]\n",
        "house.loc[house['MoSold'].isin(ideal_mths), 'Summer_Sale'] = 1\n",
        "house.loc[house['MoSold'].isin(not_ideal_mths), 'Summer_Sale'] = 0\n",
        "print(house.tail())"
      ],
      "execution_count": 9,
      "outputs": [
        {
          "output_type": "stream",
          "text": [
            "        Id  MSSubClass MSZoning  LotFrontage  LotArea Street Alley LotShape  \\\n",
            "1455  1456          60       RL         62.0     7917   Pave   NaN      Reg   \n",
            "1456  1457          20       RL         85.0    13175   Pave   NaN      Reg   \n",
            "1457  1458          70       RL         66.0     9042   Pave   NaN      Reg   \n",
            "1458  1459          20       RL         68.0     9717   Pave   NaN      Reg   \n",
            "1459  1460          20       RL         75.0     9937   Pave   NaN      Reg   \n",
            "\n",
            "     LandContour Utilities LotConfig LandSlope Neighborhood Condition1  \\\n",
            "1455         Lvl    AllPub    Inside       Gtl      Gilbert       Norm   \n",
            "1456         Lvl    AllPub    Inside       Gtl       NWAmes       Norm   \n",
            "1457         Lvl    AllPub    Inside       Gtl      Crawfor       Norm   \n",
            "1458         Lvl    AllPub    Inside       Gtl        NAmes       Norm   \n",
            "1459         Lvl    AllPub    Inside       Gtl      Edwards       Norm   \n",
            "\n",
            "     Condition2 BldgType HouseStyle  OverallQual  OverallCond  YearBuilt  \\\n",
            "1455       Norm     1Fam     2Story            6            5       1999   \n",
            "1456       Norm     1Fam     1Story            6            6       1978   \n",
            "1457       Norm     1Fam     2Story            7            9       1941   \n",
            "1458       Norm     1Fam     1Story            5            6       1950   \n",
            "1459       Norm     1Fam     1Story            5            6       1965   \n",
            "\n",
            "      YearRemodAdd RoofStyle RoofMatl Exterior1st Exterior2nd MasVnrType  \\\n",
            "1455          2000     Gable  CompShg     VinylSd     VinylSd       None   \n",
            "1456          1988     Gable  CompShg     Plywood     Plywood      Stone   \n",
            "1457          2006     Gable  CompShg     CemntBd     CmentBd       None   \n",
            "1458          1996       Hip  CompShg     MetalSd     MetalSd       None   \n",
            "1459          1965     Gable  CompShg     HdBoard     HdBoard       None   \n",
            "\n",
            "      MasVnrArea ExterQual ExterCond Foundation BsmtQual BsmtCond  \\\n",
            "1455         0.0        TA        TA      PConc       Gd       TA   \n",
            "1456       119.0        TA        TA     CBlock       Gd       TA   \n",
            "1457         0.0        Ex        Gd      Stone       TA       Gd   \n",
            "1458         0.0        TA        TA     CBlock       TA       TA   \n",
            "1459         0.0        Gd        TA     CBlock       TA       TA   \n",
            "\n",
            "     BsmtExposure BsmtFinType1  BsmtFinSF1 BsmtFinType2  BsmtFinSF2  \\\n",
            "1455           No          Unf           0          Unf           0   \n",
            "1456           No          ALQ         790          Rec         163   \n",
            "1457           No          GLQ         275          Unf           0   \n",
            "1458           Mn          GLQ          49          Rec        1029   \n",
            "1459           No          BLQ         830          LwQ         290   \n",
            "\n",
            "      BsmtUnfSF  TotalBsmtSF Heating HeatingQC CentralAir Electrical  \\\n",
            "1455        953          953    GasA        Ex          Y      SBrkr   \n",
            "1456        589         1542    GasA        TA          Y      SBrkr   \n",
            "1457        877         1152    GasA        Ex          Y      SBrkr   \n",
            "1458          0         1078    GasA        Gd          Y      FuseA   \n",
            "1459        136         1256    GasA        Gd          Y      SBrkr   \n",
            "\n",
            "      1stFlrSF  2ndFlrSF  LowQualFinSF  GrLivArea  BsmtFullBath  BsmtHalfBath  \\\n",
            "1455       953       694             0       1647             0             0   \n",
            "1456      2073         0             0       2073             1             0   \n",
            "1457      1188      1152             0       2340             0             0   \n",
            "1458      1078         0             0       1078             1             0   \n",
            "1459      1256         0             0       1256             1             0   \n",
            "\n",
            "      FullBath  HalfBath  BedroomAbvGr  KitchenAbvGr KitchenQual  \\\n",
            "1455         2         1             3             1          TA   \n",
            "1456         2         0             3             1          TA   \n",
            "1457         2         0             4             1          Gd   \n",
            "1458         1         0             2             1          Gd   \n",
            "1459         1         1             3             1          TA   \n",
            "\n",
            "      TotRmsAbvGrd Functional  Fireplaces FireplaceQu GarageType  GarageYrBlt  \\\n",
            "1455             7        Typ           1          TA     Attchd       1999.0   \n",
            "1456             7       Min1           2          TA     Attchd       1978.0   \n",
            "1457             9        Typ           2          Gd     Attchd       1941.0   \n",
            "1458             5        Typ           0         NaN     Attchd       1950.0   \n",
            "1459             6        Typ           0         NaN     Attchd       1965.0   \n",
            "\n",
            "     GarageFinish  GarageCars  GarageArea GarageQual GarageCond PavedDrive  \\\n",
            "1455          RFn           2         460         TA         TA          Y   \n",
            "1456          Unf           2         500         TA         TA          Y   \n",
            "1457          RFn           1         252         TA         TA          Y   \n",
            "1458          Unf           1         240         TA         TA          Y   \n",
            "1459          Fin           1         276         TA         TA          Y   \n",
            "\n",
            "      WoodDeckSF  OpenPorchSF  EnclosedPorch  3SsnPorch  ScreenPorch  \\\n",
            "1455           0           40              0          0            0   \n",
            "1456         349            0              0          0            0   \n",
            "1457           0           60              0          0            0   \n",
            "1458         366            0            112          0            0   \n",
            "1459         736           68              0          0            0   \n",
            "\n",
            "      PoolArea PoolQC  Fence MiscFeature  MiscVal  MoSold  YrSold SaleType  \\\n",
            "1455         0    NaN    NaN         NaN        0       8    2007       WD   \n",
            "1456         0    NaN  MnPrv         NaN        0       2    2010       WD   \n",
            "1457         0    NaN  GdPrv        Shed     2500       5    2010       WD   \n",
            "1458         0    NaN    NaN         NaN        0       4    2010       WD   \n",
            "1459         0    NaN    NaN         NaN        0       6    2008       WD   \n",
            "\n",
            "     SaleCondition  SalePrice  Large_Lot  Total_Bathrooms  Summer_Sale  \n",
            "1455        Normal     175000        0.0                3          1.0  \n",
            "1456        Normal     210000        1.0                3          0.0  \n",
            "1457        Normal     266500        0.0                2          0.0  \n",
            "1458        Normal     142125        0.0                2          0.0  \n",
            "1459        Normal     147500        0.0                3          1.0  \n"
          ],
          "name": "stdout"
        }
      ]
    },
    {
      "cell_type": "markdown",
      "metadata": {
        "id": "B_9CTa2QYcpu"
      },
      "source": [
        "#Now we'll revisit the LendingClub data.\n",
        "\n",
        "Remember to import the data by first unzipping the file:"
      ]
    },
    {
      "cell_type": "code",
      "metadata": {
        "id": "i_RRvbrDYslZ",
        "outputId": "a9e9ed0d-0e33-4874-8718-652ae7f1720f",
        "colab": {
          "base_uri": "https://localhost:8080/",
          "height": 208
        }
      },
      "source": [
        "!wget https://resources.lendingclub.com/LoanStats_2018Q4.csv.zip"
      ],
      "execution_count": 10,
      "outputs": [
        {
          "output_type": "stream",
          "text": [
            "--2020-10-28 01:52:45--  https://resources.lendingclub.com/LoanStats_2018Q4.csv.zip\n",
            "Resolving resources.lendingclub.com (resources.lendingclub.com)... 52.10.247.232, 52.10.168.94, 34.209.169.217\n",
            "Connecting to resources.lendingclub.com (resources.lendingclub.com)|52.10.247.232|:443... connected.\n",
            "HTTP request sent, awaiting response... 200 OK\n",
            "Length: unspecified [application/zip]\n",
            "Saving to: ‘LoanStats_2018Q4.csv.zip’\n",
            "\n",
            "LoanStats_2018Q4.cs     [ <=>                ]  22.30M  3.22MB/s    in 7.0s    \n",
            "\n",
            "2020-10-28 01:52:52 (3.19 MB/s) - ‘LoanStats_2018Q4.csv.zip’ saved [23387713]\n",
            "\n"
          ],
          "name": "stdout"
        }
      ]
    },
    {
      "cell_type": "code",
      "metadata": {
        "id": "hxUqtdlnY3oB",
        "outputId": "5b52f13a-9423-48f2-acfb-a8e8c5974281",
        "colab": {
          "base_uri": "https://localhost:8080/",
          "height": 52
        }
      },
      "source": [
        "!unzip LoanStats_2018Q4.csv.zip\n"
      ],
      "execution_count": 11,
      "outputs": [
        {
          "output_type": "stream",
          "text": [
            "Archive:  LoanStats_2018Q4.csv.zip\n",
            "  inflating: LoanStats_2018Q4.csv    \n"
          ],
          "name": "stdout"
        }
      ]
    },
    {
      "cell_type": "code",
      "metadata": {
        "id": "aQB-OhvAZZQC",
        "outputId": "deaa1a69-d311-4980-bee6-46f49aefb5ef",
        "colab": {
          "base_uri": "https://localhost:8080/",
          "height": 52
        }
      },
      "source": [
        "# Read in the CSV\n",
        "import pandas as pd\n",
        "df = pd.read_csv('LoanStats_2018Q4.csv', skiprows=1, skipfooter=2, engine='python')\n",
        "\n",
        "print(df.shape)\n",
        "df.head()\n"
      ],
      "execution_count": 50,
      "outputs": [
        {
          "output_type": "stream",
          "text": [
            "(128378, 144)\n"
          ],
          "name": "stdout"
        },
        {
          "output_type": "execute_result",
          "data": {
            "text/plain": [
              "dtype('O')"
            ]
          },
          "metadata": {
            "tags": []
          },
          "execution_count": 50
        }
      ]
    },
    {
      "cell_type": "code",
      "metadata": {
        "id": "5_hglIX38HiS"
      },
      "source": [
        ""
      ],
      "execution_count": null,
      "outputs": []
    },
    {
      "cell_type": "markdown",
      "metadata": {
        "id": "qnT_KD-MhLfg"
      },
      "source": [
        "#Approaching a problem two different ways.\n",
        "\n",
        "In the guided project, we learned how to find the earliest credit year using the built-in pandas date-time format.  However, there is often more than one way to come up with the same solution.  \n",
        "\n",
        "\n",
        "\n",
        "\n"
      ]
    },
    {
      "cell_type": "markdown",
      "metadata": {
        "id": "yuUB4pnFgbAr"
      },
      "source": [
        "\n",
        "In the following questions we will work through the steps to create a new variables called Earliest_Credit_Year and issue_year where we use the .split() function remove the month report back just the year as a float data type.  Then we'll use those variables to calculate the length of credit history in years.  "
      ]
    },
    {
      "cell_type": "markdown",
      "metadata": {
        "id": "P2Utc8Togc79"
      },
      "source": [
        "If we do everything correctly, we should calculate *about* the same length of longest credit history that we did in class working with the date-time format.  The answers won't exactly match because we are making different assumptions about when in each month and year the loans were taken out, but it will give you a flavor for different ways of approaching the same problem."
      ]
    },
    {
      "cell_type": "markdown",
      "metadata": {
        "id": "Lx0kHSTFhoKj"
      },
      "source": [
        "###6) Create a simple test case where credit = 'Jun-1979'.  \n",
        "\n",
        "Use the .split('-') function to separate the month and year parts of the data and print the year.\n",
        "\n",
        "Hint: Name the results of the .split('-') function \"fields\".  fields[0] will return the month part of the date and fields[1] will return the year part of the date."
      ]
    },
    {
      "cell_type": "code",
      "metadata": {
        "id": "y80jf99GaKsL",
        "outputId": "40828cb5-1c5f-41af-b1ed-cc3e3c5684f8",
        "colab": {
          "base_uri": "https://localhost:8080/",
          "height": 35
        }
      },
      "source": [
        "#code here\n",
        "credit = 'Jun-1979'\n",
        "credit.split('-')"
      ],
      "execution_count": 14,
      "outputs": [
        {
          "output_type": "execute_result",
          "data": {
            "text/plain": [
              "['Jun', '1979']"
            ]
          },
          "metadata": {
            "tags": []
          },
          "execution_count": 14
        }
      ]
    },
    {
      "cell_type": "markdown",
      "metadata": {
        "id": "TtC6exPui9y4"
      },
      "source": [
        "###7) Use your answer in 6) to write a function called credit_yr that takes in the contents of a cell formatted 'month-year' and returns the year.\n",
        "\n",
        "Run your function using the simple test case in 6)."
      ]
    },
    {
      "cell_type": "code",
      "metadata": {
        "id": "dtF2-tjogC6J"
      },
      "source": [
        "#Code here\n",
        "def credit_yr(string):\n",
        "  [col for col in df if col.endswith('_d')]\n",
        "  year = float(string.split('-')[1])\n",
        "  return year\n"
      ],
      "execution_count": 62,
      "outputs": []
    },
    {
      "cell_type": "markdown",
      "metadata": {
        "id": "a1XVfTOIjfrW"
      },
      "source": [
        "###8) Use the .apply() function to apply the function to every cell in the earliest_cr_line variable."
      ]
    },
    {
      "cell_type": "code",
      "metadata": {
        "id": "lZhlULhykCB_"
      },
      "source": [
        "#code here\n",
        "df['Earliest_Credit_Year'] = df['earliest_cr_line'].apply(credit_yr)"
      ],
      "execution_count": 63,
      "outputs": []
    },
    {
      "cell_type": "markdown",
      "metadata": {
        "id": "ckSsAPccmvMQ"
      },
      "source": [
        "###9) Print the top 5 rows of the Earliest_Credit_Year and earliest_cr_line variables to make sure the variables were created correctly."
      ]
    },
    {
      "cell_type": "code",
      "metadata": {
        "id": "XLpUOqdgm4WQ",
        "outputId": "38ca2ae7-deb2-4b5b-e800-6ac8916a49c1",
        "colab": {
          "base_uri": "https://localhost:8080/",
          "height": 121
        }
      },
      "source": [
        "#code here\n",
        "print(df[['earliest_cr_line','Earliest_Credit_Year']].head())"
      ],
      "execution_count": 64,
      "outputs": [
        {
          "output_type": "stream",
          "text": [
            "  earliest_cr_line  Earliest_Credit_Year\n",
            "0         Oct-2007                2007.0\n",
            "1         Jan-2002                2002.0\n",
            "2         Feb-1999                1999.0\n",
            "3         Aug-2011                2011.0\n",
            "4         Oct-1993                1993.0\n"
          ],
          "name": "stdout"
        }
      ]
    },
    {
      "cell_type": "markdown",
      "metadata": {
        "id": "w5vb0vQjg3Sj"
      },
      "source": [
        "### 10) Use your function to create a new variable called Issue_Year from the issue_d variable."
      ]
    },
    {
      "cell_type": "code",
      "metadata": {
        "id": "5sIn85mbg1pw",
        "outputId": "8944e6b8-494c-48ed-ee6d-df2c7aa32122",
        "colab": {
          "base_uri": "https://localhost:8080/",
          "height": 121
        }
      },
      "source": [
        "#code here\n",
        "df['Issue_Year'] = df['issue_d'].apply(credit_yr)\n",
        "print(df[['issue_d','Issue_Year']].head())"
      ],
      "execution_count": 65,
      "outputs": [
        {
          "output_type": "stream",
          "text": [
            "    issue_d  Issue_Year\n",
            "0  Dec-2018      2018.0\n",
            "1  Dec-2018      2018.0\n",
            "2  Dec-2018      2018.0\n",
            "3  Dec-2018      2018.0\n",
            "4  Dec-2018      2018.0\n"
          ],
          "name": "stdout"
        }
      ]
    },
    {
      "cell_type": "markdown",
      "metadata": {
        "id": "iZItgQjQiCh9"
      },
      "source": [
        "###11) Calculate length of credit history in years and in days.\n",
        "\n",
        "*   List item\n",
        "*   List item\n",
        "\n",
        "\n",
        "\n",
        "Hint: If you are getting an error message, make sure to check the data type of the years output by your functions."
      ]
    },
    {
      "cell_type": "code",
      "metadata": {
        "id": "0mT7pG9hiTf2",
        "outputId": "65a12856-d3d7-4584-9a9b-6a38f1ff7328",
        "colab": {
          "base_uri": "https://localhost:8080/",
          "height": 121
        }
      },
      "source": [
        "#Code here \n",
        "df['credit_length_days'] = pd.to_datetime(df['issue_d']) - pd.to_datetime(df['earliest_cr_line'])\n",
        "df['credit_length_years'] = df['Issue_Year'] - df['Earliest_Credit_Year']\n",
        "\n",
        "\n",
        "print(df[['issue_d','earliest_cr_line','credit_length_days','credit_length_years']].head())\n"
      ],
      "execution_count": 86,
      "outputs": [
        {
          "output_type": "stream",
          "text": [
            "    issue_d earliest_cr_line credit_length_days  credit_length_years\n",
            "0  Dec-2018         Oct-2007          4079 days                 11.0\n",
            "1  Dec-2018         Jan-2002          6178 days                 16.0\n",
            "2  Dec-2018         Feb-1999          7243 days                 19.0\n",
            "3  Dec-2018         Aug-2011          2679 days                  7.0\n",
            "4  Dec-2018         Oct-1993          9192 days                 25.0\n"
          ],
          "name": "stdout"
        }
      ]
    },
    {
      "cell_type": "markdown",
      "metadata": {
        "id": "PvcOSw9gjUzF"
      },
      "source": [
        "###12) Calculate the maximum credit length and compare it to we got in the guided project.  \n",
        "\n",
        "Note - it won't be *exactly* the same because both methods are working in different ways, but they will give you a \"pretty close\" answer."
      ]
    },
    {
      "cell_type": "code",
      "metadata": {
        "id": "gmNFZzaQjdQi",
        "outputId": "f058795a-6741-49a8-fa0b-d6bcba4627db",
        "colab": {
          "base_uri": "https://localhost:8080/",
          "height": 35
        }
      },
      "source": [
        "#code here\n",
        "max_credit_length_days = df['credit_length_days'].max()\n",
        "max_credit_length_years = df['credit_length_years'].max()\n",
        "\n",
        "print(max_credit_length_days, max_credit_length_years)"
      ],
      "execution_count": 88,
      "outputs": [
        {
          "output_type": "stream",
          "text": [
            "25171 days 00:00:00 68.0\n"
          ],
          "name": "stdout"
        }
      ]
    },
    {
      "cell_type": "markdown",
      "metadata": {
        "id": "44EW31YboV-7"
      },
      "source": [
        "#Portfolio Project Assignment\n",
        "\n",
        "Start looking for interesting datasets!  \n",
        "\n",
        "Pretty much every major US governmental agency (CDC, Bureau of Labor Statistics, The Census, etc.) maintains a treasure trove of data.\n",
        "\n",
        "There's also:\n",
        "\n",
        "Datasets from the University of Florida Department of Statistics: http://users.stat.ufl.edu/~winner/datasets.html\n",
        "\n",
        "Pew Research: https://www.pewresearch.org/\n",
        "\n",
        "General Social Survey: https://gss.norc.org/\n",
        "\n",
        "Ancestry.com Free data collections: https://www.ancestry.com/search/categories/freeindexacom/?clickref=1101lbhdWxys&key=Uhttps%3A%2F%2Fwww.ancestry.com%2Fsearch%2Fcategories%2Ffreeindexacom%2F%3Fclickref%3D1101lbhdWxys&o_lid=01011l4pVw&o_sch=Affiliate+External&o_xid=01011l4pVw\n",
        "\n",
        "Popular baby names by year since the founding of the SSA: https://www.babynamewizard.com/ \n",
        "\n",
        "\n",
        "https://data.world/\n",
        "\n",
        "https://www.kaggle.com/datasets\n",
        "\n",
        "https://catalog.data.gov/dataset\n",
        "\n",
        "https://datasetsearch.research.google.com/\n",
        "\n",
        "https://archive.ics.uci.edu/ml/index.php\n",
        "\n",
        "https://github.com/plotly/datasets\n",
        "\n",
        "https://lionbridge.ai/datasets/20-best-image-datasets-for-computer-vision/\n",
        "\n",
        "https://www.visualdata.io/\n",
        "\n",
        "https://pathmind.com/wiki/open-datasets\n",
        "\n",
        "https://blog.playment.io/top-open-image-dataset/\n",
        "\n",
        "https://blog.cambridgespark.com/\n",
        "\n",
        "https://www.analyticsvidhya.com/blog/2018/03/\n",
        "\n",
        "https://data-flair.training/blogs/machine-learning-datasets/\n",
        "\n",
        "\n",
        "\n",
        "\n",
        "\n"
      ]
    }
  ]
}