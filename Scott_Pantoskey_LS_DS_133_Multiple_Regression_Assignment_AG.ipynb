{
  "nbformat": 4,
  "nbformat_minor": 0,
  "metadata": {
    "colab": {
      "name": "Scott_Pantoskey_LS_DS_133_Multiple_Regression_Assignment_AG.ipynb",
      "provenance": [],
      "collapsed_sections": [],
      "include_colab_link": true
    },
    "kernelspec": {
      "display_name": "Python 3",
      "language": "python",
      "name": "python3"
    },
    "language_info": {
      "codemirror_mode": {
        "name": "ipython",
        "version": 3
      },
      "file_extension": ".py",
      "mimetype": "text/x-python",
      "name": "python",
      "nbconvert_exporter": "python",
      "pygments_lexer": "ipython3",
      "version": "3.7.4"
    }
  },
  "cells": [
    {
      "cell_type": "markdown",
      "metadata": {
        "id": "view-in-github",
        "colab_type": "text"
      },
      "source": [
        "<a href=\"https://colab.research.google.com/github/spantoskey/DS-Unit-1-Sprint-1-Data-Wrangling-and-Storytelling/blob/master/Scott_Pantoskey_LS_DS_133_Multiple_Regression_Assignment_AG.ipynb\" target=\"_parent\"><img src=\"https://colab.research.google.com/assets/colab-badge.svg\" alt=\"Open In Colab\"/></a>"
      ]
    },
    {
      "cell_type": "markdown",
      "metadata": {
        "id": "0b6tisFLPEKQ"
      },
      "source": [
        "## Autograded Notebook (Canvas & CodeGrade)\n",
        "\n",
        "This notebook will be automatically graded. It is designed to test your answers and award points for the correct answers. Following the instructions for each Task carefully.\n",
        "\n",
        "### Instructions\n",
        "\n",
        "* **Download this notebook** as you would any other ipynb file\n",
        "* **Upload** to Google Colab or work locally (if you have that set-up)\n",
        "* **Delete `raise NotImplementedError()`**\n",
        "* Write your code in the `# YOUR CODE HERE` space\n",
        "* **Execute** the Test cells that contain `assert` statements - these help you check your work (others contain hidden tests that will be checked when you submit through Canvas)\n",
        "* **Save** your notebook when you are finished\n",
        "* **Download** as a `ipynb` file (if working in Colab)\n",
        "* **Upload** your complete notebook to Canvas (there will be additional instructions in Slack and/or Canvas)"
      ]
    },
    {
      "cell_type": "markdown",
      "metadata": {
        "id": "RQw2GTc8oDRw"
      },
      "source": [
        "# Lambda School Data Science - Unit 1 Sprint 3 Module 3\n",
        "\n",
        "\n",
        "### Learning Objectives\n",
        "\n",
        "* model the relationship of multiple predictor variables to a single outcome\n",
        "* conduct a t-test to determine the significance of individual variables in the model\n",
        "* compare model fit using R-squared"
      ]
    },
    {
      "cell_type": "markdown",
      "metadata": {
        "id": "MHWnltybtm8_"
      },
      "source": [
        "## Part A: Introduction\n",
        "\n",
        "### Statistical significance between head size and brain weight in healthy adult humans\n",
        "\n",
        "The `Brainhead.csv` dataset provides information on 237 individuals who were subject to post-mortem examination at the Middlesex Hospital in London around the turn of the 20th century. Study authors used cadavers to see if a relationship between brain weight and other more easily measured physiological characterizes such as age, sex, and head size could be determined. The end goal was to develop a way to estimate a person’s brain size while they were still alive (as the living aren’t keen on having their brains taken out and weighed).\n",
        "\n",
        "**We wish to determine if we can improve on our model of the linear relationship between head size and brain weight in healthy human adults.**\n",
        "\n",
        "Source: R.J. Gladstone (1905). \"A Study of the Relations of the Brain to the Size of the Head\", Biometrika, Vol. 4, pp105-123.\n",
        "\n",
        "### Use the above information to complete the following tasks."
      ]
    },
    {
      "cell_type": "markdown",
      "metadata": {
        "id": "8BFtPb7_PEKY"
      },
      "source": [
        "**Task 1** - Load the data\n",
        "\n",
        "Let's load the data! The URL has been provided as well as the imports for pandas and numpy.\n",
        "\n",
        "* load your CSV file into a DataFrame named `df`"
      ]
    },
    {
      "cell_type": "code",
      "metadata": {
        "deletable": false,
        "id": "0NKz1DvXQHqq",
        "nbgrader": {
          "cell_type": "code",
          "checksum": "7e62c4220847f690fff7fc7bcc2458b9",
          "grade": false,
          "grade_id": "cell-0434f06199d1ad11",
          "locked": false,
          "schema_version": 3,
          "solution": true,
          "task": false
        },
        "outputId": "07eaf59e-b147-483d-84d5-34815a9b122a",
        "colab": {
          "base_uri": "https://localhost:8080/",
          "height": 202
        }
      },
      "source": [
        "# Task 1\n",
        "\n",
        "import pandas as pd\n",
        "import numpy as np\n",
        "\n",
        "data_url = 'https://raw.githubusercontent.com/LambdaSchool/data-science-practice-datasets/main/unit_1/Brainhead/Brainhead.csv'\n",
        "\n",
        "# YOUR CODE HERE\n",
        "df = pd.read_csv(data_url, skipinitialspace=True, header=0)\n",
        "\n",
        "# Print out your DataFrame\n",
        "df.head()\n",
        "# len(df)"
      ],
      "execution_count": 20,
      "outputs": [
        {
          "output_type": "execute_result",
          "data": {
            "text/html": [
              "<div>\n",
              "<style scoped>\n",
              "    .dataframe tbody tr th:only-of-type {\n",
              "        vertical-align: middle;\n",
              "    }\n",
              "\n",
              "    .dataframe tbody tr th {\n",
              "        vertical-align: top;\n",
              "    }\n",
              "\n",
              "    .dataframe thead th {\n",
              "        text-align: right;\n",
              "    }\n",
              "</style>\n",
              "<table border=\"1\" class=\"dataframe\">\n",
              "  <thead>\n",
              "    <tr style=\"text-align: right;\">\n",
              "      <th></th>\n",
              "      <th>Gender</th>\n",
              "      <th>Age</th>\n",
              "      <th>Head</th>\n",
              "      <th>Brain</th>\n",
              "    </tr>\n",
              "  </thead>\n",
              "  <tbody>\n",
              "    <tr>\n",
              "      <th>0</th>\n",
              "      <td>1</td>\n",
              "      <td>1</td>\n",
              "      <td>4512</td>\n",
              "      <td>1530</td>\n",
              "    </tr>\n",
              "    <tr>\n",
              "      <th>1</th>\n",
              "      <td>1</td>\n",
              "      <td>1</td>\n",
              "      <td>3738</td>\n",
              "      <td>1297</td>\n",
              "    </tr>\n",
              "    <tr>\n",
              "      <th>2</th>\n",
              "      <td>1</td>\n",
              "      <td>1</td>\n",
              "      <td>4261</td>\n",
              "      <td>1335</td>\n",
              "    </tr>\n",
              "    <tr>\n",
              "      <th>3</th>\n",
              "      <td>1</td>\n",
              "      <td>1</td>\n",
              "      <td>3777</td>\n",
              "      <td>1282</td>\n",
              "    </tr>\n",
              "    <tr>\n",
              "      <th>4</th>\n",
              "      <td>1</td>\n",
              "      <td>1</td>\n",
              "      <td>4177</td>\n",
              "      <td>1590</td>\n",
              "    </tr>\n",
              "  </tbody>\n",
              "</table>\n",
              "</div>"
            ],
            "text/plain": [
              "   Gender  Age  Head  Brain\n",
              "0       1    1  4512   1530\n",
              "1       1    1  3738   1297\n",
              "2       1    1  4261   1335\n",
              "3       1    1  3777   1282\n",
              "4       1    1  4177   1590"
            ]
          },
          "metadata": {
            "tags": []
          },
          "execution_count": 20
        }
      ]
    },
    {
      "cell_type": "code",
      "metadata": {
        "deletable": false,
        "editable": false,
        "nbgrader": {
          "cell_type": "code",
          "checksum": "94e9bf1f2fbcc5bcb864d5a79a80f518",
          "grade": true,
          "grade_id": "cell-1c36b133f6ac028d",
          "locked": true,
          "points": 1,
          "schema_version": 3,
          "solution": false,
          "task": false
        },
        "id": "VTVw5SFfPEKf"
      },
      "source": [
        "# Task 1 - Test\n",
        "\n",
        "assert isinstance(df, pd.DataFrame), 'Have you created a DataFrame named `df`?'\n",
        "assert len(df) == 237\n"
      ],
      "execution_count": 21,
      "outputs": []
    },
    {
      "cell_type": "markdown",
      "metadata": {
        "id": "4eJsXuRLxKrz"
      },
      "source": [
        "**Task 2** - Fit OLS MOdel\n",
        "\n",
        "Run the OLS model relating head size to brain weight - you should have done this in your project yesterday. The `statsmodels.formula.api` import has been provided. After you fit your model, print out your model results.\n",
        "\n",
        "* fit a model and name your variable `model`\n",
        "\n",
        "*Hint: Make sure to use the format Y ~ X*"
      ]
    },
    {
      "cell_type": "code",
      "metadata": {
        "deletable": false,
        "id": "c9qyMXd_Hh6l",
        "nbgrader": {
          "cell_type": "code",
          "checksum": "60f9198b684ad7d009587bc835cbf8a9",
          "grade": false,
          "grade_id": "cell-2aa2fa6eba350a2c",
          "locked": false,
          "schema_version": 3,
          "solution": true,
          "task": false
        },
        "outputId": "25c426f2-229e-433e-f279-0f07b0aa3d8e",
        "colab": {
          "base_uri": "https://localhost:8080/"
        }
      },
      "source": [
        "# Task 2\n",
        "\n",
        "# Import statsmodels - DON'T Delete\n",
        "from statsmodels.formula.api import ols\n",
        "\n",
        "# YOUR CODE HERE\n",
        "\n",
        "model = ols('Brain ~ Head', data=df).fit()\n",
        "\n",
        "# Print the model summary\n",
        "print(model.summary())"
      ],
      "execution_count": 22,
      "outputs": [
        {
          "output_type": "stream",
          "text": [
            "                            OLS Regression Results                            \n",
            "==============================================================================\n",
            "Dep. Variable:                  Brain   R-squared:                       0.639\n",
            "Model:                            OLS   Adj. R-squared:                  0.638\n",
            "Method:                 Least Squares   F-statistic:                     416.5\n",
            "Date:                Thu, 12 Nov 2020   Prob (F-statistic):           5.96e-54\n",
            "Time:                        02:26:20   Log-Likelihood:                -1350.3\n",
            "No. Observations:                 237   AIC:                             2705.\n",
            "Df Residuals:                     235   BIC:                             2711.\n",
            "Df Model:                           1                                         \n",
            "Covariance Type:            nonrobust                                         \n",
            "==============================================================================\n",
            "                 coef    std err          t      P>|t|      [0.025      0.975]\n",
            "------------------------------------------------------------------------------\n",
            "Intercept    325.5734     47.141      6.906      0.000     232.701     418.446\n",
            "Head           0.2634      0.013     20.409      0.000       0.238       0.289\n",
            "==============================================================================\n",
            "Omnibus:                        8.329   Durbin-Watson:                   1.843\n",
            "Prob(Omnibus):                  0.016   Jarque-Bera (JB):                8.665\n",
            "Skew:                           0.366   Prob(JB):                       0.0131\n",
            "Kurtosis:                       3.584   Cond. No.                     3.66e+04\n",
            "==============================================================================\n",
            "\n",
            "Warnings:\n",
            "[1] Standard Errors assume that the covariance matrix of the errors is correctly specified.\n",
            "[2] The condition number is large, 3.66e+04. This might indicate that there are\n",
            "strong multicollinearity or other numerical problems.\n"
          ],
          "name": "stdout"
        }
      ]
    },
    {
      "cell_type": "code",
      "metadata": {
        "deletable": false,
        "editable": false,
        "nbgrader": {
          "cell_type": "code",
          "checksum": "5f89e20a472e94b28813e9c2678242d7",
          "grade": true,
          "grade_id": "cell-bb49143b30a4fcee",
          "locked": true,
          "points": 1,
          "schema_version": 3,
          "solution": false,
          "task": false
        },
        "id": "6hgqoBOLPEKr"
      },
      "source": [
        "# Task 2 - Test\n",
        "# Hidden tests - you will see the results when you submit to Canvas"
      ],
      "execution_count": null,
      "outputs": []
    },
    {
      "cell_type": "markdown",
      "metadata": {
        "id": "y21TW4n67mNq"
      },
      "source": [
        "**Task 3** - Adjusted $R^2$\n",
        "\n",
        "Using your model summary, what is the adjusted $R^2$ for this model?  \n",
        "\n",
        "* assign the value of adjusted $R^2$ to the variable `adj_R2` (use three decimal places, e.g. 0.123)\n",
        "\n",
        "Short answer: Explain what this value means in a complete sentence.\n",
        "\n",
        "ANSWER: 64% of the variability in brain weight is explained by differences in head size in healthy human adults.\n"
      ]
    },
    {
      "cell_type": "code",
      "metadata": {
        "deletable": false,
        "nbgrader": {
          "cell_type": "code",
          "checksum": "bf45847fe3042878d7a5943dc3aa2df8",
          "grade": false,
          "grade_id": "cell-0b8d856cc141c2a7",
          "locked": false,
          "schema_version": 3,
          "solution": true,
          "task": false
        },
        "id": "bqbZqoUjPEKw",
        "outputId": "63f29e60-26fc-4801-9cab-93edb6285ff8",
        "colab": {
          "base_uri": "https://localhost:8080/"
        }
      },
      "source": [
        "# Task 3\n",
        "\n",
        "# YOUR CODE HERE\n",
        "adj_R2 = 0.639\n",
        "\n",
        "# Print the adjusted R^2 value\n",
        "print('The adjusted R^2 is: ', adj_R2)"
      ],
      "execution_count": 23,
      "outputs": [
        {
          "output_type": "stream",
          "text": [
            "The adjusted R^2 is:  0.639\n"
          ],
          "name": "stdout"
        }
      ]
    },
    {
      "cell_type": "code",
      "metadata": {
        "deletable": false,
        "editable": false,
        "nbgrader": {
          "cell_type": "code",
          "checksum": "95912fea3cedffb0ffaafacfa45b16a0",
          "grade": true,
          "grade_id": "cell-70088d009573d8ab",
          "locked": true,
          "points": 1,
          "schema_version": 3,
          "solution": false,
          "task": false
        },
        "id": "QiWHmj1lPEK1"
      },
      "source": [
        "# Task 3 - Test\n",
        "\n",
        "# Hidden tests - you will see the results when you submit to Canvas"
      ],
      "execution_count": 24,
      "outputs": []
    },
    {
      "cell_type": "markdown",
      "metadata": {
        "id": "Xj2YmBd_Jl9q"
      },
      "source": [
        "**Task 4** - Encoding new variables\n",
        "\n",
        "From the data dictionary for this data set:\n",
        "\n",
        "Gender\n",
        "* 1 = male\n",
        "* 2 = female\n",
        "\n",
        "Age\n",
        "* 1 = younger than age 46\n",
        "* 2 = age 46 and older\n",
        "\n",
        "Right now age and gender are coded with 1 and 2.  Just to be safe when we run our model, we want to subtract \"1\" from Age and Gender so that \"1\" is now coded as \"0\" and \"2\" is now coded as \"1\".  Create two new variables in the DataFrame to do this - don't overwrite the original variables!\n",
        "\n",
        "* create a new variable for age and give it the column name `age_01`\n",
        "* create a new variable for gender and give it the column `gender_01`"
      ]
    },
    {
      "cell_type": "code",
      "metadata": {
        "deletable": false,
        "id": "z9z5i-EaKcj6",
        "nbgrader": {
          "cell_type": "code",
          "checksum": "bdda28d6e4983e5d73b8b3d881648bd4",
          "grade": false,
          "grade_id": "cell-ad1f0446a3bc99b1",
          "locked": false,
          "schema_version": 3,
          "solution": true,
          "task": false
        },
        "outputId": "7b1cba84-cdf1-499e-e1db-bbed4ae3eacd",
        "colab": {
          "base_uri": "https://localhost:8080/",
          "height": 202
        }
      },
      "source": [
        "# Task 4\n",
        "\n",
        "# YOUR CODE HERE\n",
        "df['Age_01'] = df['Age'] - 1\n",
        "df['Gender_01'] = df['Gender'] - 1\n",
        "\n",
        "# View the DataFrame\n",
        "df.head()"
      ],
      "execution_count": 25,
      "outputs": [
        {
          "output_type": "execute_result",
          "data": {
            "text/html": [
              "<div>\n",
              "<style scoped>\n",
              "    .dataframe tbody tr th:only-of-type {\n",
              "        vertical-align: middle;\n",
              "    }\n",
              "\n",
              "    .dataframe tbody tr th {\n",
              "        vertical-align: top;\n",
              "    }\n",
              "\n",
              "    .dataframe thead th {\n",
              "        text-align: right;\n",
              "    }\n",
              "</style>\n",
              "<table border=\"1\" class=\"dataframe\">\n",
              "  <thead>\n",
              "    <tr style=\"text-align: right;\">\n",
              "      <th></th>\n",
              "      <th>Gender</th>\n",
              "      <th>Age</th>\n",
              "      <th>Head</th>\n",
              "      <th>Brain</th>\n",
              "      <th>Age_01</th>\n",
              "      <th>Gender_01</th>\n",
              "    </tr>\n",
              "  </thead>\n",
              "  <tbody>\n",
              "    <tr>\n",
              "      <th>0</th>\n",
              "      <td>1</td>\n",
              "      <td>1</td>\n",
              "      <td>4512</td>\n",
              "      <td>1530</td>\n",
              "      <td>0</td>\n",
              "      <td>0</td>\n",
              "    </tr>\n",
              "    <tr>\n",
              "      <th>1</th>\n",
              "      <td>1</td>\n",
              "      <td>1</td>\n",
              "      <td>3738</td>\n",
              "      <td>1297</td>\n",
              "      <td>0</td>\n",
              "      <td>0</td>\n",
              "    </tr>\n",
              "    <tr>\n",
              "      <th>2</th>\n",
              "      <td>1</td>\n",
              "      <td>1</td>\n",
              "      <td>4261</td>\n",
              "      <td>1335</td>\n",
              "      <td>0</td>\n",
              "      <td>0</td>\n",
              "    </tr>\n",
              "    <tr>\n",
              "      <th>3</th>\n",
              "      <td>1</td>\n",
              "      <td>1</td>\n",
              "      <td>3777</td>\n",
              "      <td>1282</td>\n",
              "      <td>0</td>\n",
              "      <td>0</td>\n",
              "    </tr>\n",
              "    <tr>\n",
              "      <th>4</th>\n",
              "      <td>1</td>\n",
              "      <td>1</td>\n",
              "      <td>4177</td>\n",
              "      <td>1590</td>\n",
              "      <td>0</td>\n",
              "      <td>0</td>\n",
              "    </tr>\n",
              "  </tbody>\n",
              "</table>\n",
              "</div>"
            ],
            "text/plain": [
              "   Gender  Age  Head  Brain  Age_01  Gender_01\n",
              "0       1    1  4512   1530       0          0\n",
              "1       1    1  3738   1297       0          0\n",
              "2       1    1  4261   1335       0          0\n",
              "3       1    1  3777   1282       0          0\n",
              "4       1    1  4177   1590       0          0"
            ]
          },
          "metadata": {
            "tags": []
          },
          "execution_count": 25
        }
      ]
    },
    {
      "cell_type": "code",
      "metadata": {
        "deletable": false,
        "editable": false,
        "nbgrader": {
          "cell_type": "code",
          "checksum": "e9af2d4903be0d4eeb6fd0725e4b8ef5",
          "grade": true,
          "grade_id": "cell-84c1602875b4b2fd",
          "locked": true,
          "points": 1,
          "schema_version": 3,
          "solution": false,
          "task": false
        },
        "id": "yJxdGJ8sPEK_"
      },
      "source": [
        "# Task 4 - Test\n",
        "\n",
        "assert df.shape == (237, 6), 'Did you add two new columns (and only two)?'\n"
      ],
      "execution_count": 16,
      "outputs": []
    },
    {
      "cell_type": "markdown",
      "metadata": {
        "id": "DGuhAOmhId9d"
      },
      "source": [
        "**Task 5** - Multiple Regression (adding in Age)\n",
        "\n",
        "We're going to try to improve our model by fitting a model on more than one independent parameter.\n",
        "\n",
        "* fit a model to Y (brain weight) and X1 and X2 (head size and age group); assign your model to the variable `model_2` (make sure to use `Age_01` for the age variable)\n",
        "\n",
        "*Hint: Enter the model in the format Y ~ X1 + X2*"
      ]
    },
    {
      "cell_type": "code",
      "metadata": {
        "deletable": false,
        "id": "d6fY5PSPIuOi",
        "nbgrader": {
          "cell_type": "code",
          "checksum": "6f26717ca1dbbd40b66f02b5a9ee7501",
          "grade": false,
          "grade_id": "cell-f10e617763776ff5",
          "locked": false,
          "schema_version": 3,
          "solution": true,
          "task": false
        },
        "outputId": "58e42b24-c3e0-4310-eff1-93cb8d4a3452",
        "colab": {
          "base_uri": "https://localhost:8080/"
        }
      },
      "source": [
        "# Task 5\n",
        "\n",
        "# YOUR CODE HERE\n",
        "model_2 = ols('Brain ~ Head + Age_01', data=df).fit()\n",
        "\n",
        "\n",
        "# Print the model summary\n",
        "print(model_2.summary())"
      ],
      "execution_count": 28,
      "outputs": [
        {
          "output_type": "stream",
          "text": [
            "                            OLS Regression Results                            \n",
            "==============================================================================\n",
            "Dep. Variable:                  Brain   R-squared:                       0.647\n",
            "Model:                            OLS   Adj. R-squared:                  0.644\n",
            "Method:                 Least Squares   F-statistic:                     214.1\n",
            "Date:                Thu, 12 Nov 2020   Prob (F-statistic):           1.38e-53\n",
            "Time:                        02:26:52   Log-Likelihood:                -1347.8\n",
            "No. Observations:                 237   AIC:                             2702.\n",
            "Df Residuals:                     234   BIC:                             2712.\n",
            "Df Model:                           2                                         \n",
            "Covariance Type:            nonrobust                                         \n",
            "==============================================================================\n",
            "                 coef    std err          t      P>|t|      [0.025      0.975]\n",
            "------------------------------------------------------------------------------\n",
            "Intercept    347.5505     47.811      7.269      0.000     253.355     441.746\n",
            "Head           0.2604      0.013     20.229      0.000       0.235       0.286\n",
            "Age_01       -20.7316      9.410     -2.203      0.029     -39.270      -2.193\n",
            "==============================================================================\n",
            "Omnibus:                        7.943   Durbin-Watson:                   1.889\n",
            "Prob(Omnibus):                  0.019   Jarque-Bera (JB):                8.238\n",
            "Skew:                           0.353   Prob(JB):                       0.0163\n",
            "Kurtosis:                       3.579   Cond. No.                     3.75e+04\n",
            "==============================================================================\n",
            "\n",
            "Warnings:\n",
            "[1] Standard Errors assume that the covariance matrix of the errors is correctly specified.\n",
            "[2] The condition number is large, 3.75e+04. This might indicate that there are\n",
            "strong multicollinearity or other numerical problems.\n"
          ],
          "name": "stdout"
        }
      ]
    },
    {
      "cell_type": "code",
      "metadata": {
        "deletable": false,
        "editable": false,
        "nbgrader": {
          "cell_type": "code",
          "checksum": "5221daa4d20938bddd19b4fbffe3bd8f",
          "grade": true,
          "grade_id": "cell-ba2bb42fefe49970",
          "locked": true,
          "points": 1,
          "schema_version": 3,
          "solution": false,
          "task": false
        },
        "id": "iQoWO-fBPELH"
      },
      "source": [
        "# Task 5 - Test\n",
        "# Hidden tests - you will see the results when you submit to Canvas"
      ],
      "execution_count": null,
      "outputs": []
    },
    {
      "cell_type": "markdown",
      "metadata": {
        "id": "Bq5YE7heKoDo"
      },
      "source": [
        "**Task 6** - Statistical significance\n",
        "\n",
        "* Find the p-value for `Age_01` in your model and assign it to the variable `pval_age` (use three decimal places, e.g. 0.123)\n",
        "\n",
        "At the alpha = 0.05 level, is age group statistically significantly associated with brain weight after accounting for head size?  Explain your answer in at least one complete sentence.\n",
        "\n",
        "ANSWER:The age group is not statistically significantly associated with brain weight after accounting for head size because the p-value for age group, 0.029, is less than the significance value, 0.05.\n",
        "\n",
        "At the alpha = 0.01 level, is age group statistically significantly associated with brain weight after accounting for head size? Explain your answer in at least one complete sentence.\n",
        "\n",
        "ANSWER: The age group is statistically significantly associated with brain weight after accounting for head size because the p-value for age group, 0.029, is greater than the significance value, 0.01.\n"
      ]
    },
    {
      "cell_type": "code",
      "metadata": {
        "deletable": false,
        "nbgrader": {
          "cell_type": "code",
          "checksum": "581b72de56062597038ca9723db06224",
          "grade": false,
          "grade_id": "cell-e76b59ebd9a33e39",
          "locked": false,
          "schema_version": 3,
          "solution": true,
          "task": false
        },
        "id": "sUGKBx1DPELK"
      },
      "source": [
        "# Task 6\n",
        "\n",
        "# YOUR CODE HERE\n",
        "pval_age = 0.029"
      ],
      "execution_count": 32,
      "outputs": []
    },
    {
      "cell_type": "code",
      "metadata": {
        "deletable": false,
        "editable": false,
        "nbgrader": {
          "cell_type": "code",
          "checksum": "403cce92142fdf87d7773033bc03050d",
          "grade": true,
          "grade_id": "cell-45d090dbd7235338",
          "locked": true,
          "points": 1,
          "schema_version": 3,
          "solution": false,
          "task": false
        },
        "id": "Hgj8_JRnPELN"
      },
      "source": [
        "# Task 6 - Test\n",
        "\n",
        "# Hidden tests - you will see the results when you submit to Canvas"
      ],
      "execution_count": 33,
      "outputs": []
    },
    {
      "cell_type": "markdown",
      "metadata": {
        "id": "VAdboVOmLsqR"
      },
      "source": [
        "**Task 7** - Adjusted $R^2$\n",
        "\n",
        "What is the adjusted $R^2$ for the model relating head size and age group to brain weight?  \n",
        "\n",
        "* assign the adjusted $R^2$ value to `adj_R2_new`\n",
        "\n",
        "Does adding age group to the model increase the amount of variability in brain weight explained by the model?"
      ]
    },
    {
      "cell_type": "code",
      "metadata": {
        "deletable": false,
        "nbgrader": {
          "cell_type": "code",
          "checksum": "87c9524867994e9e3438ff5c938628cf",
          "grade": false,
          "grade_id": "cell-39e56b2549fd6715",
          "locked": false,
          "schema_version": 3,
          "solution": true,
          "task": false
        },
        "id": "izXJO_nvPELP",
        "outputId": "61505a30-6436-40c1-ee3f-72c2882e1492",
        "colab": {
          "base_uri": "https://localhost:8080/"
        }
      },
      "source": [
        "# Task 7\n",
        "\n",
        "# YOUR CODE HERE\n",
        "adj_R2_new = 0.647\n",
        "\n",
        "# Print the adjusted R^2 new value\n",
        "print('The adjusted R^2 new is: ', adj_R2_new)"
      ],
      "execution_count": 34,
      "outputs": [
        {
          "output_type": "stream",
          "text": [
            "The adjusted R^2 new is:  0.647\n"
          ],
          "name": "stdout"
        }
      ]
    },
    {
      "cell_type": "code",
      "metadata": {
        "deletable": false,
        "editable": false,
        "nbgrader": {
          "cell_type": "code",
          "checksum": "ac907b8d86db25b6db1b22b1bbf30c3b",
          "grade": true,
          "grade_id": "cell-1cce579f5ceec835",
          "locked": true,
          "points": 1,
          "schema_version": 3,
          "solution": false,
          "task": false
        },
        "id": "MdIiY6nZPELS"
      },
      "source": [
        "# Task 7 - Test\n",
        "\n",
        "# Hidden tests - you will see the results when you submit to Canvas"
      ],
      "execution_count": 35,
      "outputs": []
    },
    {
      "cell_type": "markdown",
      "metadata": {
        "id": "Je3yM5G9Mdkx"
      },
      "source": [
        "**Task 8** - Multiple Regression (adding in Gender)\n",
        "\n",
        "We're going to try another multiple regression to improve our model.\n",
        "\n",
        "* fit a model to Y (brain weight) and X1 and X2 (head size and gender); assign your model to the variable `model_3` (make sure to use `Gender_01` for the age variable)\n",
        "\n",
        "*Hint: Enter the model in the format Y ~ X1 + X2*"
      ]
    },
    {
      "cell_type": "code",
      "metadata": {
        "deletable": false,
        "id": "Ii7PVMgJMnNC",
        "nbgrader": {
          "cell_type": "code",
          "checksum": "51f92a5da9531f6bd3e5b5afbeccc359",
          "grade": false,
          "grade_id": "cell-6e2d7e8b615b59d7",
          "locked": false,
          "schema_version": 3,
          "solution": true,
          "task": false
        },
        "outputId": "22a8e887-6112-4363-e45a-e47a351bd092",
        "colab": {
          "base_uri": "https://localhost:8080/"
        }
      },
      "source": [
        "# Task 8\n",
        "\n",
        "# YOUR CODE HERE\n",
        "model_3 = ols('Brain ~ Head + Gender_01', data=df).fit()\n",
        "\n",
        "# Print the model summary\n",
        "print(model_3.summary())"
      ],
      "execution_count": 37,
      "outputs": [
        {
          "output_type": "stream",
          "text": [
            "                            OLS Regression Results                            \n",
            "==============================================================================\n",
            "Dep. Variable:                  Brain   R-squared:                       0.643\n",
            "Model:                            OLS   Adj. R-squared:                  0.640\n",
            "Method:                 Least Squares   F-statistic:                     211.0\n",
            "Date:                Thu, 12 Nov 2020   Prob (F-statistic):           4.15e-53\n",
            "Time:                        02:30:52   Log-Likelihood:                -1348.9\n",
            "No. Observations:                 237   AIC:                             2704.\n",
            "Df Residuals:                     234   BIC:                             2714.\n",
            "Df Model:                           2                                         \n",
            "Covariance Type:            nonrobust                                         \n",
            "==============================================================================\n",
            "                 coef    std err          t      P>|t|      [0.025      0.975]\n",
            "------------------------------------------------------------------------------\n",
            "Intercept    378.7139     57.299      6.609      0.000     265.825     491.603\n",
            "Head           0.2509      0.015     16.734      0.000       0.221       0.280\n",
            "Gender_01    -17.8615     11.027     -1.620      0.107     -39.586       3.863\n",
            "==============================================================================\n",
            "Omnibus:                        8.109   Durbin-Watson:                   1.858\n",
            "Prob(Omnibus):                  0.017   Jarque-Bera (JB):                8.403\n",
            "Skew:                           0.360   Prob(JB):                       0.0150\n",
            "Kurtosis:                       3.576   Cond. No.                     4.49e+04\n",
            "==============================================================================\n",
            "\n",
            "Warnings:\n",
            "[1] Standard Errors assume that the covariance matrix of the errors is correctly specified.\n",
            "[2] The condition number is large, 4.49e+04. This might indicate that there are\n",
            "strong multicollinearity or other numerical problems.\n"
          ],
          "name": "stdout"
        }
      ]
    },
    {
      "cell_type": "code",
      "metadata": {
        "deletable": false,
        "editable": false,
        "nbgrader": {
          "cell_type": "code",
          "checksum": "ee239f960ee2860a7286511017de7770",
          "grade": true,
          "grade_id": "cell-5e7bef722b7fe2ec",
          "locked": true,
          "points": 1,
          "schema_version": 3,
          "solution": false,
          "task": false
        },
        "id": "N--pV4aoPELX"
      },
      "source": [
        "# Task 8 - Test\n",
        "# Hidden tests - you will see the results when you submit to Canvas"
      ],
      "execution_count": null,
      "outputs": []
    },
    {
      "cell_type": "markdown",
      "metadata": {
        "id": "tYG00tRDM4E9"
      },
      "source": [
        "**Task 9** - Significance (short answer)\n",
        "\n",
        "At the alpha = 0.05 level, is gender statistically significantly associated with brain weight after accounting for head size?  Explain your answer in at least one complete sentence.\n",
        "\n",
        "ANSWER: Since gender's p-value (0.107) is greater than 0.05, gender is statistically significantly associated with brain weight after accounting for head size at the 0.05 level."
      ]
    },
    {
      "cell_type": "markdown",
      "metadata": {
        "id": "EmEI47CbC-ld"
      },
      "source": [
        "**Task 10** - Linear model equation\n",
        "\n",
        "Write the linear model (insert the coefficients in the correct places) used to model the relationship between head size, age group and predicted brain weight. *Make sure to use the correct model!*\n",
        "\n",
        "EQUATION: $\\hat{y}$ = 347.5505 + 0.2604 x Head - 20.7316 x Age"
      ]
    },
    {
      "cell_type": "markdown",
      "metadata": {
        "id": "GI170a6-o6hx"
      },
      "source": [
        "**Task 11** - Create a plot\n",
        "\n",
        "Plot the relationship between head size and brain weight on a scatterplot. Use different color dots to represent older and younger individuals. You can use matplotlib or seaborn."
      ]
    },
    {
      "cell_type": "code",
      "metadata": {
        "deletable": false,
        "id": "LtYcWjOGAXo3",
        "nbgrader": {
          "cell_type": "code",
          "checksum": "11fd92d0c22e986588f0d3a34613367b",
          "grade": false,
          "grade_id": "cell-5fe9394388a9edfb",
          "locked": false,
          "schema_version": 3,
          "solution": true,
          "task": false
        },
        "outputId": "bba8e7ee-5437-416c-8cc6-6aa376cf95ac",
        "colab": {
          "base_uri": "https://localhost:8080/",
          "height": 295
        }
      },
      "source": [
        "# Task 11\n",
        "# YOUR CODE HERE\n",
        "\n",
        "import matplotlib.pyplot as plt\n",
        "fig, ax = plt.subplots() \n",
        "\n",
        "plt.scatter(x = df['Head'], y = df['Brain'], c = df['Age_01'])\n",
        "\n",
        "ax.set_title('Head Size and Brain Weight by Age in Healthy Human Adults')\n",
        "ax.set_xlabel('Head Size in Cubic CM')\n",
        "ax.set_ylabel('Brain Weight in Kg')\n",
        "\n",
        "plt.show()"
      ],
      "execution_count": 53,
      "outputs": [
        {
          "output_type": "display_data",
          "data": {
            "image/png": "[encoded data removed]",
            "text/plain": [
              "<Figure size 432x288 with 1 Axes>"
            ]
          },
          "metadata": {
            "tags": [],
            "needs_background": "light"
          }
        }
      ]
    },
    {
      "cell_type": "markdown",
      "metadata": {
        "id": "wqv11_e7S7Ib"
      },
      "source": [
        "**Task 12** - Make predictions\n",
        "\n",
        "Estimate the brain weight of a 60-year-old with a head size of 4000 cubic cm. **Make sure to select the correct model you fit above!**\n",
        "\n",
        "* assign the head size to the variable `x1`\n",
        "* assign the age group (either a 0 or 1) to the variable `x2`\n",
        "* assign the intercept to `intercept`\n",
        "* assign the slope parameter for the head size to `slope1`\n",
        "* assign the slope parameter for age to `slope2`\n",
        "* assign the prediction to the variable `predicted`"
      ]
    },
    {
      "cell_type": "code",
      "metadata": {
        "deletable": false,
        "id": "Az7aXj-N6sW6",
        "nbgrader": {
          "cell_type": "code",
          "checksum": "64b0ddd890c6bab0d3d1821816c03275",
          "grade": false,
          "grade_id": "cell-c6a58b3a206a56d1",
          "locked": false,
          "schema_version": 3,
          "solution": true,
          "task": false
        },
        "outputId": "3f7e3705-8a09-4148-e628-224b3e204f97",
        "colab": {
          "base_uri": "https://localhost:8080/"
        }
      },
      "source": [
        "# Task 12\n",
        "\n",
        "# YOUR CODE HERE\n",
        "x1 = 4000\n",
        "x2 = 1\n",
        "intercept = 347.5505\n",
        "slope1 = 0.2604\n",
        "slope2 = -20.7316\n",
        "predicted = intercept + x1*slope1 + x2*slope2\n",
        "\n",
        "# View your prediction\n",
        "print('The predicted value for brain size is:', predicted)"
      ],
      "execution_count": 40,
      "outputs": [
        {
          "output_type": "stream",
          "text": [
            "The predicted value for brain size is: 1368.4189000000001\n"
          ],
          "name": "stdout"
        }
      ]
    },
    {
      "cell_type": "code",
      "metadata": {
        "deletable": false,
        "editable": false,
        "nbgrader": {
          "cell_type": "code",
          "checksum": "fb123435fe49633b3d46008f52fc6ce1",
          "grade": true,
          "grade_id": "cell-4d1b9dcc5f82390f",
          "locked": true,
          "points": 1,
          "schema_version": 3,
          "solution": false,
          "task": false
        },
        "id": "IIkmFmWKPELj"
      },
      "source": [
        "# Task 12 - Test\n",
        "# Hidden tests - you will see the results when you submit to Canvas"
      ],
      "execution_count": 41,
      "outputs": []
    },
    {
      "cell_type": "markdown",
      "metadata": {
        "id": "-rhf7zmX9g3E"
      },
      "source": [
        "**Task 13** - Make another prediction\n",
        "\n",
        "Estimate the brain weight of a 20-year-old with a head size of 3900 cubic cm. Use the same slope and intercept parameters you used above. But - change your `x1` and `x2` values!\n",
        "\n",
        "* assign your prediction to the variable `predicted_2`"
      ]
    },
    {
      "cell_type": "code",
      "metadata": {
        "deletable": false,
        "id": "gX01KjaSQxkF",
        "nbgrader": {
          "cell_type": "code",
          "checksum": "04176d0900f45375d7c92d205887a96f",
          "grade": false,
          "grade_id": "cell-0f16313e839553e8",
          "locked": false,
          "schema_version": 3,
          "solution": true,
          "task": false
        },
        "outputId": "5c532e8d-ef7a-4493-ba20-632de5722c46",
        "colab": {
          "base_uri": "https://localhost:8080/"
        }
      },
      "source": [
        "# Task 13\n",
        "\n",
        "# YOUR CODE HERE\n",
        "x1 = 3900\n",
        "x2 = 0\n",
        "intercept = 347.5505\n",
        "slope1 = 0.2604\n",
        "slope2 = -20.7316\n",
        "predicted_2 = intercept + x1*slope1 + x2*slope2\n",
        "\n",
        "# View your prediction\n",
        "print('The predicted value for brain size is:', predicted_2)\n"
      ],
      "execution_count": 42,
      "outputs": [
        {
          "output_type": "stream",
          "text": [
            "The predicted value for brain size is: 1363.1105\n"
          ],
          "name": "stdout"
        }
      ]
    },
    {
      "cell_type": "code",
      "metadata": {
        "deletable": false,
        "editable": false,
        "nbgrader": {
          "cell_type": "code",
          "checksum": "86caffeea4af7b465df7c01e4e872767",
          "grade": true,
          "grade_id": "cell-82ff9c0933833051",
          "locked": true,
          "points": 1,
          "schema_version": 3,
          "solution": false,
          "task": false
        },
        "id": "hCi4XNRsPELo"
      },
      "source": [
        "# Task 13 - Test\n",
        "# Hidden tests - you will see the results when you submit to Canvas"
      ],
      "execution_count": 43,
      "outputs": []
    },
    {
      "cell_type": "markdown",
      "metadata": {
        "id": "T1TDNIibteov"
      },
      "source": [
        "## Part B\n",
        "\n",
        "### Sleep Data\n",
        "\n",
        "Use the following information to answer the rest of the tasks in this project.\n",
        "\n",
        "Researchers recorded data on sleep duration as well as a set of ecological and constitutional variables  for a selection of mammal species. This data appears in the Sleep.csv dataset. \n",
        "\n",
        "Source: Allison, T. and Cicchetti, D. (1976), \"Sleep in Mammals: Ecological and Constitutional Correlates\",  Science, November 12, vol. 194, pp. 732-734.\n",
        "\n",
        "**Data Dictionary:**\n",
        "\n",
        "| Variable Name |            Description           |                                                                 Details                                                                 |              |   |\n",
        "|:-------------:|:--------------------------------:|:---------------------------------------------------------------------------------------------------------------------------------------:|--------------|---|\n",
        "| Animal        |            Animal name           |                                                            Character [string]                                                           |    |   |\n",
        "| Body          |            Body weight           |                                                               Numeric [kg]                                                              |       |   |\n",
        "| Brain         |           Brain weight           |                                                               Numeric [g]                                                               |  |   |\n",
        "| SWsleep       | Slow wave (“non-dreaming”) sleep | Numeric [hours]                                                                                                                         |              |   |\n",
        "| Parasleep     | Paradoxical (“dreaming”) sleep   | Numeric [hours]                                                                                                                         |              |   |\n",
        "| Totsleep      | Total sleep                      | Numeric [hours]                                                                                                                         |              |   |\n",
        "| Life          | Maximum life expectancy          | Numeric [years]                                                                                                                         |              |   |\n",
        "| Gest          | Gestation time                   | Numeric [days]                                                                                                                          |              |   |\n",
        "| Pred          | Predation index                  | Numeric [1 – 5] 1 = least likely to be preyed upon, 5 = most likely to be preyed upon                                                   |              |   |\n",
        "| Exposure      | Sleep exposure index             | Numeric [1 – 5] 1 = least amount of exposure during sleep (mammal sleeps indoors or in a den), 5 = most amount of exposure during sleep |              |   |\n",
        "| Danger        | Overall danger index             | Numeric [ 1 – 5] 1 = least amount of danger from other animals, 5 = most amount of danger from other animals                            |              |   |\n",
        "\n"
      ]
    },
    {
      "cell_type": "markdown",
      "metadata": {
        "id": "lAGRV2LkuKyw",
        "outputId": "ccabb7fa-9b46-476b-f8e7-f670f7ad3858"
      },
      "source": [
        "**Task 14**\n",
        "\n",
        "Before we can look at the data, we need to load in the data. The URL has been provided.\n",
        "\n",
        "* load in the CSV file as a DataFrame and assign it to the variable `df_sleep`\n",
        "* make sure to view the DataFrame!"
      ]
    },
    {
      "cell_type": "code",
      "metadata": {
        "deletable": false,
        "nbgrader": {
          "cell_type": "code",
          "checksum": "9b3165cb0da4bc4cce603f74c53cd23d",
          "grade": false,
          "grade_id": "cell-3a230410ee200f46",
          "locked": false,
          "schema_version": 3,
          "solution": true,
          "task": false
        },
        "id": "Y9MwNhYYPELr",
        "outputId": "6a48f586-5d83-490c-83b7-ba65535db980",
        "colab": {
          "base_uri": "https://localhost:8080/",
          "height": 202
        }
      },
      "source": [
        "# Task 14\n",
        "\n",
        "data_url_2 = 'https://raw.githubusercontent.com/LambdaSchool/data-science-practice-datasets/main/unit_1/Sleep/Sleep.csv'\n",
        "\n",
        "# YOUR CODE HERE\n",
        "df_sleep = pd.read_csv(data_url_2, skipinitialspace=True, header=0)\n",
        "\n",
        "# Print out your DataFrame\n",
        "df_sleep.head()"
      ],
      "execution_count": 44,
      "outputs": [
        {
          "output_type": "execute_result",
          "data": {
            "text/html": [
              "<div>\n",
              "<style scoped>\n",
              "    .dataframe tbody tr th:only-of-type {\n",
              "        vertical-align: middle;\n",
              "    }\n",
              "\n",
              "    .dataframe tbody tr th {\n",
              "        vertical-align: top;\n",
              "    }\n",
              "\n",
              "    .dataframe thead th {\n",
              "        text-align: right;\n",
              "    }\n",
              "</style>\n",
              "<table border=\"1\" class=\"dataframe\">\n",
              "  <thead>\n",
              "    <tr style=\"text-align: right;\">\n",
              "      <th></th>\n",
              "      <th>Animal</th>\n",
              "      <th>Body</th>\n",
              "      <th>Brain</th>\n",
              "      <th>SWsleep</th>\n",
              "      <th>Parasleep</th>\n",
              "      <th>Totsleep</th>\n",
              "      <th>Life</th>\n",
              "      <th>Gest</th>\n",
              "      <th>Pred</th>\n",
              "      <th>Exposure</th>\n",
              "      <th>Danger</th>\n",
              "    </tr>\n",
              "  </thead>\n",
              "  <tbody>\n",
              "    <tr>\n",
              "      <th>0</th>\n",
              "      <td>African_giant_pouched_rat</td>\n",
              "      <td>1.000</td>\n",
              "      <td>6.6</td>\n",
              "      <td>6.3</td>\n",
              "      <td>2.0</td>\n",
              "      <td>8.3</td>\n",
              "      <td>4.5</td>\n",
              "      <td>42.0</td>\n",
              "      <td>3</td>\n",
              "      <td>1</td>\n",
              "      <td>3</td>\n",
              "    </tr>\n",
              "    <tr>\n",
              "      <th>1</th>\n",
              "      <td>Asian_elephant</td>\n",
              "      <td>2547.000</td>\n",
              "      <td>4603.0</td>\n",
              "      <td>2.1</td>\n",
              "      <td>1.8</td>\n",
              "      <td>3.9</td>\n",
              "      <td>69.0</td>\n",
              "      <td>624.0</td>\n",
              "      <td>3</td>\n",
              "      <td>5</td>\n",
              "      <td>4</td>\n",
              "    </tr>\n",
              "    <tr>\n",
              "      <th>2</th>\n",
              "      <td>Baboon</td>\n",
              "      <td>10.550</td>\n",
              "      <td>179.5</td>\n",
              "      <td>9.1</td>\n",
              "      <td>0.7</td>\n",
              "      <td>9.8</td>\n",
              "      <td>27.0</td>\n",
              "      <td>180.0</td>\n",
              "      <td>4</td>\n",
              "      <td>4</td>\n",
              "      <td>4</td>\n",
              "    </tr>\n",
              "    <tr>\n",
              "      <th>3</th>\n",
              "      <td>Big_brown_bat</td>\n",
              "      <td>0.023</td>\n",
              "      <td>0.3</td>\n",
              "      <td>15.8</td>\n",
              "      <td>3.9</td>\n",
              "      <td>19.7</td>\n",
              "      <td>19.0</td>\n",
              "      <td>35.0</td>\n",
              "      <td>1</td>\n",
              "      <td>1</td>\n",
              "      <td>1</td>\n",
              "    </tr>\n",
              "    <tr>\n",
              "      <th>4</th>\n",
              "      <td>Brazilian_tapir</td>\n",
              "      <td>160.000</td>\n",
              "      <td>169.0</td>\n",
              "      <td>5.2</td>\n",
              "      <td>1.0</td>\n",
              "      <td>6.2</td>\n",
              "      <td>30.4</td>\n",
              "      <td>392.0</td>\n",
              "      <td>4</td>\n",
              "      <td>5</td>\n",
              "      <td>4</td>\n",
              "    </tr>\n",
              "  </tbody>\n",
              "</table>\n",
              "</div>"
            ],
            "text/plain": [
              "                      Animal      Body   Brain  ...  Pred  Exposure  Danger\n",
              "0  African_giant_pouched_rat     1.000     6.6  ...     3         1       3\n",
              "1             Asian_elephant  2547.000  4603.0  ...     3         5       4\n",
              "2                     Baboon    10.550   179.5  ...     4         4       4\n",
              "3              Big_brown_bat     0.023     0.3  ...     1         1       1\n",
              "4            Brazilian_tapir   160.000   169.0  ...     4         5       4\n",
              "\n",
              "[5 rows x 11 columns]"
            ]
          },
          "metadata": {
            "tags": []
          },
          "execution_count": 44
        }
      ]
    },
    {
      "cell_type": "markdown",
      "metadata": {
        "id": "QNcpKKKYfeFj"
      },
      "source": [
        "At the end of the guided project, we'd decided that the best model of dreaming sleep has the two variables gestation time and danger index.  "
      ]
    },
    {
      "cell_type": "markdown",
      "metadata": {
        "id": "M_CeukMLf51x"
      },
      "source": [
        "**Task 15**\n",
        "\n",
        "Plot the relationship of body size to dreaming sleep\n",
        "\n",
        "* turn off the CI on the plot\n",
        "\n",
        "Describe the shape of the relationship.\n",
        "\n",
        "\n",
        "ANSWER:There is no clear linear relationship between body size and dreaming sleep. There are a few outliers in the distribution."
      ]
    },
    {
      "cell_type": "code",
      "metadata": {
        "deletable": false,
        "id": "xihIFuAGgGbk",
        "nbgrader": {
          "cell_type": "code",
          "checksum": "ad1c4d1072bdd0bf3581f0cb2a210e3b",
          "grade": false,
          "grade_id": "cell-a4468f535024cc41",
          "locked": false,
          "schema_version": 3,
          "solution": true,
          "task": false
        },
        "outputId": "80cbf7b9-3f11-45b8-af7d-648c5f9ca569",
        "colab": {
          "base_uri": "https://localhost:8080/",
          "height": 391
        }
      },
      "source": [
        "# Task 15\n",
        "\n",
        "# YOUR CODE HERE\n",
        "import seaborn as sns\n",
        "\n",
        "to_plot = df_sleep[['Body','Parasleep']]\n",
        "\n",
        "sns.pairplot(to_plot)\n"
      ],
      "execution_count": 45,
      "outputs": [
        {
          "output_type": "execute_result",
          "data": {
            "text/plain": [
              "<seaborn.axisgrid.PairGrid at 0x7efe7754d2b0>"
            ]
          },
          "metadata": {
            "tags": []
          },
          "execution_count": 45
        },
        {
          "output_type": "display_data",
          "data": {
            "image/png": "[encoded data removed]",
            "text/plain": [
              "<Figure size 360x360 with 6 Axes>"
            ]
          },
          "metadata": {
            "tags": [],
            "needs_background": "light"
          }
        }
      ]
    },
    {
      "cell_type": "markdown",
      "metadata": {
        "id": "XSRoEnlcgGth"
      },
      "source": [
        "**Task 16** - Transformation: take the log\n",
        "\n",
        "Does it appear that a log transformation of the `Body` variable would improve the model fit? Let take the log and then look at the plot again.\n",
        "\n",
        "* Create a new variable with the log of `Body` and add it as a column to `df_sleep` with the name `log_body` \n",
        "* Create a new variable with the log of gestational time and add it as a column to `df_sleep` with the name `log_gest` \n",
        "\n",
        "*Hint: use the natural log `np.log()`*"
      ]
    },
    {
      "cell_type": "code",
      "metadata": {
        "deletable": false,
        "id": "_v-Kw2pYgQsK",
        "nbgrader": {
          "cell_type": "code",
          "checksum": "dd84cd0779a2703419f3f4c60f2e7121",
          "grade": false,
          "grade_id": "cell-6a290216ec0e3aaa",
          "locked": false,
          "schema_version": 3,
          "solution": true,
          "task": false
        },
        "outputId": "1f868182-18e1-4620-d030-6e486a85e741",
        "colab": {
          "base_uri": "https://localhost:8080/",
          "height": 202
        }
      },
      "source": [
        "# Task 16\n",
        "\n",
        "# YOUR CODE HERE\n",
        "df_sleep['log_body'] = np.log(df_sleep['Body'])\n",
        "df_sleep['log_gest'] = np.log(df_sleep['Gest'])\n",
        "\n",
        "# Print out the updated DataFrame\n",
        "df_sleep.head()"
      ],
      "execution_count": 47,
      "outputs": [
        {
          "output_type": "execute_result",
          "data": {
            "text/html": [
              "<div>\n",
              "<style scoped>\n",
              "    .dataframe tbody tr th:only-of-type {\n",
              "        vertical-align: middle;\n",
              "    }\n",
              "\n",
              "    .dataframe tbody tr th {\n",
              "        vertical-align: top;\n",
              "    }\n",
              "\n",
              "    .dataframe thead th {\n",
              "        text-align: right;\n",
              "    }\n",
              "</style>\n",
              "<table border=\"1\" class=\"dataframe\">\n",
              "  <thead>\n",
              "    <tr style=\"text-align: right;\">\n",
              "      <th></th>\n",
              "      <th>Animal</th>\n",
              "      <th>Body</th>\n",
              "      <th>Brain</th>\n",
              "      <th>SWsleep</th>\n",
              "      <th>Parasleep</th>\n",
              "      <th>Totsleep</th>\n",
              "      <th>Life</th>\n",
              "      <th>Gest</th>\n",
              "      <th>Pred</th>\n",
              "      <th>Exposure</th>\n",
              "      <th>Danger</th>\n",
              "      <th>log_body</th>\n",
              "      <th>log_gest</th>\n",
              "    </tr>\n",
              "  </thead>\n",
              "  <tbody>\n",
              "    <tr>\n",
              "      <th>0</th>\n",
              "      <td>African_giant_pouched_rat</td>\n",
              "      <td>1.000</td>\n",
              "      <td>6.6</td>\n",
              "      <td>6.3</td>\n",
              "      <td>2.0</td>\n",
              "      <td>8.3</td>\n",
              "      <td>4.5</td>\n",
              "      <td>42.0</td>\n",
              "      <td>3</td>\n",
              "      <td>1</td>\n",
              "      <td>3</td>\n",
              "      <td>0.000000</td>\n",
              "      <td>3.737670</td>\n",
              "    </tr>\n",
              "    <tr>\n",
              "      <th>1</th>\n",
              "      <td>Asian_elephant</td>\n",
              "      <td>2547.000</td>\n",
              "      <td>4603.0</td>\n",
              "      <td>2.1</td>\n",
              "      <td>1.8</td>\n",
              "      <td>3.9</td>\n",
              "      <td>69.0</td>\n",
              "      <td>624.0</td>\n",
              "      <td>3</td>\n",
              "      <td>5</td>\n",
              "      <td>4</td>\n",
              "      <td>7.842671</td>\n",
              "      <td>6.436150</td>\n",
              "    </tr>\n",
              "    <tr>\n",
              "      <th>2</th>\n",
              "      <td>Baboon</td>\n",
              "      <td>10.550</td>\n",
              "      <td>179.5</td>\n",
              "      <td>9.1</td>\n",
              "      <td>0.7</td>\n",
              "      <td>9.8</td>\n",
              "      <td>27.0</td>\n",
              "      <td>180.0</td>\n",
              "      <td>4</td>\n",
              "      <td>4</td>\n",
              "      <td>4</td>\n",
              "      <td>2.356126</td>\n",
              "      <td>5.192957</td>\n",
              "    </tr>\n",
              "    <tr>\n",
              "      <th>3</th>\n",
              "      <td>Big_brown_bat</td>\n",
              "      <td>0.023</td>\n",
              "      <td>0.3</td>\n",
              "      <td>15.8</td>\n",
              "      <td>3.9</td>\n",
              "      <td>19.7</td>\n",
              "      <td>19.0</td>\n",
              "      <td>35.0</td>\n",
              "      <td>1</td>\n",
              "      <td>1</td>\n",
              "      <td>1</td>\n",
              "      <td>-3.772261</td>\n",
              "      <td>3.555348</td>\n",
              "    </tr>\n",
              "    <tr>\n",
              "      <th>4</th>\n",
              "      <td>Brazilian_tapir</td>\n",
              "      <td>160.000</td>\n",
              "      <td>169.0</td>\n",
              "      <td>5.2</td>\n",
              "      <td>1.0</td>\n",
              "      <td>6.2</td>\n",
              "      <td>30.4</td>\n",
              "      <td>392.0</td>\n",
              "      <td>4</td>\n",
              "      <td>5</td>\n",
              "      <td>4</td>\n",
              "      <td>5.075174</td>\n",
              "      <td>5.971262</td>\n",
              "    </tr>\n",
              "  </tbody>\n",
              "</table>\n",
              "</div>"
            ],
            "text/plain": [
              "                      Animal      Body   Brain  ...  Danger  log_body  log_gest\n",
              "0  African_giant_pouched_rat     1.000     6.6  ...       3  0.000000  3.737670\n",
              "1             Asian_elephant  2547.000  4603.0  ...       4  7.842671  6.436150\n",
              "2                     Baboon    10.550   179.5  ...       4  2.356126  5.192957\n",
              "3              Big_brown_bat     0.023     0.3  ...       1 -3.772261  3.555348\n",
              "4            Brazilian_tapir   160.000   169.0  ...       4  5.075174  5.971262\n",
              "\n",
              "[5 rows x 13 columns]"
            ]
          },
          "metadata": {
            "tags": []
          },
          "execution_count": 47
        }
      ]
    },
    {
      "cell_type": "code",
      "metadata": {
        "deletable": false,
        "editable": false,
        "nbgrader": {
          "cell_type": "code",
          "checksum": "a130b79719c484d637764ba597c8b0c2",
          "grade": true,
          "grade_id": "cell-db6506b6a01383b4",
          "locked": true,
          "points": 1,
          "schema_version": 3,
          "solution": false,
          "task": false
        },
        "id": "6D9aK1U4PEL0"
      },
      "source": [
        "# Task 16 - Test\n",
        "assert df_sleep.shape == (42, 13), 'Make sure you added two columns.'\n",
        "\n",
        "# Hidden tests - you will see the results when you submit to Canvas"
      ],
      "execution_count": 49,
      "outputs": []
    },
    {
      "cell_type": "code",
      "metadata": {
        "deletable": false,
        "nbgrader": {
          "cell_type": "code",
          "checksum": "3b51bff4ea476651fb786b2f79a6c484",
          "grade": false,
          "grade_id": "cell-87bfbdd705aa0078",
          "locked": false,
          "schema_version": 3,
          "solution": true,
          "task": false
        },
        "id": "u9aWlTT2PEL2",
        "outputId": "170e5fa1-74e5-4732-dd38-e81ff9aefba2",
        "colab": {
          "base_uri": "https://localhost:8080/",
          "height": 391
        }
      },
      "source": [
        "# Task 16 - Plot\n",
        "# NOT autograded\n",
        "\n",
        "# YOUR CODE HERE\n",
        "import seaborn as sns\n",
        "\n",
        "to_plot = df_sleep[['log_body','Parasleep']]\n",
        "\n",
        "sns.pairplot(to_plot)\n"
      ],
      "execution_count": 50,
      "outputs": [
        {
          "output_type": "execute_result",
          "data": {
            "text/plain": [
              "<seaborn.axisgrid.PairGrid at 0x7efe7260e780>"
            ]
          },
          "metadata": {
            "tags": []
          },
          "execution_count": 50
        },
        {
          "output_type": "display_data",
          "data": {
            "image/png": "[encoded data removed]",
            "text/plain": [
              "<Figure size 360x360 with 6 Axes>"
            ]
          },
          "metadata": {
            "tags": [],
            "needs_background": "light"
          }
        }
      ]
    },
    {
      "cell_type": "markdown",
      "metadata": {
        "id": "IXLsBQ4igQ3p"
      },
      "source": [
        "**Task 17** - Multiple Regression Model\n",
        "\n",
        "Run an OLS model using gestation time, danger index and the log of body size.  Is the log of body size statistically significantly associated with time spent in dreaming sleep after accounting for the other two factors?\n",
        "\n",
        "(This task will not be autograded)\n",
        "\n",
        "ANSWER: No, log of body size is not statistically significantly associated with time spent in dreaming sleep after accounting for the other two factors since it's p-value is greater than 0.05"
      ]
    },
    {
      "cell_type": "code",
      "metadata": {
        "id": "sk4gFeMrZdKr"
      },
      "source": [
        ""
      ],
      "execution_count": null,
      "outputs": []
    },
    {
      "cell_type": "code",
      "metadata": {
        "deletable": false,
        "id": "GKx8jL5Uryyn",
        "nbgrader": {
          "cell_type": "code",
          "checksum": "246695022a82409c986c6e5bfe624afe",
          "grade": false,
          "grade_id": "cell-8b8a4ccb9569bca1",
          "locked": false,
          "schema_version": 3,
          "solution": true,
          "task": false
        },
        "outputId": "5b7c0eb1-21ee-42d1-8492-257fd42994db",
        "colab": {
          "base_uri": "https://localhost:8080/"
        }
      },
      "source": [
        "# Task 17\n",
        "# NOT autograded\n",
        "\n",
        "# Enter the model in the format Y ~ X1 + X2 + X3\n",
        "\n",
        "# YOUR CODE HERE\n",
        "model_sleep = ols('Parasleep ~ log_body + Gest + C(Danger)', data=df_sleep).fit()\n",
        "\n",
        "#Print the model summary\n",
        "print(model_sleep.summary())"
      ],
      "execution_count": 56,
      "outputs": [
        {
          "output_type": "stream",
          "text": [
            "                            OLS Regression Results                            \n",
            "==============================================================================\n",
            "Dep. Variable:              Parasleep   R-squared:                       0.445\n",
            "Model:                            OLS   Adj. R-squared:                  0.349\n",
            "Method:                 Least Squares   F-statistic:                     4.670\n",
            "Date:                Thu, 12 Nov 2020   Prob (F-statistic):            0.00138\n",
            "Time:                        03:10:02   Log-Likelihood:                -60.534\n",
            "No. Observations:                  42   AIC:                             135.1\n",
            "Df Residuals:                      35   BIC:                             147.2\n",
            "Df Model:                           6                                         \n",
            "Covariance Type:            nonrobust                                         \n",
            "==================================================================================\n",
            "                     coef    std err          t      P>|t|      [0.025      0.975]\n",
            "----------------------------------------------------------------------------------\n",
            "Intercept          3.5683      0.392      9.103      0.000       2.772       4.364\n",
            "C(Danger)[T.2]    -1.1850      0.495     -2.393      0.022      -2.190      -0.180\n",
            "C(Danger)[T.3]    -1.3076      0.561     -2.331      0.026      -2.446      -0.169\n",
            "C(Danger)[T.4]    -1.5527      0.527     -2.945      0.006      -2.623      -0.482\n",
            "C(Danger)[T.5]    -2.3269      0.653     -3.566      0.001      -3.652      -1.002\n",
            "log_body           0.0922      0.100      0.921      0.363      -0.111       0.295\n",
            "Gest              -0.0049      0.002     -2.181      0.036      -0.009      -0.000\n",
            "==============================================================================\n",
            "Omnibus:                        7.084   Durbin-Watson:                   2.288\n",
            "Prob(Omnibus):                  0.029   Jarque-Bera (JB):                5.819\n",
            "Skew:                           0.789   Prob(JB):                       0.0545\n",
            "Kurtosis:                       3.914   Cond. No.                         893.\n",
            "==============================================================================\n",
            "\n",
            "Warnings:\n",
            "[1] Standard Errors assume that the covariance matrix of the errors is correctly specified.\n"
          ],
          "name": "stdout"
        }
      ]
    },
    {
      "cell_type": "markdown",
      "metadata": {
        "id": "IsQKr8qTgjmP"
      },
      "source": [
        "**Task 18** - Plot\n",
        "\n",
        "Plot the relationship of gestational time and dreaming sleep with different colors for animals who experience different amounts of sleep exposure.\n",
        "\n",
        "(This task will not be autograded)"
      ]
    },
    {
      "cell_type": "code",
      "metadata": {
        "deletable": false,
        "id": "v1OD3_SihFY8",
        "nbgrader": {
          "cell_type": "code",
          "checksum": "574002dcf007f19b1388d306b7f8126d",
          "grade": false,
          "grade_id": "cell-64c517c8f8149502",
          "locked": false,
          "schema_version": 3,
          "solution": true,
          "task": false
        },
        "outputId": "bf880f24-cab1-4cfe-a1d4-29cc9bc33851",
        "colab": {
          "base_uri": "https://localhost:8080/",
          "height": 295
        }
      },
      "source": [
        "# Task 18\n",
        "# NOT autograded\n",
        "\n",
        "# YOUR CODE HERE\n",
        "import matplotlib.pyplot as plt\n",
        "fig, ax = plt.subplots() \n",
        "\n",
        "#Color the points differently depending the mammal's danger index\n",
        "plt.scatter(x = df_sleep['Gest'], y = df_sleep['Parasleep'], c = df_sleep['Exposure'])\n",
        "\n",
        "ax.set_title('Gestation Time, Sleep Exposure, and Dreaming Sleep')\n",
        "ax.set_xlabel('Gestation Time in Log(Days)')\n",
        "ax.set_ylabel('Hours of Dreaming Sleep')\n",
        "\n",
        "plt.show()"
      ],
      "execution_count": 59,
      "outputs": [
        {
          "output_type": "display_data",
          "data": {
            "image/png": "[encoded data removed]",
            "text/plain": [
              "<Figure size 432x288 with 1 Axes>"
            ]
          },
          "metadata": {
            "tags": [],
            "needs_background": "light"
          }
        }
      ]
    },
    {
      "cell_type": "markdown",
      "metadata": {
        "id": "9kDH7IJ-hFoF"
      },
      "source": [
        "**Task 19** - Multiple Regression Model\n",
        "\n",
        "Run an OLS model using the log of gestation time and sleep exposure index to predict the amount of time spent in dreaming sleep.  Is sleep exposure index a better predictor of amount of time spent in dreaming sleep than danger index?\n",
        "\n",
        "(This task will not be autograded)\n",
        "\n",
        "ANSWER: No, the danger index results in a higher R-squared value so it is a better predictor of time spent in dreaming sleep than sleep exposure."
      ]
    },
    {
      "cell_type": "code",
      "metadata": {
        "deletable": false,
        "id": "HEAIQy8DnxFT",
        "nbgrader": {
          "cell_type": "code",
          "checksum": "841157c7939dca149b255069b4e1d3cc",
          "grade": false,
          "grade_id": "cell-f3d18879a9ddf4d0",
          "locked": false,
          "schema_version": 3,
          "solution": true,
          "task": false
        },
        "outputId": "7e369559-6dc0-4b60-8fe5-e4875d05d768",
        "colab": {
          "base_uri": "https://localhost:8080/"
        }
      },
      "source": [
        "# Task 19\n",
        "# NOT autograded\n",
        "\n",
        "# YOUR CODE HERE\n",
        "model_sleep_2 = ols('Parasleep ~ log_gest + Exposure', data=df_sleep).fit()\n",
        "\n",
        "# Print the model summary\n",
        "print(model_sleep_2.summary())"
      ],
      "execution_count": 57,
      "outputs": [
        {
          "output_type": "stream",
          "text": [
            "                            OLS Regression Results                            \n",
            "==============================================================================\n",
            "Dep. Variable:              Parasleep   R-squared:                       0.371\n",
            "Model:                            OLS   Adj. R-squared:                  0.339\n",
            "Method:                 Least Squares   F-statistic:                     11.52\n",
            "Date:                Thu, 12 Nov 2020   Prob (F-statistic):           0.000117\n",
            "Time:                        03:13:42   Log-Likelihood:                -63.137\n",
            "No. Observations:                  42   AIC:                             132.3\n",
            "Df Residuals:                      39   BIC:                             137.5\n",
            "Df Model:                           2                                         \n",
            "Covariance Type:            nonrobust                                         \n",
            "==============================================================================\n",
            "                 coef    std err          t      P>|t|      [0.025      0.975]\n",
            "------------------------------------------------------------------------------\n",
            "Intercept      4.8688      0.770      6.321      0.000       3.311       6.427\n",
            "log_gest      -0.5525      0.204     -2.702      0.010      -0.966      -0.139\n",
            "Exposure      -0.2341      0.142     -1.647      0.108      -0.522       0.053\n",
            "==============================================================================\n",
            "Omnibus:                        7.542   Durbin-Watson:                   2.007\n",
            "Prob(Omnibus):                  0.023   Jarque-Bera (JB):                6.738\n",
            "Skew:                           0.711   Prob(JB):                       0.0344\n",
            "Kurtosis:                       4.353   Cond. No.                         24.0\n",
            "==============================================================================\n",
            "\n",
            "Warnings:\n",
            "[1] Standard Errors assume that the covariance matrix of the errors is correctly specified.\n"
          ],
          "name": "stdout"
        }
      ]
    },
    {
      "cell_type": "markdown",
      "metadata": {
        "id": "CzTPjXzPkUGE"
      },
      "source": [
        "**Task 20** - Plot\n",
        "\n",
        "Plot the relationship of gestational time and dreaming sleep with different colors for animals who experience different amounts of sleep exposure.\n",
        "\n",
        "(This task will not be autograded)\n",
        "\n",
        "ANSWER: "
      ]
    },
    {
      "cell_type": "code",
      "metadata": {
        "deletable": false,
        "id": "uRrlI2iNoVyi",
        "nbgrader": {
          "cell_type": "code",
          "checksum": "1fbedc62727a9db010f942b907ddebdd",
          "grade": false,
          "grade_id": "cell-4c80b7b174155807",
          "locked": false,
          "schema_version": 3,
          "solution": true,
          "task": false
        },
        "outputId": "00240d59-9b11-4255-8725-6e7d207f37cc",
        "colab": {
          "base_uri": "https://localhost:8080/",
          "height": 295
        }
      },
      "source": [
        "# Task 20\n",
        "# NOT autograded\n",
        "\n",
        "# YOUR CODE HERE\n",
        "import matplotlib.pyplot as plt\n",
        "fig, ax = plt.subplots() \n",
        "\n",
        "#Color the points differently depending the mammal's danger index\n",
        "plt.scatter(x = df_sleep['Gest'], y = df_sleep['Parasleep'], c = df_sleep['Exposure'])\n",
        "\n",
        "ax.set_title('Gestation Time, Sleep Exposure, and Dreaming Sleep')\n",
        "ax.set_xlabel('Gestation Time in Log(Days)')\n",
        "ax.set_ylabel('Hours of Dreaming Sleep')\n",
        "\n",
        "plt.show()"
      ],
      "execution_count": 60,
      "outputs": [
        {
          "output_type": "display_data",
          "data": {
            "image/png": "[encoded data removed]",
            "text/plain": [
              "<Figure size 432x288 with 1 Axes>"
            ]
          },
          "metadata": {
            "tags": [],
            "needs_background": "light"
          }
        }
      ]
    },
    {
      "cell_type": "markdown",
      "metadata": {
        "id": "XYs1IpYNk8Zw"
      },
      "source": [
        "**Task 21** - Multiple Regression Model\n",
        "\n",
        "Run an OLS model using the log of gestation time and predation index to predict the amount of time spent in dreaming sleep.  Is predation index a better predictor of amount of time spent in dreaming sleep than danger index?\n",
        "\n",
        "(This task will not be autograded)\n",
        "\n",
        "ANSWER: No, because including Danger in the multi-regression model results in a larger r-squared value than including predation index."
      ]
    },
    {
      "cell_type": "code",
      "metadata": {
        "deletable": false,
        "nbgrader": {
          "cell_type": "code",
          "checksum": "ed655ee3d85e679984f113a03fc29d85",
          "grade": false,
          "grade_id": "cell-1c00b428d5be8030",
          "locked": false,
          "schema_version": 3,
          "solution": true,
          "task": false
        },
        "id": "K8rlsBLEPEMC",
        "outputId": "743a01ae-4672-471e-a09b-b4d3f86e4982",
        "colab": {
          "base_uri": "https://localhost:8080/"
        }
      },
      "source": [
        "# Task 21\n",
        "# NOT autograded\n",
        "\n",
        "# YOUR CODE HERE\n",
        "model_sleep_3 = ols('Parasleep ~ log_gest + Pred', data=df_sleep).fit()\n",
        "# model_sleep_3 = ols('Parasleep ~ log_gest + C(Danger)', data=df_sleep).fit()\n",
        "\n",
        "# Print the model summary\n",
        "print(model_sleep_3.summary())"
      ],
      "execution_count": 64,
      "outputs": [
        {
          "output_type": "stream",
          "text": [
            "                            OLS Regression Results                            \n",
            "==============================================================================\n",
            "Dep. Variable:              Parasleep   R-squared:                       0.448\n",
            "Model:                            OLS   Adj. R-squared:                  0.420\n",
            "Method:                 Least Squares   F-statistic:                     15.85\n",
            "Date:                Thu, 12 Nov 2020   Prob (F-statistic):           9.15e-06\n",
            "Time:                        03:17:19   Log-Likelihood:                -60.389\n",
            "No. Observations:                  42   AIC:                             126.8\n",
            "Df Residuals:                      39   BIC:                             132.0\n",
            "Df Model:                           2                                         \n",
            "Covariance Type:            nonrobust                                         \n",
            "==============================================================================\n",
            "                 coef    std err          t      P>|t|      [0.025      0.975]\n",
            "------------------------------------------------------------------------------\n",
            "Intercept      5.9844      0.753      7.951      0.000       4.462       7.507\n",
            "log_gest      -0.7076      0.156     -4.529      0.000      -1.024      -0.392\n",
            "Pred          -0.3349      0.115     -2.923      0.006      -0.567      -0.103\n",
            "==============================================================================\n",
            "Omnibus:                        6.145   Durbin-Watson:                   1.937\n",
            "Prob(Omnibus):                  0.046   Jarque-Bera (JB):                6.905\n",
            "Skew:                           0.367   Prob(JB):                       0.0317\n",
            "Kurtosis:                       4.846   Cond. No.                         25.9\n",
            "==============================================================================\n",
            "\n",
            "Warnings:\n",
            "[1] Standard Errors assume that the covariance matrix of the errors is correctly specified.\n"
          ],
          "name": "stdout"
        }
      ]
    },
    {
      "cell_type": "markdown",
      "metadata": {
        "id": "R-dBXGzCRu4a"
      },
      "source": [
        "## Portfolio Project Assignment\n",
        "\n",
        "Get (and give) constructive feedback to a peer.  Swap projects with at least one other student, and give each other constructive feedback.  Make sure to tell them what you like about their project as well as any suggestions you have for improvement."
      ]
    }
  ]
}