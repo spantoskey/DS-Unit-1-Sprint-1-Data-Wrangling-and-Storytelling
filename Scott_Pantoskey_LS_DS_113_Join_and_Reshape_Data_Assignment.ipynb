{
  "nbformat": 4,
  "nbformat_minor": 0,
  "metadata": {
    "colab": {
      "name": "Scott Pantoskey_LS_DS_113_Join_and_Reshape_Data_Assignment.ipynb",
      "provenance": [],
      "collapsed_sections": [],
      "machine_shape": "hm",
      "include_colab_link": true
    },
    "kernelspec": {
      "display_name": "Python 3",
      "language": "python",
      "name": "python3"
    }
  },
  "cells": [
    {
      "cell_type": "markdown",
      "metadata": {
        "id": "view-in-github",
        "colab_type": "text"
      },
      "source": [
        "<a href=\"https://colab.research.google.com/github/spantoskey/DS-Unit-1-Sprint-1-Data-Wrangling-and-Storytelling/blob/master/Scott_Pantoskey_LS_DS_113_Join_and_Reshape_Data_Assignment.ipynb\" target=\"_parent\"><img src=\"https://colab.research.google.com/assets/colab-badge.svg\" alt=\"Open In Colab\"/></a>"
      ]
    },
    {
      "cell_type": "markdown",
      "metadata": {
        "id": "pmU5YUal1eTZ"
      },
      "source": [
        "_Lambda School Data Science_\n",
        "\n",
        "# Join and Reshape datasets\n",
        "\n",
        "Objectives\n",
        "- concatenate data with pandas\n",
        "- merge data with pandas\n",
        "-  understand tidy data formatting\n",
        "-  melt and pivot data with pandas\n",
        "\n",
        "Links\n",
        "- [Pandas Cheat Sheet](https://github.com/pandas-dev/pandas/blob/master/doc/cheatsheet/Pandas_Cheat_Sheet.pdf)\n",
        "- [Tidy Data](https://en.wikipedia.org/wiki/Tidy_data)\n",
        "  - Combine Data Sets: Standard Joins\n",
        "  - Tidy Data\n",
        "  - Reshaping Data\n",
        "- Python Data Science Handbook\n",
        "  - [Chapter 3.6](https://jakevdp.github.io/PythonDataScienceHandbook/03.06-concat-and-append.html), Combining Datasets: Concat and Append\n",
        "  - [Chapter 3.7](https://jakevdp.github.io/PythonDataScienceHandbook/03.07-merge-and-join.html), Combining Datasets: Merge and Join\n",
        "  - [Chapter 3.8](https://jakevdp.github.io/PythonDataScienceHandbook/03.08-aggregation-and-grouping.html), Aggregation and Grouping\n",
        "  - [Chapter 3.9](https://jakevdp.github.io/PythonDataScienceHandbook/03.09-pivot-tables.html), Pivot Tables\n",
        "  \n",
        "Reference\n",
        "- Pandas Documentation: [Reshaping and Pivot Tables](https://pandas.pydata.org/pandas-docs/stable/reshaping.html)\n",
        "- Modern Pandas, Part 5: [Tidy Data](https://tomaugspurger.github.io/modern-5-tidy.html)"
      ]
    },
    {
      "cell_type": "markdown",
      "metadata": {
        "id": "1rFCdBYk2tkc"
      },
      "source": [
        "#Use the following Instacart data to answer the assignment questions."
      ]
    },
    {
      "cell_type": "code",
      "metadata": {
        "id": "4E3wKrdTChuC",
        "outputId": "0e14db36-dca7-4e24-b1ef-6ed59700dc01",
        "colab": {
          "base_uri": "https://localhost:8080/",
          "height": 471
        }
      },
      "source": [
        "#!wget https://s3.amazonaws.com/instacart-datasets/instacart_online_grocery_shopping_2017_05_01.tar.gz \n",
        "\n",
        "# Make sure we're in the top-level /content directory\n",
        "#\n",
        "# See below for notes on the cd command and why it's %cd instead of !cd\n",
        "%cd /content\n",
        "\n",
        "# Remove everything in the current working directory\n",
        "#\n",
        "# rm is the remove command\n",
        "# -rf specifies the \"recursive\" and \"force\" options to remove all files in \n",
        "# subdirectories without prompting\n",
        "#\n",
        "# THIS IS A POWERFUL COMMAND!\n",
        "#\n",
        "# In this particular case, removing all of the files makes things easier if you\n",
        "# need to re-run these examples by allowing you start with a clean directory\n",
        "# every time.\n",
        "!rm -rf *\n",
        "\n",
        "# wget retrieves files from a remote location\n",
        "!wget https://www.dropbox.com/s/pofcl26lvoj6073/instacart-market-basket-analysis.zip"
      ],
      "execution_count": 1,
      "outputs": [
        {
          "output_type": "stream",
          "text": [
            "/content\n",
            "--2020-10-28 22:01:47--  https://www.dropbox.com/s/pofcl26lvoj6073/instacart-market-basket-analysis.zip\n",
            "Resolving www.dropbox.com (www.dropbox.com)... 162.125.9.1, 2620:100:601f:1::a27d:901\n",
            "Connecting to www.dropbox.com (www.dropbox.com)|162.125.9.1|:443... connected.\n",
            "HTTP request sent, awaiting response... 301 Moved Permanently\n",
            "Location: /s/raw/pofcl26lvoj6073/instacart-market-basket-analysis.zip [following]\n",
            "--2020-10-28 22:01:48--  https://www.dropbox.com/s/raw/pofcl26lvoj6073/instacart-market-basket-analysis.zip\n",
            "Reusing existing connection to www.dropbox.com:443.\n",
            "HTTP request sent, awaiting response... 302 Found\n",
            "Location: https://uc9fb902545cc9c1813144b897c1.dl.dropboxusercontent.com/cd/0/inline/BCInH-TpjUpifKMcW-XhE_CiKkh37hAA4pvzFQw78kV_loUdj_kQKtGYfsAeVKVFGJttWe6g5hUHKdtPDB2aUalvYHfexQrYhwyPSNU-ryvQyAEMrqSi_f4iTq3Ojs_src4/file# [following]\n",
            "--2020-10-28 22:01:48--  https://uc9fb902545cc9c1813144b897c1.dl.dropboxusercontent.com/cd/0/inline/BCInH-TpjUpifKMcW-XhE_CiKkh37hAA4pvzFQw78kV_loUdj_kQKtGYfsAeVKVFGJttWe6g5hUHKdtPDB2aUalvYHfexQrYhwyPSNU-ryvQyAEMrqSi_f4iTq3Ojs_src4/file\n",
            "Resolving uc9fb902545cc9c1813144b897c1.dl.dropboxusercontent.com (uc9fb902545cc9c1813144b897c1.dl.dropboxusercontent.com)... 162.125.9.15, 2620:100:601f:15::a27d:90f\n",
            "Connecting to uc9fb902545cc9c1813144b897c1.dl.dropboxusercontent.com (uc9fb902545cc9c1813144b897c1.dl.dropboxusercontent.com)|162.125.9.15|:443... connected.\n",
            "HTTP request sent, awaiting response... 302 Found\n",
            "Location: /cd/0/inline2/BCKb0Z8194lbGhFxYaN8dIkDrYqBccMn2YfJBnFbtAnLpi1FA-Kaq6Xl_c535IO-YhbLA_omQBxZp6aFWDUI8Yv0qPnGzUf1scAVR6gQzVOCfwMMEyrF1zXSoKtYQMLZWJiewYackCX_wPjWXCceCHqeh2JwIvBlsPp0hKr-xbkiiP3DIlKUfNrx-OyWNYsqUk1OVY6RixB-z1LRKKGZQFEsyKig8F9n28EXBRSQ74-QcydaXEb6sIxRCP0urHPxZv1lIj0OeB237a5eZIe-c7RnjAgr4nzdHcoJ-O1UrctZCohwyuDhkvD8U_pydlZGanCBool4UCo94fvBFNAw7fDATL9jj9fa1GEflwtBeY5MCw/file [following]\n",
            "--2020-10-28 22:01:48--  https://uc9fb902545cc9c1813144b897c1.dl.dropboxusercontent.com/cd/0/inline2/BCKb0Z8194lbGhFxYaN8dIkDrYqBccMn2YfJBnFbtAnLpi1FA-Kaq6Xl_c535IO-YhbLA_omQBxZp6aFWDUI8Yv0qPnGzUf1scAVR6gQzVOCfwMMEyrF1zXSoKtYQMLZWJiewYackCX_wPjWXCceCHqeh2JwIvBlsPp0hKr-xbkiiP3DIlKUfNrx-OyWNYsqUk1OVY6RixB-z1LRKKGZQFEsyKig8F9n28EXBRSQ74-QcydaXEb6sIxRCP0urHPxZv1lIj0OeB237a5eZIe-c7RnjAgr4nzdHcoJ-O1UrctZCohwyuDhkvD8U_pydlZGanCBool4UCo94fvBFNAw7fDATL9jj9fa1GEflwtBeY5MCw/file\n",
            "Reusing existing connection to uc9fb902545cc9c1813144b897c1.dl.dropboxusercontent.com:443.\n",
            "HTTP request sent, awaiting response... 200 OK\n",
            "Length: 205616541 (196M) [application/zip]\n",
            "Saving to: ‘instacart-market-basket-analysis.zip’\n",
            "\n",
            "instacart-market-ba 100%[===================>] 196.09M  58.4MB/s    in 3.4s    \n",
            "\n",
            "2020-10-28 22:01:52 (58.4 MB/s) - ‘instacart-market-basket-analysis.zip’ saved [205616541/205616541]\n",
            "\n"
          ],
          "name": "stdout"
        }
      ]
    },
    {
      "cell_type": "code",
      "metadata": {
        "id": "dkxqMNGrDJrM",
        "outputId": "4089e0e4-eb45-42a2-8a35-ec4dd921d47a",
        "colab": {
          "base_uri": "https://localhost:8080/",
          "height": 312
        }
      },
      "source": [
        "# Unzip the archive\n",
        "#\n",
        "# Creates a new directory called instacart-market-basket-analysis\n",
        "\n",
        "!unzip instacart-market-basket-analysis.zip"
      ],
      "execution_count": 2,
      "outputs": [
        {
          "output_type": "stream",
          "text": [
            "Archive:  instacart-market-basket-analysis.zip\n",
            "   creating: instacart-market-basket-analysis/\n",
            "  inflating: __MACOSX/._instacart-market-basket-analysis  \n",
            "  inflating: instacart-market-basket-analysis/order_products__prior.csv.zip  \n",
            "  inflating: __MACOSX/instacart-market-basket-analysis/._order_products__prior.csv.zip  \n",
            "  inflating: instacart-market-basket-analysis/.DS_Store  \n",
            "  inflating: __MACOSX/instacart-market-basket-analysis/._.DS_Store  \n",
            "  inflating: instacart-market-basket-analysis/order_products__train.csv.zip  \n",
            "  inflating: __MACOSX/instacart-market-basket-analysis/._order_products__train.csv.zip  \n",
            "  inflating: instacart-market-basket-analysis/aisles.csv.zip  \n",
            "  inflating: __MACOSX/instacart-market-basket-analysis/._aisles.csv.zip  \n",
            "  inflating: instacart-market-basket-analysis/orders.csv.zip  \n",
            "  inflating: __MACOSX/instacart-market-basket-analysis/._orders.csv.zip  \n",
            "  inflating: instacart-market-basket-analysis/departments.csv.zip  \n",
            "  inflating: __MACOSX/instacart-market-basket-analysis/._departments.csv.zip  \n",
            "  inflating: instacart-market-basket-analysis/products.csv.zip  \n",
            "  inflating: __MACOSX/instacart-market-basket-analysis/._products.csv.zip  \n"
          ],
          "name": "stdout"
        }
      ]
    },
    {
      "cell_type": "code",
      "metadata": {
        "id": "qaDdXbQqCnGc",
        "outputId": "bdbc8f23-ebf4-43a1-d56d-171c07800b55",
        "colab": {
          "base_uri": "https://localhost:8080/",
          "height": 35
        }
      },
      "source": [
        "# Change into the newly-unzipped directory\n",
        "#\n",
        "# % sign is required to change to a new directory -- you can't use !cd like\n",
        "# other commands\n",
        "#\n",
        "# Optional technical details:\n",
        "#\n",
        "# % makes the command apply to the **entire notebook environment**, which is\n",
        "# what you need to do to change the working directory\n",
        "#\n",
        "# The ! sign **opens a new shell process** behind the scenes to execute the\n",
        "# command -- this works fine for regular commands like unzip and ls\n",
        "#\n",
        "# Therefore, !cd would apply only to that new shell and wouldn't change the\n",
        "# global notebook environment\n",
        "#\n",
        "# If this makes your heard hurt, don't worry too much about it. We'll talk\n",
        "# more about the shell and operating systems stuff later in the program.\n",
        "\n",
        "%cd instacart-market-basket-analysis"
      ],
      "execution_count": 3,
      "outputs": [
        {
          "output_type": "stream",
          "text": [
            "/content/instacart-market-basket-analysis\n"
          ],
          "name": "stdout"
        }
      ]
    },
    {
      "cell_type": "code",
      "metadata": {
        "id": "eADz6civ204P",
        "outputId": "bedbd840-06a6-4ac7-c273-324224653283",
        "colab": {
          "base_uri": "https://localhost:8080/",
          "height": 468
        }
      },
      "source": [
        "# Unzip all .csv.zip files in the directory\n",
        "!unzip \"*.zip\""
      ],
      "execution_count": 4,
      "outputs": [
        {
          "output_type": "stream",
          "text": [
            "Archive:  orders.csv.zip\n",
            "  inflating: orders.csv              \n",
            "   creating: __MACOSX/\n",
            "  inflating: __MACOSX/._orders.csv   \n",
            "\n",
            "Archive:  products.csv.zip\n",
            "  inflating: products.csv            \n",
            "  inflating: __MACOSX/._products.csv  \n",
            "\n",
            "Archive:  order_products__prior.csv.zip\n",
            "  inflating: order_products__prior.csv  \n",
            "  inflating: __MACOSX/._order_products__prior.csv  \n",
            "\n",
            "Archive:  departments.csv.zip\n",
            "  inflating: departments.csv         \n",
            "  inflating: __MACOSX/._departments.csv  \n",
            "\n",
            "Archive:  aisles.csv.zip\n",
            "  inflating: aisles.csv              \n",
            "  inflating: __MACOSX/._aisles.csv   \n",
            "\n",
            "Archive:  order_products__train.csv.zip\n",
            "  inflating: order_products__train.csv  \n",
            "  inflating: __MACOSX/._order_products__train.csv  \n",
            "\n",
            "6 archives were successfully processed.\n"
          ],
          "name": "stdout"
        }
      ]
    },
    {
      "cell_type": "code",
      "metadata": {
        "id": "nnEkWO4E2_w2",
        "outputId": "8dcbc1dc-0e4c-443f-96d3-3fab7bb62482",
        "colab": {
          "base_uri": "https://localhost:8080/",
          "height": 121
        }
      },
      "source": [
        "# List all csv files in the current directory\n",
        "# -l specifies the \"long\" listing format, which includes additional info on each file\n",
        "# -h specifies \"human readable\" file size units\n",
        "!ls -l -h *.csv"
      ],
      "execution_count": 5,
      "outputs": [
        {
          "output_type": "stream",
          "text": [
            "-rw-r--r-- 1 root root 2.6K May  2  2017 aisles.csv\n",
            "-rw-r--r-- 1 root root  270 May  2  2017 departments.csv\n",
            "-rw-r--r-- 1 root root 551M May  2  2017 order_products__prior.csv\n",
            "-rw-r--r-- 1 root root  24M May  2  2017 order_products__train.csv\n",
            "-rw-r--r-- 1 root root 104M May  2  2017 orders.csv\n",
            "-rw-r--r-- 1 root root 2.1M May  2  2017 products.csv\n"
          ],
          "name": "stdout"
        }
      ]
    },
    {
      "cell_type": "markdown",
      "metadata": {
        "id": "kAMtvSQWPUcj"
      },
      "source": [
        "#Use the follwing information to answer the assignment questions.\n",
        "\n",
        "These are the top 10 most frequently ordered products. How many times was each ordered? \n",
        "\n",
        "1. Banana\n",
        "2. Bag of Organic Bananas\n",
        "3. Organic Strawberries\n",
        "4. Organic Baby Spinach \n",
        "5. Organic Hass Avocado\n",
        "6. Organic Avocado\n",
        "7. Large Lemon \n",
        "8. Strawberries\n",
        "9. Limes \n",
        "10. Organic Whole Milk"
      ]
    },
    {
      "cell_type": "markdown",
      "metadata": {
        "id": "xDyL5XUi4FKq"
      },
      "source": [
        "1) Save the products.csv file as a data frame called product_names.  Print the first 5 rows of product_names."
      ]
    },
    {
      "cell_type": "code",
      "metadata": {
        "id": "sDZ_d8104pH1",
        "outputId": "fff3c4de-69be-44a9-da99-992167bbc7e6",
        "colab": {
          "base_uri": "https://localhost:8080/",
          "height": 153
        }
      },
      "source": [
        "### YOUR CODE HERE ###\n",
        "import pandas as pd\n",
        "df = pd.read_csv('products.csv')\n",
        "product_names = pd.DataFrame(df)\n",
        "print(product_names.head())"
      ],
      "execution_count": 76,
      "outputs": [
        {
          "output_type": "stream",
          "text": [
            "   product_id  ... department_id\n",
            "0           1  ...            19\n",
            "1           2  ...            13\n",
            "2           3  ...             7\n",
            "3           4  ...             1\n",
            "4           5  ...            13\n",
            "\n",
            "[5 rows x 4 columns]\n"
          ],
          "name": "stdout"
        }
      ]
    },
    {
      "cell_type": "markdown",
      "metadata": {
        "id": "nAYozVNF33-t"
      },
      "source": [
        "2) Read in order_products_prior.csv and order_products_train.csv.  Concatenate them into one dataset called order_product_link."
      ]
    },
    {
      "cell_type": "code",
      "metadata": {
        "id": "6o_HZWaU47BH",
        "outputId": "da112140-7c2a-4047-da85-7c16d43419e9",
        "colab": {
          "base_uri": "https://localhost:8080/",
          "height": 119
        }
      },
      "source": [
        "### YOUR CODE HERE ###\n",
        "order_products_prior = pd.read_csv('order_products__prior.csv')\n",
        "order_products_trial = pd.read_csv('order_products__train.csv')\n",
        "order_product_link = pd.concat([order_products_prior, order_products_trial])\n",
        "print(order_product_link.head())"
      ],
      "execution_count": 77,
      "outputs": [
        {
          "output_type": "stream",
          "text": [
            "   order_id  product_id  add_to_cart_order  reordered\n",
            "0         2       33120                  1          1\n",
            "1         2       28985                  2          1\n",
            "2         2        9327                  3          0\n",
            "3         2       45918                  4          1\n",
            "4         2       30035                  5          0\n"
          ],
          "name": "stdout"
        }
      ]
    },
    {
      "cell_type": "markdown",
      "metadata": {
        "id": "QsGoQ0rI7FIb"
      },
      "source": [
        "3) Use the code below to identify the top 10 most ordered products. Clearly Instacart users really like avocados..."
      ]
    },
    {
      "cell_type": "code",
      "metadata": {
        "id": "VvwRD6mh7AiE"
      },
      "source": [
        "ten_products = [\"Banana\",\n",
        "\"Bag of Organic Bananas\",\n",
        "\"Organic Strawberries\",\n",
        "\"Organic Baby Spinach\",\n",
        "\"Organic Hass Avocado\",\n",
        "\"Organic Avocado\",\n",
        "\"Large Lemon\",\n",
        "\"Strawberries\",\n",
        "\"Limes\",\n",
        "\"Organic Whole Milk\"]"
      ],
      "execution_count": 78,
      "outputs": []
    },
    {
      "cell_type": "markdown",
      "metadata": {
        "id": "tQehWuPf7Y6N"
      },
      "source": [
        "4) Create a subset of the product_names dataset that includes just the top 10 most ordered products.  Call that dataset product_names_10"
      ]
    },
    {
      "cell_type": "code",
      "metadata": {
        "id": "6ZX0OeGU7gAa",
        "outputId": "4a9b7644-a1e5-4388-cad3-484f1c06d49e",
        "colab": {
          "base_uri": "https://localhost:8080/",
          "height": 204
        }
      },
      "source": [
        "## YOUR CODE HERE ###\n",
        "condition = product_names['product_name'].isin(ten_products)\n",
        "product_names_10 = product_names[condition]\n",
        "print(product_names_10)"
      ],
      "execution_count": 79,
      "outputs": [
        {
          "output_type": "stream",
          "text": [
            "       product_id            product_name  aisle_id  department_id\n",
            "13175       13176  Bag of Organic Bananas        24              4\n",
            "16796       16797            Strawberries        24              4\n",
            "21136       21137    Organic Strawberries        24              4\n",
            "21902       21903    Organic Baby Spinach       123              4\n",
            "24851       24852                  Banana        24              4\n",
            "26208       26209                   Limes        24              4\n",
            "27844       27845      Organic Whole Milk        84             16\n",
            "47208       47209    Organic Hass Avocado        24              4\n",
            "47625       47626             Large Lemon        24              4\n",
            "47765       47766         Organic Avocado        24              4\n"
          ],
          "name": "stdout"
        }
      ]
    },
    {
      "cell_type": "markdown",
      "metadata": {
        "id": "PuIVJyJp8Zje"
      },
      "source": [
        "5) Merge the order_product_link dataset with the product_names_10 dataset and print the top 20 rows.  Call the new dataset product_orders."
      ]
    },
    {
      "cell_type": "code",
      "metadata": {
        "id": "PJPGAWEk7OVS",
        "outputId": "6b3e4515-b3d6-4898-e309-57fa0ed023c6",
        "colab": {
          "base_uri": "https://localhost:8080/",
          "height": 255
        }
      },
      "source": [
        "### YOUR CODE HERE ###\n",
        "product_orders = pd.merge(order_product_link,product_names_10, on='product_id', how='inner')\n",
        "print(product_orders.head(100))\n"
      ],
      "execution_count": 80,
      "outputs": [
        {
          "output_type": "stream",
          "text": [
            "    order_id  product_id  ...  aisle_id  department_id\n",
            "0          3       21903  ...       123              4\n",
            "1         26       21903  ...       123              4\n",
            "2         31       21903  ...       123              4\n",
            "3         39       21903  ...       123              4\n",
            "4         56       21903  ...       123              4\n",
            "..       ...         ...  ...       ...            ...\n",
            "95      1594       21903  ...       123              4\n",
            "96      1605       21903  ...       123              4\n",
            "97      1612       21903  ...       123              4\n",
            "98      1632       21903  ...       123              4\n",
            "99      1634       21903  ...       123              4\n",
            "\n",
            "[100 rows x 7 columns]\n"
          ],
          "name": "stdout"
        }
      ]
    },
    {
      "cell_type": "markdown",
      "metadata": {
        "id": "RBsXg9dZ9OL9"
      },
      "source": [
        "6) Note that every record product_orders dataset is a single instance in which someone ordered one of the top 10 products.  \n",
        "\n",
        "Calcluate the number of times each product was ordered.  What was the most frequently ordered food?"
      ]
    },
    {
      "cell_type": "code",
      "metadata": {
        "id": "9j121LNl9ADc",
        "outputId": "d9d47144-6b2e-406e-c2f2-8570a28c3142",
        "colab": {
          "base_uri": "https://localhost:8080/",
          "height": 68
        }
      },
      "source": [
        "### YOUR CODE HERE ###\n",
        "number_of_orders = product_orders.groupby('product_name')['product_name'].count().sort_values(ascending=False)\n",
        "highest_selling_product = number_of_orders[[0]]\n",
        "print(highest_selling_product)\n"
      ],
      "execution_count": 81,
      "outputs": [
        {
          "output_type": "stream",
          "text": [
            "product_name\n",
            "Banana    491291\n",
            "Name: product_name, dtype: int64\n"
          ],
          "name": "stdout"
        }
      ]
    },
    {
      "cell_type": "code",
      "metadata": {
        "id": "eSs3PMHOkt68",
        "outputId": "404b786b-1fed-4db6-d729-0ebcebf1feba",
        "colab": {
          "base_uri": "https://localhost:8080/",
          "height": 35
        }
      },
      "source": [
        "product_orders['product_name'].value_counts().index[0]"
      ],
      "execution_count": 82,
      "outputs": [
        {
          "output_type": "execute_result",
          "data": {
            "application/vnd.google.colaboratory.intrinsic+json": {
              "type": "string"
            },
            "text/plain": [
              "'Banana'"
            ]
          },
          "metadata": {
            "tags": []
          },
          "execution_count": 82
        }
      ]
    },
    {
      "cell_type": "markdown",
      "metadata": {
        "id": "wKoMvy-D-jxZ"
      },
      "source": [
        "#Now we want to figure out when people are ordering all these bananas.\n"
      ]
    },
    {
      "cell_type": "markdown",
      "metadata": {
        "id": "Yf7Aqs0K-2FM"
      },
      "source": [
        "7) Import orders.csv and name the dataset \"orders\".  Print the top 5 observations in orders.\n",
        "\n"
      ]
    },
    {
      "cell_type": "code",
      "metadata": {
        "id": "wj4r-FYzEAL1",
        "outputId": "89996c4c-ae6b-4975-d5d6-39b519cc5e9a",
        "colab": {
          "base_uri": "https://localhost:8080/",
          "height": 153
        }
      },
      "source": [
        "### YOUR CODE HERE ###\n",
        "import pandas as pd\n",
        "orders = pd.read_csv('orders.csv')\n",
        "print(orders.head())"
      ],
      "execution_count": 88,
      "outputs": [
        {
          "output_type": "stream",
          "text": [
            "   order_id  user_id  ... order_hour_of_day  days_since_prior_order\n",
            "0   2539329        1  ...                 8                     NaN\n",
            "1   2398795        1  ...                 7                    15.0\n",
            "2    473747        1  ...                12                    21.0\n",
            "3   2254736        1  ...                 7                    29.0\n",
            "4    431534        1  ...                15                    28.0\n",
            "\n",
            "[5 rows x 7 columns]\n"
          ],
          "name": "stdout"
        }
      ]
    },
    {
      "cell_type": "markdown",
      "metadata": {
        "id": "UJLKgUt_AAlW"
      },
      "source": [
        "8) Merge the orders dataset and the product_orders dataset so we can see the time each order of each of the top 10 products was placed."
      ]
    },
    {
      "cell_type": "code",
      "metadata": {
        "id": "lu-21j9cEws6",
        "outputId": "7b91e483-d498-4bd4-e082-6f23e2d8a8e9",
        "colab": {
          "base_uri": "https://localhost:8080/",
          "height": 255
        }
      },
      "source": [
        "### YOUR CODE HERE ###\n",
        "merged_dataset = pd.merge(orders[['order_id','order_hour_of_day']],product_orders[['order_id','product_name']],on='order_id',how='inner',sort='days_since_prior_order').drop('order_id',axis=1)\n",
        "print(merged_dataset)"
      ],
      "execution_count": 96,
      "outputs": [
        {
          "output_type": "stream",
          "text": [
            "         order_hour_of_day            product_name\n",
            "0                       10  Bag of Organic Bananas\n",
            "1                       10    Organic Hass Avocado\n",
            "2                       17    Organic Baby Spinach\n",
            "3                       16  Bag of Organic Bananas\n",
            "4                       16    Organic Hass Avocado\n",
            "...                    ...                     ...\n",
            "2418309                 10      Organic Whole Milk\n",
            "2418310                 11                  Banana\n",
            "2418311                 11      Organic Whole Milk\n",
            "2418312                 18            Strawberries\n",
            "2418313                  6                  Banana\n",
            "\n",
            "[2418314 rows x 2 columns]\n"
          ],
          "name": "stdout"
        }
      ]
    },
    {
      "cell_type": "markdown",
      "metadata": {
        "id": "88iUSPClAl2_"
      },
      "source": [
        "9) Create a subset of order_times that includes only orders of Bananas.  Call that dataset Bananas."
      ]
    },
    {
      "cell_type": "code",
      "metadata": {
        "id": "wqILRrRWoQGI",
        "outputId": "40ba8d73-b488-4c98-dc12-3b95ef95fe19",
        "colab": {
          "base_uri": "https://localhost:8080/",
          "height": 255
        }
      },
      "source": [
        "### YOUR CODE HERE ###\n",
        "bananas = merged_dataset[merged_dataset['product_name'].str.contains('Banana')]\n",
        "print(bananas)"
      ],
      "execution_count": 97,
      "outputs": [
        {
          "output_type": "stream",
          "text": [
            "         order_hour_of_day            product_name\n",
            "0                       10  Bag of Organic Bananas\n",
            "3                       16  Bag of Organic Bananas\n",
            "5                        8                  Banana\n",
            "10                      17                  Banana\n",
            "11                       8                  Banana\n",
            "...                    ...                     ...\n",
            "2418302                  8  Bag of Organic Bananas\n",
            "2418304                 14  Bag of Organic Bananas\n",
            "2418305                 16  Bag of Organic Bananas\n",
            "2418310                 11                  Banana\n",
            "2418313                  6                  Banana\n",
            "\n",
            "[886221 rows x 2 columns]\n"
          ],
          "name": "stdout"
        }
      ]
    },
    {
      "cell_type": "markdown",
      "metadata": {
        "id": "9CVjG_HgA-UR"
      },
      "source": [
        "10) Run the following code to show a histogram of the times of banana orders (times after noon are written as 13 hours, 14 hours, etc.)"
      ]
    },
    {
      "cell_type": "code",
      "metadata": {
        "id": "0Wjqd0OJA4s2",
        "outputId": "32be2fdc-5663-407a-bd92-6ac57cf8e327",
        "colab": {
          "base_uri": "https://localhost:8080/",
          "height": 295
        }
      },
      "source": [
        "import matplotlib.pyplot as plt\n",
        "\n",
        "plt.hist(bananas['order_hour_of_day'],bins=24, color='blue')\n",
        "\n",
        "plt.xlabel('Hour of the Day')\n",
        "plt.ylabel('Number of Times Bananas are Ordered')\n",
        "plt.title('Banana Orders by Time of Day')\n",
        "\n",
        "plt.show()"
      ],
      "execution_count": 98,
      "outputs": [
        {
          "output_type": "display_data",
          "data": {
            "image/png": "[encoded data removed]",
            "text/plain": [
              "<Figure size 432x288 with 1 Axes>"
            ]
          },
          "metadata": {
            "tags": [],
            "needs_background": "light"
          }
        }
      ]
    },
    {
      "cell_type": "markdown",
      "metadata": {
        "id": "xP-LnICJBbaN"
      },
      "source": [
        "11) When were bananas most frequently ordered?"
      ]
    },
    {
      "cell_type": "markdown",
      "metadata": {
        "id": "2uxIbDtSBhGs"
      },
      "source": [
        "Answer here: Bananas were most frequently purchased at 10am."
      ]
    },
    {
      "cell_type": "markdown",
      "metadata": {
        "id": "uj4qmn_6BqyP"
      },
      "source": [
        "12) Were avocados ordered at a different time a day?  Modify the code below by replacing the ??? to create a histogram of order times of Organic Haas Avocados."
      ]
    },
    {
      "cell_type": "code",
      "metadata": {
        "id": "gj76G-9mAzui",
        "outputId": "84e2c34a-a044-4936-f596-cae3427f4c77",
        "colab": {
          "base_uri": "https://localhost:8080/",
          "height": 543
        }
      },
      "source": [
        "#Calculate mean order times by product\n",
        "\n",
        "Haas_avocado = merged_dataset[merged_dataset['product_name'] == 'Organic Hass Avocado']\n",
        "\n",
        "print(Haas_avocado)\n",
        "import matplotlib.pyplot as plt\n",
        "\n",
        "plt.hist(Haas_avocado['order_hour_of_day'],bins=24, color='red')\n",
        "\n",
        "plt.xlabel('Hour of the Day')\n",
        "plt.ylabel('Number of Times Organic Haas Avocados are Ordered')\n",
        "plt.title ('Organic Haas Avocados Orders by Time of Day')\n",
        "\n",
        "plt.show()"
      ],
      "execution_count": 111,
      "outputs": [
        {
          "output_type": "stream",
          "text": [
            "         order_hour_of_day          product_name\n",
            "1                       10  Organic Hass Avocado\n",
            "4                       16  Organic Hass Avocado\n",
            "18                      13  Organic Hass Avocado\n",
            "27                      20  Organic Hass Avocado\n",
            "33                      12  Organic Hass Avocado\n",
            "...                    ...                   ...\n",
            "2418273                 20  Organic Hass Avocado\n",
            "2418289                 11  Organic Hass Avocado\n",
            "2418296                 17  Organic Hass Avocado\n",
            "2418299                 20  Organic Hass Avocado\n",
            "2418301                 17  Organic Hass Avocado\n",
            "\n",
            "[220877 rows x 2 columns]\n"
          ],
          "name": "stdout"
        },
        {
          "output_type": "display_data",
          "data": {
            "image/png": "[encoded data removed]",
            "text/plain": [
              "<Figure size 432x288 with 1 Axes>"
            ]
          },
          "metadata": {
            "tags": [],
            "needs_background": "light"
          }
        }
      ]
    },
    {
      "cell_type": "markdown",
      "metadata": {
        "id": "iTIxum7NCyu1"
      },
      "source": [
        "Answer here: The most avocados were purchased around 3pm."
      ]
    },
    {
      "cell_type": "markdown",
      "metadata": {
        "id": "mh-XJVuyDbRt"
      },
      "source": [
        "# Portfolio Project Milestone\n",
        "\n",
        "Watch the Showcase Project (formerly known as Build Week) kickoff video to get a sense of what you will accomplish over the next few weeks:\n",
        "https://youtu.be/WYi9EXH-9lU"
      ]
    }
  ]
}