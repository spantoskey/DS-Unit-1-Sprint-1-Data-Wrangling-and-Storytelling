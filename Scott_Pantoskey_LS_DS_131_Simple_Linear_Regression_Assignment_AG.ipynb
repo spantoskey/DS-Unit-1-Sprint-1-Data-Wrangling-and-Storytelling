{
  "nbformat": 4,
  "nbformat_minor": 0,
  "metadata": {
    "colab": {
      "name": "Scott_Pantoskey_LS_DS_131_Simple_Linear_Regression_Assignment_AG.ipynb",
      "provenance": [],
      "collapsed_sections": [],
      "include_colab_link": true
    },
    "kernelspec": {
      "display_name": "Python 3",
      "language": "python",
      "name": "python3"
    },
    "language_info": {
      "codemirror_mode": {
        "name": "ipython",
        "version": 3
      },
      "file_extension": ".py",
      "mimetype": "text/x-python",
      "name": "python",
      "nbconvert_exporter": "python",
      "pygments_lexer": "ipython3",
      "version": "3.7.4"
    }
  },
  "cells": [
    {
      "cell_type": "markdown",
      "metadata": {
        "id": "view-in-github",
        "colab_type": "text"
      },
      "source": [
        "<a href=\"https://colab.research.google.com/github/spantoskey/DS-Unit-1-Sprint-1-Data-Wrangling-and-Storytelling/blob/master/Scott_Pantoskey_LS_DS_131_Simple_Linear_Regression_Assignment_AG.ipynb\" target=\"_parent\"><img src=\"https://colab.research.google.com/assets/colab-badge.svg\" alt=\"Open In Colab\"/></a>"
      ]
    },
    {
      "cell_type": "markdown",
      "metadata": {
        "id": "_3ixmszO6I_Q"
      },
      "source": [
        "## Autograded Notebook (Canvas & CodeGrade)\n",
        "\n",
        "This notebook will be automatically graded. It is designed to test your answers and award points for the correct answers. Following the instructions for each Task carefully.\n",
        "\n",
        "### Instructions\n",
        "\n",
        "* **Download this notebook** as you would any other ipynb file\n",
        "* **Upload** to Google Colab or work locally (if you have that set-up)\n",
        "* **Delete `raise NotImplementedError()`**\n",
        "* Write your code in the `# YOUR CODE HERE` space\n",
        "* **Execute** the Test cells that contain `assert` statements - these help you check your work (others contain hidden tests that will be checked when you submit through Canvas)\n",
        "* **Save** your notebook when you are finished\n",
        "* **Download** as a `ipynb` file (if working in Colab)\n",
        "* **Upload** your complete notebook to Canvas (there will be additional instructions in Slack and/or Canvas)"
      ]
    },
    {
      "cell_type": "markdown",
      "metadata": {
        "deletable": false,
        "editable": false,
        "id": "RQw2GTc8oDRw",
        "nbgrader": {
          "cell_type": "markdown",
          "checksum": "cab0178b677a5030b3b2eb550f75bd83",
          "grade": false,
          "grade_id": "cell-de0b7ec24e1d742c",
          "locked": true,
          "schema_version": 3,
          "solution": false,
          "task": false
        }
      },
      "source": [
        "# Lambda School Data Science - Unit 1 Sprint 3 Module 1\n",
        "\n",
        "---\n",
        "\n",
        "## Module Project: Simple Linear Regression\n",
        "\n",
        "\n",
        "### Learning Objectives \n",
        "\n",
        "- identify the independent and dependent variables in a relationship (also known as features and target, and explanatory and response variables)\n",
        "- identify linear and nonlinear relationships from a scatterplot\n",
        "- calculate and interpret linear correlation\n",
        "- calculate and interpret the slope and intercept of a simple linear regression model\n",
        "- predict a response from a simple linear regression model\n",
        "- calculate and interpret a residual"
      ]
    },
    {
      "cell_type": "markdown",
      "metadata": {
        "id": "MHWnltybtm8_"
      },
      "source": [
        "## Part A\n",
        "\n",
        "## Introduction\n",
        "\n",
        "### Is head size related to brain weight in healthy adult humans?\n",
        "\n",
        "The `Brainhead.csv` dataset provides information on 237 individuals who were subject to post-mortem examination at the Middlesex Hospital in London around the turn of the 20th century. Study authors used cadavers to see if a relationship between brain weight and other more easily measured physiological characteristics such as age, sex, and head size could be determined. The end goal was to develop a way to estimate a person’s brain size while they were still alive (as the living aren’t keen on having their brains taken out and weighed). \n",
        "\n",
        "**We wish to determine if there is a linear relationship between head size and brain weight in healthy human adults.**\n",
        "\n",
        "(Source: R.J. Gladstone (1905). \"A Study of the Relations of the Brain to the Size of the Head\", Biometrika, Vol. 4, pp105-123.)\n",
        "\n",
        "Use the above information to complete Tasks 1 - "
      ]
    },
    {
      "cell_type": "markdown",
      "metadata": {
        "id": "iqieh27n6I_Z"
      },
      "source": [
        "**Task 1** - Load the data\n",
        "\n",
        "As we usually begin, let's load the data! The URL has been provided.\n",
        "\n",
        "* load your CSV file into a DataFrame named `df`"
      ]
    },
    {
      "cell_type": "code",
      "metadata": {
        "deletable": false,
        "id": "sJegaDmRn0a6",
        "nbgrader": {
          "cell_type": "code",
          "checksum": "ab615cb51138862f17e35ff36ae2972d",
          "grade": false,
          "grade_id": "cell-f56f45d558982ac9",
          "locked": false,
          "schema_version": 3,
          "solution": true,
          "task": false
        },
        "outputId": "10a790ef-e628-473c-cf78-57c5b3a6078a",
        "colab": {
          "base_uri": "https://localhost:8080/",
          "height": 221
        }
      },
      "source": [
        "# Task 1\n",
        "\n",
        "import pandas as pd\n",
        "import numpy as np\n",
        "\n",
        "data_url = 'https://raw.githubusercontent.com/LambdaSchool/data-science-practice-datasets/main/unit_1/Brainhead/Brainhead.csv'\n",
        "\n",
        "# YOUR CODE HERE\n",
        "df = pd.read_csv(data_url,skipinitialspace=True, header=0)\n",
        "# print(len(df))\n",
        "\n",
        "# Print out your DataFrame\n",
        "df.head()"
      ],
      "execution_count": 8,
      "outputs": [
        {
          "output_type": "stream",
          "text": [
            "237\n"
          ],
          "name": "stdout"
        },
        {
          "output_type": "execute_result",
          "data": {
            "text/html": [
              "<div>\n",
              "<style scoped>\n",
              "    .dataframe tbody tr th:only-of-type {\n",
              "        vertical-align: middle;\n",
              "    }\n",
              "\n",
              "    .dataframe tbody tr th {\n",
              "        vertical-align: top;\n",
              "    }\n",
              "\n",
              "    .dataframe thead th {\n",
              "        text-align: right;\n",
              "    }\n",
              "</style>\n",
              "<table border=\"1\" class=\"dataframe\">\n",
              "  <thead>\n",
              "    <tr style=\"text-align: right;\">\n",
              "      <th></th>\n",
              "      <th>Gender</th>\n",
              "      <th>Age</th>\n",
              "      <th>Head</th>\n",
              "      <th>Brain</th>\n",
              "    </tr>\n",
              "  </thead>\n",
              "  <tbody>\n",
              "    <tr>\n",
              "      <th>0</th>\n",
              "      <td>1</td>\n",
              "      <td>1</td>\n",
              "      <td>4512</td>\n",
              "      <td>1530</td>\n",
              "    </tr>\n",
              "    <tr>\n",
              "      <th>1</th>\n",
              "      <td>1</td>\n",
              "      <td>1</td>\n",
              "      <td>3738</td>\n",
              "      <td>1297</td>\n",
              "    </tr>\n",
              "    <tr>\n",
              "      <th>2</th>\n",
              "      <td>1</td>\n",
              "      <td>1</td>\n",
              "      <td>4261</td>\n",
              "      <td>1335</td>\n",
              "    </tr>\n",
              "    <tr>\n",
              "      <th>3</th>\n",
              "      <td>1</td>\n",
              "      <td>1</td>\n",
              "      <td>3777</td>\n",
              "      <td>1282</td>\n",
              "    </tr>\n",
              "    <tr>\n",
              "      <th>4</th>\n",
              "      <td>1</td>\n",
              "      <td>1</td>\n",
              "      <td>4177</td>\n",
              "      <td>1590</td>\n",
              "    </tr>\n",
              "  </tbody>\n",
              "</table>\n",
              "</div>"
            ],
            "text/plain": [
              "   Gender  Age  Head  Brain\n",
              "0       1    1  4512   1530\n",
              "1       1    1  3738   1297\n",
              "2       1    1  4261   1335\n",
              "3       1    1  3777   1282\n",
              "4       1    1  4177   1590"
            ]
          },
          "metadata": {
            "tags": []
          },
          "execution_count": 8
        }
      ]
    },
    {
      "cell_type": "markdown",
      "metadata": {
        "deletable": false,
        "editable": false,
        "nbgrader": {
          "cell_type": "markdown",
          "checksum": "5341faf9877c24ef94beb0e200d4ab2c",
          "grade": false,
          "grade_id": "cell-2754449cf4111e17",
          "locked": true,
          "schema_version": 3,
          "solution": false,
          "task": false
        },
        "id": "ezK6ec5Y6I_i"
      },
      "source": [
        "**Task 1 - Test**"
      ]
    },
    {
      "cell_type": "code",
      "metadata": {
        "deletable": false,
        "editable": false,
        "nbgrader": {
          "cell_type": "code",
          "checksum": "22a0ec95c1e64fb630d813ebfd46128b",
          "grade": true,
          "grade_id": "cell-a168cbc0826de9db",
          "locked": true,
          "points": 1,
          "schema_version": 3,
          "solution": false,
          "task": false
        },
        "id": "d40Ngslm6I_k"
      },
      "source": [
        "# Task 1 - Test\n",
        "\n",
        "assert isinstance(df, pd.DataFrame), 'Have you created a DataFrame named `df`?'\n",
        "assert len(df) == 237\n"
      ],
      "execution_count": 9,
      "outputs": []
    },
    {
      "cell_type": "markdown",
      "metadata": {
        "id": "UygPGJ5Iq4zZ"
      },
      "source": [
        "**Task 2**\n",
        "\n",
        "The two variables we are interested in - for now - are \n",
        "\n",
        "* `Brain` - the brain weight in kg\n",
        "* `Head` - the head size in cubic cm\n",
        "\n",
        "If we wish to predict brain weight from head size, which variable is the **independent variable** (also called the feature, explanatory, or x variable) and which variable is the **dependent variable** (also called the target, response or y variable)?\n",
        "\n",
        "Using the DataFrame `df` you loaded above assign columns to the independent and dependent variables\n",
        "\n",
        "* assign the independent variable to `ind_x`\n",
        "* assign the dependent variable to `dep_y`"
      ]
    },
    {
      "cell_type": "code",
      "metadata": {
        "deletable": false,
        "nbgrader": {
          "cell_type": "code",
          "checksum": "7664a78fd5bbdb8f8273dcc941da406d",
          "grade": false,
          "grade_id": "cell-7ec1c137b28cf882",
          "locked": false,
          "schema_version": 3,
          "solution": true,
          "task": false
        },
        "id": "ge4kyyPB6I_t"
      },
      "source": [
        "# Task 2\n",
        "# ind_x = df['head']\n",
        "# dep_y = df['Brain']\n",
        "\n",
        "# YOUR CODE HERE\n",
        "ind_x = df['Head']\n",
        "dep_y = df['Brain']"
      ],
      "execution_count": 12,
      "outputs": []
    },
    {
      "cell_type": "markdown",
      "metadata": {
        "id": "GvmstnuF6I_0"
      },
      "source": [
        "**Task 2 - Test**"
      ]
    },
    {
      "cell_type": "code",
      "metadata": {
        "deletable": false,
        "editable": false,
        "nbgrader": {
          "cell_type": "code",
          "checksum": "336f7b141797be4ade6db0acc52f258d",
          "grade": true,
          "grade_id": "cell-631ebe25bd655d2f",
          "locked": true,
          "points": 1,
          "schema_version": 3,
          "solution": false,
          "task": false
        },
        "id": "To0-8Xpy6I_2"
      },
      "source": [
        "# Task 2 - Test\n",
        "# Hidden tests - you will see the results when you submit to Canvas"
      ],
      "execution_count": 13,
      "outputs": []
    },
    {
      "cell_type": "markdown",
      "metadata": {
        "id": "p-dC58hMvRYt"
      },
      "source": [
        "**Task 3** - Create a plot\n",
        "\n",
        "This task will not be autograded - but it is part of the project!\n",
        "\n",
        "Create a scatterplot showing the relationship between brain weight and head size.  Make sure to plot the correct variable on the correct axis and label your axes.\n",
        "\n",
        "* import your plotting library\n",
        "* plot your x- and y-variables on a scatter plot\n",
        "* label the axes\n",
        "* give your plot a title!"
      ]
    },
    {
      "cell_type": "code",
      "metadata": {
        "deletable": false,
        "id": "sVZOz0j8xLb4",
        "nbgrader": {
          "cell_type": "code",
          "checksum": "3ade2e63e95a1cfb3871b903290756b7",
          "grade": false,
          "grade_id": "cell-e12fa4ed788aaf45",
          "locked": false,
          "schema_version": 3,
          "solution": true,
          "task": false
        },
        "outputId": "98be7014-08e0-42e1-e539-5b4c51efc681",
        "colab": {
          "base_uri": "https://localhost:8080/",
          "height": 295
        }
      },
      "source": [
        "# Task 3\n",
        "# (NOT autograded but fill in your code!)\n",
        "\n",
        "# YOUR CODE HERE\n",
        "import matplotlib.pyplot as plt\n",
        "\n",
        "fig, ax = plt.subplots() \n",
        "\n",
        "#Plot the scatterplot#\n",
        "\n",
        "plt.scatter(x = ind_x, y = dep_y)\n",
        "\n",
        "ax.set_title('Effect of Head Size on Brain Weight')\n",
        "ax.set_xlabel('Head Size in Cubic CM')\n",
        "ax.set_ylabel('Brain Weight in KG')\n",
        "\n",
        "\n",
        "plt.show()"
      ],
      "execution_count": 14,
      "outputs": [
        {
          "output_type": "display_data",
          "data": {
            "image/png": "[encoded data removed]",
            "text/plain": [
              "<Figure size 432x288 with 1 Axes>"
            ]
          },
          "metadata": {
            "tags": [],
            "needs_background": "light"
          }
        }
      ]
    },
    {
      "cell_type": "markdown",
      "metadata": {
        "id": "4eJsXuRLxKrz"
      },
      "source": [
        "**Task 4** - Describe your plot\n",
        "\n",
        "Describe the *strength* and *direction* of the relationship between head size and brain weight.\n",
        "\n",
        "This task will not be autograded - but it is part of the project!"
      ]
    },
    {
      "cell_type": "markdown",
      "metadata": {
        "id": "9VLKDiESxJSR"
      },
      "source": [
        "**Task 4 ANSWER: **\n",
        "\n",
        "There is a clear, positive linear relationship between head size and brain weight. As you can see above, brain weight increases as head size increases and vice versa."
      ]
    },
    {
      "cell_type": "markdown",
      "metadata": {
        "id": "q9zVxcOPwU4Z"
      },
      "source": [
        "**Task 5** - Missing data\n",
        "\n",
        "Now, let's determine if there is any missing data in the dataset. If there is, drop the row that contains a missing value.\n",
        "\n",
        "* check for missing/null values and assign the sum to `num_null` - the result should be the sum of all the null values and a single integer (*Hint: you will compute the sum of a sum*)\n",
        "* if their are null values, drop them in place (your DataFrame should still be (`df`)"
      ]
    },
    {
      "cell_type": "code",
      "metadata": {
        "deletable": false,
        "nbgrader": {
          "cell_type": "code",
          "checksum": "291449e6f1b4c13b40c8510e9f1fff2a",
          "grade": false,
          "grade_id": "cell-be6f6047329c7d29",
          "locked": false,
          "schema_version": 3,
          "solution": true,
          "task": false
        },
        "id": "F1Ia3C9m6JAK",
        "outputId": "e85ba59d-fc5e-4ec5-963a-daaeec714b36",
        "colab": {
          "base_uri": "https://localhost:8080/"
        }
      },
      "source": [
        "# Task 5\n",
        "\n",
        "# YOUR CODE HERE\n",
        "null_values = df.isnull().sum()\n",
        "df = df.dropna()\n",
        "print(df)"
      ],
      "execution_count": 21,
      "outputs": [
        {
          "output_type": "stream",
          "text": [
            "     Gender  Age  Head  Brain\n",
            "0         1    1  4512   1530\n",
            "1         1    1  3738   1297\n",
            "2         1    1  4261   1335\n",
            "3         1    1  3777   1282\n",
            "4         1    1  4177   1590\n",
            "..      ...  ...   ...    ...\n",
            "232       2    2  3214   1110\n",
            "233       2    2  3394   1215\n",
            "234       2    2  3233   1104\n",
            "235       2    2  3352   1170\n",
            "236       2    2  3391   1120\n",
            "\n",
            "[237 rows x 4 columns]\n"
          ],
          "name": "stdout"
        }
      ]
    },
    {
      "cell_type": "markdown",
      "metadata": {
        "id": "DZLucAD96JAR"
      },
      "source": [
        "**Task 5 - Test**"
      ]
    },
    {
      "cell_type": "code",
      "metadata": {
        "deletable": false,
        "editable": false,
        "nbgrader": {
          "cell_type": "code",
          "checksum": "4a7ecb68177d9cc01b7497b93659eb8d",
          "grade": true,
          "grade_id": "cell-701f63265ccd9bb8",
          "locked": true,
          "points": 1,
          "schema_version": 3,
          "solution": false,
          "task": false
        },
        "id": "FVdrCHXq6JAS"
      },
      "source": [
        "# Task 5 - Test\n",
        "# Hidden tests - you will see the results when you submit to Canvas"
      ],
      "execution_count": 23,
      "outputs": []
    },
    {
      "cell_type": "markdown",
      "metadata": {
        "id": "5ZeOv8ELAy8u"
      },
      "source": [
        "**Task 6** - Correlation coefficient\n",
        "\n",
        "Now that's we've explored our data through a plot and checked for null values, we can move on to some calculations. First, we're going to calculate and interpret the correlation coefficient for the relationship between *head size* and *brain weight*.\n",
        "\n",
        "* import numpy\n",
        "* calculate the correlation coefficient and assign it to the variable `corr_coef`"
      ]
    },
    {
      "cell_type": "code",
      "metadata": {
        "deletable": false,
        "id": "GyoPNwziBm-5",
        "nbgrader": {
          "cell_type": "code",
          "checksum": "46ad721b84b99125aae52ad8c3b6e79b",
          "grade": false,
          "grade_id": "cell-0753e360c56efe9e",
          "locked": false,
          "schema_version": 3,
          "solution": true,
          "task": false
        },
        "outputId": "cb50f0c5-b388-4623-ac6c-0d3d293c895a",
        "colab": {
          "base_uri": "https://localhost:8080/"
        }
      },
      "source": [
        "# Task 6\n",
        "\n",
        "# YOUR CODE HERE\n",
        "import numpy as np\n",
        "corr_coef = np.corrcoef(ind_x,dep_y)\n",
        "# View the results\n",
        "print('Correlation coefficient:', corr_coef)"
      ],
      "execution_count": 24,
      "outputs": [
        {
          "output_type": "stream",
          "text": [
            "Correlation coefficient: [[1.         0.79956971]\n",
            " [0.79956971 1.        ]]\n"
          ],
          "name": "stdout"
        }
      ]
    },
    {
      "cell_type": "markdown",
      "metadata": {
        "id": "7A6Bb8yt6JAh"
      },
      "source": [
        "**Task 6 - Test**"
      ]
    },
    {
      "cell_type": "code",
      "metadata": {
        "deletable": false,
        "editable": false,
        "nbgrader": {
          "cell_type": "code",
          "checksum": "8167cac887b90568f402f654e3918a5e",
          "grade": true,
          "grade_id": "cell-7874d478572b8bae",
          "locked": true,
          "points": 1,
          "schema_version": 3,
          "solution": false,
          "task": false
        },
        "id": "KUSIjYxO6JAi"
      },
      "source": [
        "# Task 6 - Test\n",
        "\n",
        "assert isinstance(corr_coef, np.ndarray), 'Your correlation coefficient calculation should return a numpy array.'"
      ],
      "execution_count": 29,
      "outputs": []
    },
    {
      "cell_type": "markdown",
      "metadata": {
        "id": "nIW0qrMg6JAo"
      },
      "source": [
        "**Task 6** - Correlation coefficient written answer\n",
        "\n",
        "Comment on the correlation coefficient value: Does the value align with your above plot? Is it a strong correlation or a weak correlation? In what direction? Your answer is not autograded but it is required for a complete project.\n",
        "\n",
        "The correlation (~0.8) is quite strong between head size and brain weight, and this is in alignment with what we saw in the scatter plot (positive correlation and linear relationship)."
      ]
    },
    {
      "cell_type": "markdown",
      "metadata": {
        "id": "AzdWVytNTTib"
      },
      "source": [
        "**Task 7** - Correlation coefficient, part 2\n",
        "\n",
        "**Without** doing any other calculations, determine the correlation of *brain weight* with *head size*.\n",
        "\n",
        "* assign your result to `corr_coef_2`"
      ]
    },
    {
      "cell_type": "code",
      "metadata": {
        "deletable": false,
        "nbgrader": {
          "cell_type": "code",
          "checksum": "dfaa7c418a5a832a773b6d062d2032a2",
          "grade": false,
          "grade_id": "cell-1a6fe56b6c095212",
          "locked": false,
          "schema_version": 3,
          "solution": true,
          "task": false
        },
        "id": "PmO9v6Vz6JAr",
        "outputId": "0df0f355-ea2e-4c2c-dd77-a9701a857005",
        "colab": {
          "base_uri": "https://localhost:8080/"
        }
      },
      "source": [
        "# Task 7\n",
        "\n",
        "# YOUR CODE HERE\n",
        "corr_coef_2 = np.corrcoef(dep_y, ind_x)\n",
        "\n",
        "# View the results\n",
        "print('Correlation coefficient, part 2:', corr_coef_2)"
      ],
      "execution_count": 28,
      "outputs": [
        {
          "output_type": "stream",
          "text": [
            "Correlation coefficient, part 2: [[1.         0.79956971]\n",
            " [0.79956971 1.        ]]\n"
          ],
          "name": "stdout"
        }
      ]
    },
    {
      "cell_type": "markdown",
      "metadata": {
        "id": "N1DwNk3MrIp3"
      },
      "source": [
        "**Task 7 - Test**"
      ]
    },
    {
      "cell_type": "code",
      "metadata": {
        "deletable": false,
        "editable": false,
        "nbgrader": {
          "cell_type": "code",
          "checksum": "936b964a37f56dd755d19e8c615c152c",
          "grade": true,
          "grade_id": "cell-7d1c7c0e6c6e1e28",
          "locked": true,
          "points": 1,
          "schema_version": 3,
          "solution": false,
          "task": false
        },
        "id": "lIW1vnBa6JAz"
      },
      "source": [
        "# Task 7 - Test\n",
        "\n",
        "# Hidden tests - you will see the results when you submit to Canvas"
      ],
      "execution_count": 30,
      "outputs": []
    },
    {
      "cell_type": "markdown",
      "metadata": {
        "id": "RFa5JXjmxive"
      },
      "source": [
        "**Task 8** - Linear model\n",
        "\n",
        "Now that we've calculated the correlation coefficient, we going to fit a linear model to our two variables. We'll use the `statsmodels` to calculate the least-squares regression coefficients (slope and intercept). Our two variables are head size (`Head`) and brain weight (`Brain`).\n",
        "\n",
        "* the import statement has been provided (don't edit this)\n",
        "* create and fit your model in one step; assign it to `model` (*Hint: remember the format of the input data is `Y ~ X`*)\n",
        "* using the `model.params` method, assign the slope to the variable `slope`\n",
        "* using the same `model.params` method, assign the intercept to the variable `intercept`"
      ]
    },
    {
      "cell_type": "code",
      "metadata": {
        "deletable": false,
        "id": "dWWiUtwTyHp2",
        "nbgrader": {
          "cell_type": "code",
          "checksum": "cb2b00c07b59976c3eed2aa7aeb6ce31",
          "grade": false,
          "grade_id": "cell-34c43054fcb49e9c",
          "locked": false,
          "schema_version": 3,
          "solution": true,
          "task": false
        },
        "outputId": "6ab00d14-f9bd-4545-ec1d-5ce0c0b32586",
        "colab": {
          "base_uri": "https://localhost:8080/"
        }
      },
      "source": [
        "# Task 8\n",
        "\n",
        "# Import OLS from statsmodel\n",
        "from statsmodels.formula.api import ols\n",
        "\n",
        "# YOUR CODE HERE\n",
        "mode1 = ols('Brain ~ Head', data=df).fit()\n",
        "slope = mode1.params[1]\n",
        "intercept = mode1.params[0]\n",
        "\n",
        "# View the model parameters\n",
        "print('The slope is:', slope)\n",
        "print('The intercept is:', intercept)"
      ],
      "execution_count": 34,
      "outputs": [
        {
          "output_type": "stream",
          "text": [
            "/usr/local/lib/python3.6/dist-packages/statsmodels/tools/_testing.py:19: FutureWarning: pandas.util.testing is deprecated. Use the functions in the public API at pandas.testing instead.\n",
            "  import pandas.util.testing as tm\n"
          ],
          "name": "stderr"
        },
        {
          "output_type": "stream",
          "text": [
            "The slope is: 0.2634293394893992\n",
            "The intercept is: 325.573421049442\n"
          ],
          "name": "stdout"
        }
      ]
    },
    {
      "cell_type": "markdown",
      "metadata": {
        "id": "HiUGaDPs6JBB"
      },
      "source": [
        "**Task 8 - Test**"
      ]
    },
    {
      "cell_type": "code",
      "metadata": {
        "deletable": false,
        "editable": false,
        "nbgrader": {
          "cell_type": "code",
          "checksum": "f72a6d5cbda40e269ed003cf89c1f106",
          "grade": true,
          "grade_id": "cell-730fe2c573964f36",
          "locked": true,
          "points": 1,
          "schema_version": 3,
          "solution": false,
          "task": false
        },
        "id": "DLEucqHI6JBC"
      },
      "source": [
        "# Task 8 - Test\n",
        "\n",
        "# Hidden tests - you will see the results when you submit to Canvas"
      ],
      "execution_count": 35,
      "outputs": []
    },
    {
      "cell_type": "markdown",
      "metadata": {
        "id": "aAAlveuK050b"
      },
      "source": [
        "**Task 9** - Writing the linear equation\n",
        "\n",
        "Use the model output above to write the linear model relating head size to brain weight. Fill in the *b* terms in the following equation with the correct numbers from above. Your answer is not autograded but it is required for a complete project.\n",
        "\n",
        "$$\\hat{Y} = b_0 + b_1X$$"
      ]
    },
    {
      "cell_type": "code",
      "metadata": {
        "id": "12g11N72APMN",
        "outputId": "1f788a21-930a-4933-bce5-92d587f8a401",
        "colab": {
          "base_uri": "https://localhost:8080/",
          "height": 129
        }
      },
      "source": [
        "$\\hat{Y} = intercept + slope X$\n"
      ],
      "execution_count": 50,
      "outputs": [
        {
          "output_type": "error",
          "ename": "SyntaxError",
          "evalue": "ignored",
          "traceback": [
            "\u001b[0;36m  File \u001b[0;32m\"<ipython-input-50-a2d94f368ea8>\"\u001b[0;36m, line \u001b[0;32m1\u001b[0m\n\u001b[0;31m    $\\hat{Y} = 325.57 + 0.26 X$\u001b[0m\n\u001b[0m    ^\u001b[0m\n\u001b[0;31mSyntaxError\u001b[0m\u001b[0;31m:\u001b[0m invalid syntax\n"
          ]
        }
      ]
    },
    {
      "cell_type": "markdown",
      "metadata": {
        "id": "_KlS62UB1UAi"
      },
      "source": [
        "**Task  10** - Interpreting the equation\n",
        "\n",
        "Answer the following questions about the slope and intercept parameters. Your answer is not autograded but it is required for a complete project.\n",
        "\n",
        "10a - What does the slope term tell us about the relationship between head size and brain weight? Make sure to include the units of the variables in your answer!\n",
        "\n",
        "10b - What does the intercept tell us about the relationship between head size and brain weight? *Hint: Think about what a negative intercept means in terms of weight and size - can you have a negative weight?*\n",
        "\n",
        "---\n",
        "\n",
        "10a: the slope tells us that we would expect brain weight to increase 26kg for every additional cubic cm of head size.\n",
        "\n",
        "10b: The positive intercept should tell us the expected brain weight in kg (325kg) when a head size is equal to 0 cubic cm. Although, it doesn't make sense to interpret the intercept in this case since a head must be greater than 0 cubic cm in size for a brain to exist."
      ]
    },
    {
      "cell_type": "markdown",
      "metadata": {
        "id": "f0NjkceYb2sY"
      },
      "source": [
        "**Task 11** - Scatterplot with regression line\n",
        "\n",
        "Create a scatterplot with the regression line overlayed on top of the data. You can do this either with the seaborn plotting library or with matplotlib.\n",
        "\n",
        "**Tips**\n",
        "\n",
        "* If you use seaborn, turn off the confidence interval plotting (`ci=None`).\n",
        "* If you use matplotlib, you'll have to generate the data for the line using the equation you wrote in Task 9\n",
        "\n",
        "Write your plotting code below. Your plot will not be autograded but it is required for a complete project!"
      ]
    },
    {
      "cell_type": "code",
      "metadata": {
        "deletable": false,
        "id": "dKxmzQLYabfm",
        "nbgrader": {
          "cell_type": "code",
          "checksum": "aa36dce40983caa0d079396ad0b0ef99",
          "grade": false,
          "grade_id": "cell-b5053b5a757a7af3",
          "locked": false,
          "schema_version": 3,
          "solution": true,
          "task": false
        },
        "outputId": "b2e43421-db88-486f-c531-3ed88adfa2ed",
        "colab": {
          "base_uri": "https://localhost:8080/",
          "height": 279
        }
      },
      "source": [
        "# Task 11\n",
        "\n",
        "# Plotting code here; not autograde3d\n",
        "# YOUR CODE HERE\n",
        "\n",
        "import seaborn as sns\n",
        "\n",
        "ax = sns.regplot(x = 'Head', y = \"Brain\", data=df, ci = None)\n"
      ],
      "execution_count": 51,
      "outputs": [
        {
          "output_type": "display_data",
          "data": {
            "image/png": "[encoded data removed]",
            "text/plain": [
              "<Figure size 432x288 with 1 Axes>"
            ]
          },
          "metadata": {
            "tags": [],
            "needs_background": "light"
          }
        }
      ]
    },
    {
      "cell_type": "markdown",
      "metadata": {
        "id": "7dySccNE3pX7"
      },
      "source": [
        "**Task 12** - Making a prediction\n",
        "\n",
        "We're going to use our model to make a prediction. A healthy human has a brain size of 4100 cubic cm. How much do we expect his or her brain to weigh?\n",
        "\n",
        "* assign the value 4100 to the variable `x_healthy`\n",
        "* using your `slope` and `intercept` values, determine the weight of a brain of size `x_healthy`; assign this value to `predict_healthy`\n"
      ]
    },
    {
      "cell_type": "code",
      "metadata": {
        "deletable": false,
        "id": "BNV0bbzH4NFX",
        "nbgrader": {
          "cell_type": "code",
          "checksum": "5b6f30c1b2e8f4045500199d5f2f3028",
          "grade": false,
          "grade_id": "cell-e53d89ddafc02ccf",
          "locked": false,
          "schema_version": 3,
          "solution": true,
          "task": false
        },
        "outputId": "8a5d5d7d-cbad-49f5-fb94-7d577037a80c",
        "colab": {
          "base_uri": "https://localhost:8080/"
        }
      },
      "source": [
        "# Task 12\n",
        "\n",
        "# YOUR CODE HERE\n",
        "x_healthy = 4100\n",
        "predict_healthy = intercept + slope*x_healthy\n",
        "\n",
        "# View your prediction\n",
        "print('Prediction for a brain size of 4100 cc:', predict_healthy)"
      ],
      "execution_count": 52,
      "outputs": [
        {
          "output_type": "stream",
          "text": [
            "Prediction for a brain size of 4100 cc: 1405.6337129559786\n"
          ],
          "name": "stdout"
        }
      ]
    },
    {
      "cell_type": "markdown",
      "metadata": {
        "id": "OnGU23JI6C1r"
      },
      "source": [
        "**Task 12 - Test**"
      ]
    },
    {
      "cell_type": "code",
      "metadata": {
        "deletable": false,
        "editable": false,
        "nbgrader": {
          "cell_type": "code",
          "checksum": "4ef095d656067d072052fb9c282bfc82",
          "grade": true,
          "grade_id": "cell-d26901edcca8a728",
          "locked": true,
          "points": 1,
          "schema_version": 3,
          "solution": false,
          "task": false
        },
        "id": "O0mYD0h66JBZ"
      },
      "source": [
        "# Task 12 - Test\n",
        "\n",
        "assert x_healthy == 4100, \"Make sure to correct set your x variable.\""
      ],
      "execution_count": 53,
      "outputs": []
    },
    {
      "cell_type": "markdown",
      "metadata": {
        "id": "rogizl36Bape"
      },
      "source": [
        "**Task 13** - Calculating a residual\n",
        "\n",
        "Now that we've made a prediction, we can take a look at a *model residual*. For this task, you will calculate and interpret the model residual for the first observation in the dataset. Remember that the first observation in the dataset is `Head`=4512 cubic centimeters.\n",
        "\n",
        "* assign the value of 4512 to the variable `x_first`\n",
        "* assign the value of the first observation for `Brain` to the variable `observed_first` (*it is your job to look-up this value in your DataFrame)\n",
        "* calculate the predicted value and assign it to the variable `predict_first`\n",
        "* calculate the residual and assign it to the variable `residual_first` (*Hint: use the equation observed - predicted*)"
      ]
    },
    {
      "cell_type": "code",
      "metadata": {
        "deletable": false,
        "id": "L9_qbtRtBnvr",
        "nbgrader": {
          "cell_type": "code",
          "checksum": "e887e0f5f99e04a5809c27cd1914d750",
          "grade": false,
          "grade_id": "cell-495335b2126a454d",
          "locked": false,
          "schema_version": 3,
          "solution": true,
          "task": false
        },
        "outputId": "ee873284-c37e-41cd-c088-7eedd71d6f0b",
        "colab": {
          "base_uri": "https://localhost:8080/"
        }
      },
      "source": [
        "# Task 13\n",
        "\n",
        "# YOUR CODE HERE\n",
        "x_first = 4512\n",
        "observed_first = dep_y[0]\n",
        "predict_first = intercept + slope*x_first\n",
        "\n",
        "residual_first = observed_first - predict_first\n",
        "\n",
        "# View your prediction and residual \n",
        "print('Prediction for a brain size of 4512 cc:', predict_first)\n",
        "print('Residual for the prediction:', residual_first)"
      ],
      "execution_count": 58,
      "outputs": [
        {
          "output_type": "stream",
          "text": [
            "Prediction for a brain size of 4512 cc: 1514.166600825611\n",
            "Residual for the prediction: 15.833399174388887\n"
          ],
          "name": "stdout"
        }
      ]
    },
    {
      "cell_type": "markdown",
      "metadata": {
        "id": "sO1jlNW36JBm"
      },
      "source": [
        "**Task 13 - Test**"
      ]
    },
    {
      "cell_type": "code",
      "metadata": {
        "deletable": false,
        "editable": false,
        "nbgrader": {
          "cell_type": "code",
          "checksum": "8b61a278a2ab888404a0dd2b75567800",
          "grade": true,
          "grade_id": "cell-10ee8c2149d64bdd",
          "locked": true,
          "points": 1,
          "schema_version": 3,
          "solution": false,
          "task": false
        },
        "id": "VYEW80VK6JBn"
      },
      "source": [
        "# Task 13 - Test\n",
        "\n",
        "assert x_first == 4512, \"Make sure to correct set your x variable.\""
      ],
      "execution_count": 59,
      "outputs": []
    },
    {
      "cell_type": "markdown",
      "metadata": {
        "id": "C4NzMnGd7bVI"
      },
      "source": [
        "## Part B\n",
        "\n",
        "### Sleep Data\n",
        "\n",
        "\n",
        "Use the following information to answer Tasks 14 - 16 in the rest of this project:\n",
        "\n",
        "Researchers recorded data on sleep duration as well as a set of ecological and constitutional variables for a selection of mammal species. This data is available in the Sleep.csv dataset; the URL is provided below. \n",
        "\n",
        "(*Source: Allison, T. and Cicchetti, D. (1976), \"Sleep in Mammals: Ecological and Constitutional Correlates\",  Science, November 12, vol. 194, pp. 732-734.*)\n",
        "\n",
        "**Data Dictionary:**\n",
        "\n",
        "| Variable Name |            Description           |                                                                 Details                                                                 |              |   |\n",
        "|:-------------:|:--------------------------------:|:---------------------------------------------------------------------------------------------------------------------------------------:|--------------|---|\n",
        "| Animal        |            Animal name           |                                                            Character [string]                                                           |    |   |\n",
        "| Body          |            Body weight           |                                                               Numeric [kg]                                                              |       |   |\n",
        "| Brain         |           Brain weight           |                                                               Numeric [g]                                                               |  |   |\n",
        "| SWsleep       | Slow wave (“non-dreaming”) sleep | Numeric [hours]                                                                                                                         |              |   |\n",
        "| Parasleep     | Paradoxical (“dreaming”) sleep   | Numeric [hours]                                                                                                                         |              |   |\n",
        "| Totsleep      | Total sleep                      | Numeric [hours]                                                                                                                         |              |   |\n",
        "| Life          | Maximum life expectancy          | Numeric [years]                                                                                                                         |              |   |\n",
        "| Gest          | Gestation time                   | Numeric [days]                                                                                                                          |              |   |\n",
        "| Pred          | Predation index                  | Numeric [1 – 5] 1 = least likely to be preyed upon, 5 = most likely to be preyed upon                                                   |              |   |\n",
        "| Exposure      | Sleep exposure index             | Numeric [1 – 5] 1 = least amount of exposure during sleep (mammal sleeps indoors or in a den), 5 = most amount of exposure during sleep |              |   |\n",
        "| Danger        | Overall danger index             | Numeric [ 1 – 5] 1 = least amount of danger from other animals, 5 = most amount of danger from other animals                            |              |   |\n",
        "\n"
      ]
    },
    {
      "cell_type": "markdown",
      "metadata": {
        "id": "VXNXuBOr6JBu"
      },
      "source": [
        "**Task 14**\n",
        "\n",
        "Before we can look at the data, we need to load in the data. The URL has been provided.\n",
        "\n",
        "* load in the CSV file as a DataFrame and assign it to the variable `df_sleep`\n",
        "* make sure to view the DataFrame!"
      ]
    },
    {
      "cell_type": "code",
      "metadata": {
        "deletable": false,
        "id": "lAGRV2LkuKyw",
        "nbgrader": {
          "cell_type": "code",
          "checksum": "bc49066b4e5758cef31a20f95bbb3d64",
          "grade": false,
          "grade_id": "cell-55ea1290b6484513",
          "locked": false,
          "schema_version": 3,
          "solution": true,
          "task": false
        },
        "outputId": "43ab6e74-f3a2-44de-a0ac-67cb5e07c9c7",
        "colab": {
          "base_uri": "https://localhost:8080/",
          "height": 204
        }
      },
      "source": [
        "# Task 14\n",
        "\n",
        "data_url_2 = 'https://raw.githubusercontent.com/LambdaSchool/data-science-practice-datasets/main/unit_1/Sleep/Sleep.csv'\n",
        "\n",
        "# YOUR CODE HERE\n",
        "df_sleep = pd.read_csv(data_url_2, skipinitialspace=True, header=0)\n",
        "# Print out your DataFrame\n",
        "df_sleep.head()"
      ],
      "execution_count": 75,
      "outputs": [
        {
          "output_type": "execute_result",
          "data": {
            "text/html": [
              "<div>\n",
              "<style scoped>\n",
              "    .dataframe tbody tr th:only-of-type {\n",
              "        vertical-align: middle;\n",
              "    }\n",
              "\n",
              "    .dataframe tbody tr th {\n",
              "        vertical-align: top;\n",
              "    }\n",
              "\n",
              "    .dataframe thead th {\n",
              "        text-align: right;\n",
              "    }\n",
              "</style>\n",
              "<table border=\"1\" class=\"dataframe\">\n",
              "  <thead>\n",
              "    <tr style=\"text-align: right;\">\n",
              "      <th></th>\n",
              "      <th>Animal</th>\n",
              "      <th>Body</th>\n",
              "      <th>Brain</th>\n",
              "      <th>SWsleep</th>\n",
              "      <th>Parasleep</th>\n",
              "      <th>Totsleep</th>\n",
              "      <th>Life</th>\n",
              "      <th>Gest</th>\n",
              "      <th>Pred</th>\n",
              "      <th>Exposure</th>\n",
              "      <th>Danger</th>\n",
              "    </tr>\n",
              "  </thead>\n",
              "  <tbody>\n",
              "    <tr>\n",
              "      <th>0</th>\n",
              "      <td>African_giant_pouched_rat</td>\n",
              "      <td>1.000</td>\n",
              "      <td>6.6</td>\n",
              "      <td>6.3</td>\n",
              "      <td>2.0</td>\n",
              "      <td>8.3</td>\n",
              "      <td>4.5</td>\n",
              "      <td>42.0</td>\n",
              "      <td>3</td>\n",
              "      <td>1</td>\n",
              "      <td>3</td>\n",
              "    </tr>\n",
              "    <tr>\n",
              "      <th>1</th>\n",
              "      <td>Asian_elephant</td>\n",
              "      <td>2547.000</td>\n",
              "      <td>4603.0</td>\n",
              "      <td>2.1</td>\n",
              "      <td>1.8</td>\n",
              "      <td>3.9</td>\n",
              "      <td>69.0</td>\n",
              "      <td>624.0</td>\n",
              "      <td>3</td>\n",
              "      <td>5</td>\n",
              "      <td>4</td>\n",
              "    </tr>\n",
              "    <tr>\n",
              "      <th>2</th>\n",
              "      <td>Baboon</td>\n",
              "      <td>10.550</td>\n",
              "      <td>179.5</td>\n",
              "      <td>9.1</td>\n",
              "      <td>0.7</td>\n",
              "      <td>9.8</td>\n",
              "      <td>27.0</td>\n",
              "      <td>180.0</td>\n",
              "      <td>4</td>\n",
              "      <td>4</td>\n",
              "      <td>4</td>\n",
              "    </tr>\n",
              "    <tr>\n",
              "      <th>3</th>\n",
              "      <td>Big_brown_bat</td>\n",
              "      <td>0.023</td>\n",
              "      <td>0.3</td>\n",
              "      <td>15.8</td>\n",
              "      <td>3.9</td>\n",
              "      <td>19.7</td>\n",
              "      <td>19.0</td>\n",
              "      <td>35.0</td>\n",
              "      <td>1</td>\n",
              "      <td>1</td>\n",
              "      <td>1</td>\n",
              "    </tr>\n",
              "    <tr>\n",
              "      <th>4</th>\n",
              "      <td>Brazilian_tapir</td>\n",
              "      <td>160.000</td>\n",
              "      <td>169.0</td>\n",
              "      <td>5.2</td>\n",
              "      <td>1.0</td>\n",
              "      <td>6.2</td>\n",
              "      <td>30.4</td>\n",
              "      <td>392.0</td>\n",
              "      <td>4</td>\n",
              "      <td>5</td>\n",
              "      <td>4</td>\n",
              "    </tr>\n",
              "  </tbody>\n",
              "</table>\n",
              "</div>"
            ],
            "text/plain": [
              "                      Animal      Body   Brain  ...  Pred  Exposure  Danger\n",
              "0  African_giant_pouched_rat     1.000     6.6  ...     3         1       3\n",
              "1             Asian_elephant  2547.000  4603.0  ...     3         5       4\n",
              "2                     Baboon    10.550   179.5  ...     4         4       4\n",
              "3              Big_brown_bat     0.023     0.3  ...     1         1       1\n",
              "4            Brazilian_tapir   160.000   169.0  ...     4         5       4\n",
              "\n",
              "[5 rows x 11 columns]"
            ]
          },
          "metadata": {
            "tags": []
          },
          "execution_count": 75
        }
      ]
    },
    {
      "cell_type": "markdown",
      "metadata": {
        "id": "xYIcwWbG6JB2"
      },
      "source": [
        "**Task 14 - Test**"
      ]
    },
    {
      "cell_type": "code",
      "metadata": {
        "deletable": false,
        "editable": false,
        "nbgrader": {
          "cell_type": "code",
          "checksum": "b637b84401ea04191807b8f1ab218c81",
          "grade": true,
          "grade_id": "cell-bdadecfb395ed39a",
          "locked": true,
          "points": 1,
          "schema_version": 3,
          "solution": false,
          "task": false
        },
        "id": "ILTEJMS96JB3"
      },
      "source": [
        "# Task 14 - Test\n",
        "\n",
        "assert isinstance(df_sleep, pd.DataFrame), 'Have you created a DataFrame named `df_sleep`?'\n",
        "assert len(df_sleep) == 42\n"
      ],
      "execution_count": 76,
      "outputs": []
    },
    {
      "cell_type": "markdown",
      "metadata": {
        "id": "bren8oq27vGP"
      },
      "source": [
        "**Task 15**\n",
        "\n",
        "Write a function that replaces the `_` character in each animal name with a space.  For example,  Asian_elephant = Asian elephant.\n",
        "\n",
        "Hint: use the `string.replace()` string method. Look up the documentation or the Canvas material to help.\n",
        "\n",
        "* write your function and define it with the name `name_nospace`\n",
        "* use your function to add an additional column to the `df_sleep` DataFrame; this new column should be named `Animal_name`. (*Hint: consider using the `.apply()` method on your DataFrame*)"
      ]
    },
    {
      "cell_type": "code",
      "metadata": {
        "deletable": false,
        "id": "IDTgzW2B8RLn",
        "nbgrader": {
          "cell_type": "code",
          "checksum": "fb3de921935bc289e143d0d9f58e5efc",
          "grade": false,
          "grade_id": "cell-304116e44bf4977b",
          "locked": false,
          "schema_version": 3,
          "solution": true,
          "task": false
        },
        "outputId": "c118c1ea-4353-4ac3-b21a-77c0bd7e0342",
        "colab": {
          "base_uri": "https://localhost:8080/",
          "height": 204
        }
      },
      "source": [
        "# Task 15\n",
        "\n",
        "# Write your function here\n",
        "def name_nospace(x):\n",
        "  y = x.replace(\"_\", \" \")\n",
        "  return y\n",
        "\n",
        "# YOUR CODE HERE\n",
        "df_sleep['Animal_name'] = df_sleep['Animal'].apply(name_nospace)\n",
        "\n",
        "# View your DataFrame\n",
        "df_sleep.head()"
      ],
      "execution_count": 82,
      "outputs": [
        {
          "output_type": "execute_result",
          "data": {
            "text/html": [
              "<div>\n",
              "<style scoped>\n",
              "    .dataframe tbody tr th:only-of-type {\n",
              "        vertical-align: middle;\n",
              "    }\n",
              "\n",
              "    .dataframe tbody tr th {\n",
              "        vertical-align: top;\n",
              "    }\n",
              "\n",
              "    .dataframe thead th {\n",
              "        text-align: right;\n",
              "    }\n",
              "</style>\n",
              "<table border=\"1\" class=\"dataframe\">\n",
              "  <thead>\n",
              "    <tr style=\"text-align: right;\">\n",
              "      <th></th>\n",
              "      <th>Animal</th>\n",
              "      <th>Body</th>\n",
              "      <th>Brain</th>\n",
              "      <th>SWsleep</th>\n",
              "      <th>Parasleep</th>\n",
              "      <th>Totsleep</th>\n",
              "      <th>Life</th>\n",
              "      <th>Gest</th>\n",
              "      <th>Pred</th>\n",
              "      <th>Exposure</th>\n",
              "      <th>Danger</th>\n",
              "      <th>Animal_name</th>\n",
              "    </tr>\n",
              "  </thead>\n",
              "  <tbody>\n",
              "    <tr>\n",
              "      <th>0</th>\n",
              "      <td>African_giant_pouched_rat</td>\n",
              "      <td>1.000</td>\n",
              "      <td>6.6</td>\n",
              "      <td>6.3</td>\n",
              "      <td>2.0</td>\n",
              "      <td>8.3</td>\n",
              "      <td>4.5</td>\n",
              "      <td>42.0</td>\n",
              "      <td>3</td>\n",
              "      <td>1</td>\n",
              "      <td>3</td>\n",
              "      <td>African giant pouched rat</td>\n",
              "    </tr>\n",
              "    <tr>\n",
              "      <th>1</th>\n",
              "      <td>Asian_elephant</td>\n",
              "      <td>2547.000</td>\n",
              "      <td>4603.0</td>\n",
              "      <td>2.1</td>\n",
              "      <td>1.8</td>\n",
              "      <td>3.9</td>\n",
              "      <td>69.0</td>\n",
              "      <td>624.0</td>\n",
              "      <td>3</td>\n",
              "      <td>5</td>\n",
              "      <td>4</td>\n",
              "      <td>Asian elephant</td>\n",
              "    </tr>\n",
              "    <tr>\n",
              "      <th>2</th>\n",
              "      <td>Baboon</td>\n",
              "      <td>10.550</td>\n",
              "      <td>179.5</td>\n",
              "      <td>9.1</td>\n",
              "      <td>0.7</td>\n",
              "      <td>9.8</td>\n",
              "      <td>27.0</td>\n",
              "      <td>180.0</td>\n",
              "      <td>4</td>\n",
              "      <td>4</td>\n",
              "      <td>4</td>\n",
              "      <td>Baboon</td>\n",
              "    </tr>\n",
              "    <tr>\n",
              "      <th>3</th>\n",
              "      <td>Big_brown_bat</td>\n",
              "      <td>0.023</td>\n",
              "      <td>0.3</td>\n",
              "      <td>15.8</td>\n",
              "      <td>3.9</td>\n",
              "      <td>19.7</td>\n",
              "      <td>19.0</td>\n",
              "      <td>35.0</td>\n",
              "      <td>1</td>\n",
              "      <td>1</td>\n",
              "      <td>1</td>\n",
              "      <td>Big brown bat</td>\n",
              "    </tr>\n",
              "    <tr>\n",
              "      <th>4</th>\n",
              "      <td>Brazilian_tapir</td>\n",
              "      <td>160.000</td>\n",
              "      <td>169.0</td>\n",
              "      <td>5.2</td>\n",
              "      <td>1.0</td>\n",
              "      <td>6.2</td>\n",
              "      <td>30.4</td>\n",
              "      <td>392.0</td>\n",
              "      <td>4</td>\n",
              "      <td>5</td>\n",
              "      <td>4</td>\n",
              "      <td>Brazilian tapir</td>\n",
              "    </tr>\n",
              "  </tbody>\n",
              "</table>\n",
              "</div>"
            ],
            "text/plain": [
              "                      Animal      Body  ...  Danger                Animal_name\n",
              "0  African_giant_pouched_rat     1.000  ...       3  African giant pouched rat\n",
              "1             Asian_elephant  2547.000  ...       4             Asian elephant\n",
              "2                     Baboon    10.550  ...       4                     Baboon\n",
              "3              Big_brown_bat     0.023  ...       1              Big brown bat\n",
              "4            Brazilian_tapir   160.000  ...       4            Brazilian tapir\n",
              "\n",
              "[5 rows x 12 columns]"
            ]
          },
          "metadata": {
            "tags": []
          },
          "execution_count": 82
        }
      ]
    },
    {
      "cell_type": "markdown",
      "metadata": {
        "id": "hWcdrbH06JCK"
      },
      "source": [
        "**Task 15 - Test**"
      ]
    },
    {
      "cell_type": "code",
      "metadata": {
        "deletable": false,
        "editable": false,
        "nbgrader": {
          "cell_type": "code",
          "checksum": "ff7093a99a757d7b10a201e7320778c6",
          "grade": true,
          "grade_id": "cell-2986063fe6fc3654",
          "locked": true,
          "points": 1,
          "schema_version": 3,
          "solution": false,
          "task": false
        },
        "id": "L8d1dq5F6JCR"
      },
      "source": [
        "# Task 15 - Test\n",
        "\n",
        "assert name_nospace('Test_name') == 'Test name', 'Double check your function and that it returns the correct name.'\n"
      ],
      "execution_count": 83,
      "outputs": []
    },
    {
      "cell_type": "markdown",
      "metadata": {
        "id": "y0MUOeae-P2z"
      },
      "source": [
        "**Task 15** - Plotting relationships\n",
        "\n",
        "For this task, you will plot the relationships between three different variables: life expectancy, total sleep, and gestation time. We want to look at pairs of relationships, so we'll make use of the seaborn pairplot\n",
        "\n",
        "* use `sns.pairplot` to plot these three variables\n",
        "\n",
        "This task will not be autograded - but it is part of the project!"
      ]
    },
    {
      "cell_type": "code",
      "metadata": {
        "deletable": false,
        "id": "d8oTfgl5-WPG",
        "nbgrader": {
          "cell_type": "code",
          "checksum": "813656ea9b39f27fc67a333ade06cb04",
          "grade": false,
          "grade_id": "cell-4e0310944557a4d6",
          "locked": false,
          "schema_version": 3,
          "solution": true,
          "task": false
        },
        "outputId": "d03bd775-1596-467c-9fbd-10d887831bc3",
        "colab": {
          "base_uri": "https://localhost:8080/",
          "height": 567
        }
      },
      "source": [
        "# Task 15\n",
        "\n",
        "# Plotting code here; not autograde3d\n",
        "# YOUR CODE HERE\n",
        "import seaborn as sns\n",
        "\n",
        "to_plot = df_sleep[['Totsleep','Life','Gest']]\n",
        "\n",
        "sns.pairplot(to_plot)\n"
      ],
      "execution_count": 84,
      "outputs": [
        {
          "output_type": "execute_result",
          "data": {
            "text/plain": [
              "<seaborn.axisgrid.PairGrid at 0x7f3299f97390>"
            ]
          },
          "metadata": {
            "tags": []
          },
          "execution_count": 84
        },
        {
          "output_type": "display_data",
          "data": {
            "image/png": "[encoded data removed]",
            "text/plain": [
              "<Figure size 540x540 with 12 Axes>"
            ]
          },
          "metadata": {
            "tags": [],
            "needs_background": "light"
          }
        }
      ]
    },
    {
      "cell_type": "markdown",
      "metadata": {
        "id": "vOHOv5cc-plj"
      },
      "source": [
        "**Task 16** - Correlation calculations\n",
        "\n",
        "On this final graded task, we're going to complete two more correlation calculations.\n",
        "\n",
        "* Calculate the correlation between life expectancy and total sleep - assign your result to `corr_life_sleep`\n",
        "* Calculate the correlation between gestation time and total sleep - assign your result to `corr_gest_sleep`"
      ]
    },
    {
      "cell_type": "code",
      "metadata": {
        "deletable": false,
        "nbgrader": {
          "cell_type": "code",
          "checksum": "323a8eac68bc02276a9d9d58be92b68a",
          "grade": false,
          "grade_id": "cell-c24f71c01d7b61ce",
          "locked": false,
          "schema_version": 3,
          "solution": true,
          "task": false
        },
        "id": "3PWX-fbb6JCf",
        "outputId": "62c1e26c-3ee8-491f-99be-b1e9d15ae700",
        "colab": {
          "base_uri": "https://localhost:8080/"
        }
      },
      "source": [
        "# Task 16\n",
        "\n",
        "# YOUR CODE HERE\n",
        "import numpy as np\n",
        "corr_life_sleep = np.corrcoef(df_sleep['Life'],df_sleep['Totsleep'])\n",
        "corr_gest_sleep = np.corrcoef(df_sleep['Gest'],df_sleep['Totsleep'])\n",
        "\n",
        "\n",
        "print(\"Correlation between total sleep and life expectancy=\", corr_life_sleep[0,1])\n",
        "print(\"Correlation between total sleep and gestation time=\", corr_gest_sleep[0,1])"
      ],
      "execution_count": 90,
      "outputs": [
        {
          "output_type": "stream",
          "text": [
            "Correlation between total sleep and life expectancy= -0.3824461769490717\n",
            "Correlation between total sleep and gestation time= -0.6144743061371066\n"
          ],
          "name": "stdout"
        }
      ]
    },
    {
      "cell_type": "markdown",
      "metadata": {
        "id": "XuTC25cd6JCl"
      },
      "source": [
        "**Task 16 - Test**"
      ]
    },
    {
      "cell_type": "code",
      "metadata": {
        "deletable": false,
        "editable": false,
        "id": "DlhS1o27-ss8",
        "nbgrader": {
          "cell_type": "code",
          "checksum": "b9c2c7ad06bcb852a9887f663491b774",
          "grade": true,
          "grade_id": "cell-a10442996184bd9c",
          "locked": true,
          "points": 1,
          "schema_version": 3,
          "solution": false,
          "task": false
        }
      },
      "source": [
        "# Task 16 - Test\n",
        "\n",
        "# Hidden tests - you will see the results when you submit to Canvas\n"
      ],
      "execution_count": 91,
      "outputs": []
    },
    {
      "cell_type": "markdown",
      "metadata": {
        "id": "LSVXvBZGcF48"
      },
      "source": [
        "## Portfolio Project Assignment\n",
        "\n",
        "We're coming into the home stretch!  Finalize your project results.  Ask any lingering questions, and complete any revisions you have.  This would be a good time to have a classmate take a look at your project and point out anything missing or any obvious errors (they happen to everyone!)."
      ]
    }
  ]
}